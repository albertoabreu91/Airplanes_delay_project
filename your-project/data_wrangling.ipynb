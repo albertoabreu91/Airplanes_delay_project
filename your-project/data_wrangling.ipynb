{
 "cells": [
  {
   "cell_type": "code",
   "execution_count": 7,
   "metadata": {},
   "outputs": [],
   "source": [
    "import pandas as pd\n",
    "import numpy as np\n",
    "import os"
   ]
  },
  {
   "cell_type": "code",
   "execution_count": 21,
   "metadata": {},
   "outputs": [],
   "source": [
    "data = pd.read_csv('unready_data.csv')"
   ]
  },
  {
   "cell_type": "code",
   "execution_count": 22,
   "metadata": {},
   "outputs": [
    {
     "data": {
      "text/html": [
       "<div>\n",
       "<style scoped>\n",
       "    .dataframe tbody tr th:only-of-type {\n",
       "        vertical-align: middle;\n",
       "    }\n",
       "\n",
       "    .dataframe tbody tr th {\n",
       "        vertical-align: top;\n",
       "    }\n",
       "\n",
       "    .dataframe thead th {\n",
       "        text-align: right;\n",
       "    }\n",
       "</style>\n",
       "<table border=\"1\" class=\"dataframe\">\n",
       "  <thead>\n",
       "    <tr style=\"text-align: right;\">\n",
       "      <th></th>\n",
       "      <th>Unnamed: 0</th>\n",
       "      <th>Unnamed: 0.1</th>\n",
       "      <th>codeshared</th>\n",
       "      <th>flight</th>\n",
       "      <th>status</th>\n",
       "      <th>type</th>\n",
       "      <th>airln_name</th>\n",
       "      <th>airln_code</th>\n",
       "      <th>arri_delay</th>\n",
       "      <th>arri_airpt</th>\n",
       "      <th>schd_arri_time</th>\n",
       "      <th>depart_delay</th>\n",
       "      <th>depart_airpt</th>\n",
       "      <th>schd_depart_time</th>\n",
       "      <th>depart_gate</th>\n",
       "      <th>depart_terminal</th>\n",
       "      <th>icaonumb</th>\n",
       "    </tr>\n",
       "  </thead>\n",
       "  <tbody>\n",
       "    <tr>\n",
       "      <th>0</th>\n",
       "      <td>0</td>\n",
       "      <td>0</td>\n",
       "      <td>NaN</td>\n",
       "      <td>8594</td>\n",
       "      <td>landed</td>\n",
       "      <td>departure</td>\n",
       "      <td>Air Nostrum</td>\n",
       "      <td>YW</td>\n",
       "      <td>NaN</td>\n",
       "      <td>LEI</td>\n",
       "      <td>2019-07-25T10:20:00.000</td>\n",
       "      <td>1.0</td>\n",
       "      <td>MAD</td>\n",
       "      <td>2019-07-25T09:10:00.000</td>\n",
       "      <td>K96</td>\n",
       "      <td>4</td>\n",
       "      <td>ANE8594</td>\n",
       "    </tr>\n",
       "    <tr>\n",
       "      <th>1</th>\n",
       "      <td>1</td>\n",
       "      <td>1</td>\n",
       "      <td>Air Nostrum</td>\n",
       "      <td>8553</td>\n",
       "      <td>landed</td>\n",
       "      <td>departure</td>\n",
       "      <td>American Airlines</td>\n",
       "      <td>AA</td>\n",
       "      <td>24.0</td>\n",
       "      <td>MLN</td>\n",
       "      <td>2019-07-25T12:50:00.000</td>\n",
       "      <td>36.0</td>\n",
       "      <td>MAD</td>\n",
       "      <td>2019-07-25T11:00:00.000</td>\n",
       "      <td>K84</td>\n",
       "      <td>4</td>\n",
       "      <td>AAL8553</td>\n",
       "    </tr>\n",
       "    <tr>\n",
       "      <th>2</th>\n",
       "      <td>2</td>\n",
       "      <td>2</td>\n",
       "      <td>Iberia Express</td>\n",
       "      <td>8781</td>\n",
       "      <td>landed</td>\n",
       "      <td>departure</td>\n",
       "      <td>American Airlines</td>\n",
       "      <td>AA</td>\n",
       "      <td>5.0</td>\n",
       "      <td>DUB</td>\n",
       "      <td>2019-07-25T10:40:00.000</td>\n",
       "      <td>2.0</td>\n",
       "      <td>MAD</td>\n",
       "      <td>2019-07-25T09:10:00.000</td>\n",
       "      <td>NaN</td>\n",
       "      <td>4</td>\n",
       "      <td>AAL8781</td>\n",
       "    </tr>\n",
       "    <tr>\n",
       "      <th>3</th>\n",
       "      <td>3</td>\n",
       "      <td>3</td>\n",
       "      <td>Iberia Express</td>\n",
       "      <td>3792</td>\n",
       "      <td>landed</td>\n",
       "      <td>departure</td>\n",
       "      <td>Iberia</td>\n",
       "      <td>IB</td>\n",
       "      <td>5.0</td>\n",
       "      <td>DUB</td>\n",
       "      <td>2019-07-25T10:40:00.000</td>\n",
       "      <td>2.0</td>\n",
       "      <td>MAD</td>\n",
       "      <td>2019-07-25T09:10:00.000</td>\n",
       "      <td>NaN</td>\n",
       "      <td>4</td>\n",
       "      <td>IBE3792</td>\n",
       "    </tr>\n",
       "    <tr>\n",
       "      <th>4</th>\n",
       "      <td>4</td>\n",
       "      <td>4</td>\n",
       "      <td>Air Nostrum</td>\n",
       "      <td>6956</td>\n",
       "      <td>landed</td>\n",
       "      <td>departure</td>\n",
       "      <td>Qatar Airways</td>\n",
       "      <td>QR</td>\n",
       "      <td>24.0</td>\n",
       "      <td>MLN</td>\n",
       "      <td>2019-07-25T12:50:00.000</td>\n",
       "      <td>36.0</td>\n",
       "      <td>MAD</td>\n",
       "      <td>2019-07-25T11:00:00.000</td>\n",
       "      <td>K84</td>\n",
       "      <td>4</td>\n",
       "      <td>QTR6956</td>\n",
       "    </tr>\n",
       "  </tbody>\n",
       "</table>\n",
       "</div>"
      ],
      "text/plain": [
       "   Unnamed: 0  Unnamed: 0.1      codeshared flight  status       type  \\\n",
       "0           0             0             NaN   8594  landed  departure   \n",
       "1           1             1     Air Nostrum   8553  landed  departure   \n",
       "2           2             2  Iberia Express   8781  landed  departure   \n",
       "3           3             3  Iberia Express   3792  landed  departure   \n",
       "4           4             4     Air Nostrum   6956  landed  departure   \n",
       "\n",
       "          airln_name airln_code  arri_delay arri_airpt  \\\n",
       "0        Air Nostrum         YW         NaN        LEI   \n",
       "1  American Airlines         AA        24.0        MLN   \n",
       "2  American Airlines         AA         5.0        DUB   \n",
       "3             Iberia         IB         5.0        DUB   \n",
       "4      Qatar Airways         QR        24.0        MLN   \n",
       "\n",
       "            schd_arri_time  depart_delay depart_airpt  \\\n",
       "0  2019-07-25T10:20:00.000           1.0          MAD   \n",
       "1  2019-07-25T12:50:00.000          36.0          MAD   \n",
       "2  2019-07-25T10:40:00.000           2.0          MAD   \n",
       "3  2019-07-25T10:40:00.000           2.0          MAD   \n",
       "4  2019-07-25T12:50:00.000          36.0          MAD   \n",
       "\n",
       "          schd_depart_time depart_gate depart_terminal icaonumb  \n",
       "0  2019-07-25T09:10:00.000         K96               4  ANE8594  \n",
       "1  2019-07-25T11:00:00.000         K84               4  AAL8553  \n",
       "2  2019-07-25T09:10:00.000         NaN               4  AAL8781  \n",
       "3  2019-07-25T09:10:00.000         NaN               4  IBE3792  \n",
       "4  2019-07-25T11:00:00.000         K84               4  QTR6956  "
      ]
     },
     "execution_count": 22,
     "metadata": {},
     "output_type": "execute_result"
    }
   ],
   "source": [
    "data.head()"
   ]
  },
  {
   "cell_type": "code",
   "execution_count": 23,
   "metadata": {},
   "outputs": [],
   "source": [
    "data = data.drop(['Unnamed: 0', 'Unnamed: 0.1'], axis =1)"
   ]
  },
  {
   "cell_type": "code",
   "execution_count": 24,
   "metadata": {},
   "outputs": [
    {
     "data": {
      "text/html": [
       "<div>\n",
       "<style scoped>\n",
       "    .dataframe tbody tr th:only-of-type {\n",
       "        vertical-align: middle;\n",
       "    }\n",
       "\n",
       "    .dataframe tbody tr th {\n",
       "        vertical-align: top;\n",
       "    }\n",
       "\n",
       "    .dataframe thead th {\n",
       "        text-align: right;\n",
       "    }\n",
       "</style>\n",
       "<table border=\"1\" class=\"dataframe\">\n",
       "  <thead>\n",
       "    <tr style=\"text-align: right;\">\n",
       "      <th></th>\n",
       "      <th>codeshared</th>\n",
       "      <th>flight</th>\n",
       "      <th>status</th>\n",
       "      <th>type</th>\n",
       "      <th>airln_name</th>\n",
       "      <th>airln_code</th>\n",
       "      <th>arri_delay</th>\n",
       "      <th>arri_airpt</th>\n",
       "      <th>schd_arri_time</th>\n",
       "      <th>depart_delay</th>\n",
       "      <th>depart_airpt</th>\n",
       "      <th>schd_depart_time</th>\n",
       "      <th>depart_gate</th>\n",
       "      <th>depart_terminal</th>\n",
       "      <th>icaonumb</th>\n",
       "    </tr>\n",
       "  </thead>\n",
       "  <tbody>\n",
       "    <tr>\n",
       "      <th>0</th>\n",
       "      <td>NaN</td>\n",
       "      <td>8594</td>\n",
       "      <td>landed</td>\n",
       "      <td>departure</td>\n",
       "      <td>Air Nostrum</td>\n",
       "      <td>YW</td>\n",
       "      <td>NaN</td>\n",
       "      <td>LEI</td>\n",
       "      <td>2019-07-25T10:20:00.000</td>\n",
       "      <td>1.0</td>\n",
       "      <td>MAD</td>\n",
       "      <td>2019-07-25T09:10:00.000</td>\n",
       "      <td>K96</td>\n",
       "      <td>4</td>\n",
       "      <td>ANE8594</td>\n",
       "    </tr>\n",
       "    <tr>\n",
       "      <th>1</th>\n",
       "      <td>Air Nostrum</td>\n",
       "      <td>8553</td>\n",
       "      <td>landed</td>\n",
       "      <td>departure</td>\n",
       "      <td>American Airlines</td>\n",
       "      <td>AA</td>\n",
       "      <td>24.0</td>\n",
       "      <td>MLN</td>\n",
       "      <td>2019-07-25T12:50:00.000</td>\n",
       "      <td>36.0</td>\n",
       "      <td>MAD</td>\n",
       "      <td>2019-07-25T11:00:00.000</td>\n",
       "      <td>K84</td>\n",
       "      <td>4</td>\n",
       "      <td>AAL8553</td>\n",
       "    </tr>\n",
       "    <tr>\n",
       "      <th>2</th>\n",
       "      <td>Iberia Express</td>\n",
       "      <td>8781</td>\n",
       "      <td>landed</td>\n",
       "      <td>departure</td>\n",
       "      <td>American Airlines</td>\n",
       "      <td>AA</td>\n",
       "      <td>5.0</td>\n",
       "      <td>DUB</td>\n",
       "      <td>2019-07-25T10:40:00.000</td>\n",
       "      <td>2.0</td>\n",
       "      <td>MAD</td>\n",
       "      <td>2019-07-25T09:10:00.000</td>\n",
       "      <td>NaN</td>\n",
       "      <td>4</td>\n",
       "      <td>AAL8781</td>\n",
       "    </tr>\n",
       "    <tr>\n",
       "      <th>3</th>\n",
       "      <td>Iberia Express</td>\n",
       "      <td>3792</td>\n",
       "      <td>landed</td>\n",
       "      <td>departure</td>\n",
       "      <td>Iberia</td>\n",
       "      <td>IB</td>\n",
       "      <td>5.0</td>\n",
       "      <td>DUB</td>\n",
       "      <td>2019-07-25T10:40:00.000</td>\n",
       "      <td>2.0</td>\n",
       "      <td>MAD</td>\n",
       "      <td>2019-07-25T09:10:00.000</td>\n",
       "      <td>NaN</td>\n",
       "      <td>4</td>\n",
       "      <td>IBE3792</td>\n",
       "    </tr>\n",
       "    <tr>\n",
       "      <th>4</th>\n",
       "      <td>Air Nostrum</td>\n",
       "      <td>6956</td>\n",
       "      <td>landed</td>\n",
       "      <td>departure</td>\n",
       "      <td>Qatar Airways</td>\n",
       "      <td>QR</td>\n",
       "      <td>24.0</td>\n",
       "      <td>MLN</td>\n",
       "      <td>2019-07-25T12:50:00.000</td>\n",
       "      <td>36.0</td>\n",
       "      <td>MAD</td>\n",
       "      <td>2019-07-25T11:00:00.000</td>\n",
       "      <td>K84</td>\n",
       "      <td>4</td>\n",
       "      <td>QTR6956</td>\n",
       "    </tr>\n",
       "  </tbody>\n",
       "</table>\n",
       "</div>"
      ],
      "text/plain": [
       "       codeshared flight  status       type         airln_name airln_code  \\\n",
       "0             NaN   8594  landed  departure        Air Nostrum         YW   \n",
       "1     Air Nostrum   8553  landed  departure  American Airlines         AA   \n",
       "2  Iberia Express   8781  landed  departure  American Airlines         AA   \n",
       "3  Iberia Express   3792  landed  departure             Iberia         IB   \n",
       "4     Air Nostrum   6956  landed  departure      Qatar Airways         QR   \n",
       "\n",
       "   arri_delay arri_airpt           schd_arri_time  depart_delay depart_airpt  \\\n",
       "0         NaN        LEI  2019-07-25T10:20:00.000           1.0          MAD   \n",
       "1        24.0        MLN  2019-07-25T12:50:00.000          36.0          MAD   \n",
       "2         5.0        DUB  2019-07-25T10:40:00.000           2.0          MAD   \n",
       "3         5.0        DUB  2019-07-25T10:40:00.000           2.0          MAD   \n",
       "4        24.0        MLN  2019-07-25T12:50:00.000          36.0          MAD   \n",
       "\n",
       "          schd_depart_time depart_gate depart_terminal icaonumb  \n",
       "0  2019-07-25T09:10:00.000         K96               4  ANE8594  \n",
       "1  2019-07-25T11:00:00.000         K84               4  AAL8553  \n",
       "2  2019-07-25T09:10:00.000         NaN               4  AAL8781  \n",
       "3  2019-07-25T09:10:00.000         NaN               4  IBE3792  \n",
       "4  2019-07-25T11:00:00.000         K84               4  QTR6956  "
      ]
     },
     "execution_count": 24,
     "metadata": {},
     "output_type": "execute_result"
    }
   ],
   "source": [
    "data.head()"
   ]
  },
  {
   "cell_type": "markdown",
   "metadata": {},
   "source": [
    "### Modifiying data types"
   ]
  },
  {
   "cell_type": "code",
   "execution_count": 25,
   "metadata": {},
   "outputs": [
    {
     "name": "stdout",
     "output_type": "stream",
     "text": [
      "<class 'pandas.core.frame.DataFrame'>\n",
      "RangeIndex: 7164 entries, 0 to 7163\n",
      "Data columns (total 15 columns):\n",
      "codeshared          4602 non-null object\n",
      "flight              7164 non-null object\n",
      "status              7164 non-null object\n",
      "type                7164 non-null object\n",
      "airln_name          7164 non-null object\n",
      "airln_code          7164 non-null object\n",
      "arri_delay          3660 non-null float64\n",
      "arri_airpt          7164 non-null object\n",
      "schd_arri_time      7163 non-null object\n",
      "depart_delay        4667 non-null float64\n",
      "depart_airpt        7164 non-null object\n",
      "schd_depart_time    7163 non-null object\n",
      "depart_gate         5794 non-null object\n",
      "depart_terminal     5483 non-null object\n",
      "icaonumb            7115 non-null object\n",
      "dtypes: float64(2), object(13)\n",
      "memory usage: 839.6+ KB\n"
     ]
    }
   ],
   "source": [
    "data.info()"
   ]
  },
  {
   "cell_type": "code",
   "execution_count": 26,
   "metadata": {},
   "outputs": [],
   "source": [
    "data = data.astype({'schd_arri_time': 'datetime64[ns]','schd_depart_time':'datetime64[ns]'})"
   ]
  },
  {
   "cell_type": "code",
   "execution_count": 27,
   "metadata": {},
   "outputs": [
    {
     "name": "stdout",
     "output_type": "stream",
     "text": [
      "<class 'pandas.core.frame.DataFrame'>\n",
      "RangeIndex: 7164 entries, 0 to 7163\n",
      "Data columns (total 15 columns):\n",
      "codeshared          4602 non-null object\n",
      "flight              7164 non-null object\n",
      "status              7164 non-null object\n",
      "type                7164 non-null object\n",
      "airln_name          7164 non-null object\n",
      "airln_code          7164 non-null object\n",
      "arri_delay          3660 non-null float64\n",
      "arri_airpt          7164 non-null object\n",
      "schd_arri_time      7163 non-null datetime64[ns]\n",
      "depart_delay        4667 non-null float64\n",
      "depart_airpt        7164 non-null object\n",
      "schd_depart_time    7163 non-null datetime64[ns]\n",
      "depart_gate         5794 non-null object\n",
      "depart_terminal     5483 non-null object\n",
      "icaonumb            7115 non-null object\n",
      "dtypes: datetime64[ns](2), float64(2), object(11)\n",
      "memory usage: 839.6+ KB\n"
     ]
    }
   ],
   "source": [
    "data.info()"
   ]
  },
  {
   "cell_type": "code",
   "execution_count": 28,
   "metadata": {},
   "outputs": [
    {
     "name": "stdout",
     "output_type": "stream",
     "text": [
      "['codeshared', 'flight', 'status', 'type', 'airln_name', 'airln_code', 'arri_delay', 'arri_airpt', 'schd_arri_time', 'depart_delay', 'depart_airpt', 'schd_depart_time', 'depart_gate', 'depart_terminal', 'icaonumb']\n"
     ]
    }
   ],
   "source": [
    "cols = data.columns.tolist()\n",
    "print(cols)"
   ]
  },
  {
   "cell_type": "code",
   "execution_count": 29,
   "metadata": {},
   "outputs": [],
   "source": [
    "## Changing the columns order\n",
    "\n",
    "data = data[['airln_name', 'airln_code','type', 'codeshared', 'status', 'icaonumb', 'flight','depart_terminal',\\\n",
    "      'depart_gate', 'depart_airpt' ,'schd_depart_time','depart_delay','arri_airpt','schd_arri_time',\\\n",
    "      'arri_delay']]\n"
   ]
  },
  {
   "cell_type": "code",
   "execution_count": 30,
   "metadata": {},
   "outputs": [
    {
     "data": {
      "text/html": [
       "<div>\n",
       "<style scoped>\n",
       "    .dataframe tbody tr th:only-of-type {\n",
       "        vertical-align: middle;\n",
       "    }\n",
       "\n",
       "    .dataframe tbody tr th {\n",
       "        vertical-align: top;\n",
       "    }\n",
       "\n",
       "    .dataframe thead th {\n",
       "        text-align: right;\n",
       "    }\n",
       "</style>\n",
       "<table border=\"1\" class=\"dataframe\">\n",
       "  <thead>\n",
       "    <tr style=\"text-align: right;\">\n",
       "      <th></th>\n",
       "      <th>airln_name</th>\n",
       "      <th>airln_code</th>\n",
       "      <th>type</th>\n",
       "      <th>codeshared</th>\n",
       "      <th>status</th>\n",
       "      <th>icaonumb</th>\n",
       "      <th>flight</th>\n",
       "      <th>depart_terminal</th>\n",
       "      <th>depart_gate</th>\n",
       "      <th>depart_airpt</th>\n",
       "      <th>schd_depart_time</th>\n",
       "      <th>depart_delay</th>\n",
       "      <th>arri_airpt</th>\n",
       "      <th>schd_arri_time</th>\n",
       "      <th>arri_delay</th>\n",
       "    </tr>\n",
       "  </thead>\n",
       "  <tbody>\n",
       "    <tr>\n",
       "      <th>0</th>\n",
       "      <td>Air Nostrum</td>\n",
       "      <td>YW</td>\n",
       "      <td>departure</td>\n",
       "      <td>NaN</td>\n",
       "      <td>landed</td>\n",
       "      <td>ANE8594</td>\n",
       "      <td>8594</td>\n",
       "      <td>4</td>\n",
       "      <td>K96</td>\n",
       "      <td>MAD</td>\n",
       "      <td>2019-07-25 09:10:00</td>\n",
       "      <td>1.0</td>\n",
       "      <td>LEI</td>\n",
       "      <td>2019-07-25 10:20:00</td>\n",
       "      <td>NaN</td>\n",
       "    </tr>\n",
       "    <tr>\n",
       "      <th>1</th>\n",
       "      <td>American Airlines</td>\n",
       "      <td>AA</td>\n",
       "      <td>departure</td>\n",
       "      <td>Air Nostrum</td>\n",
       "      <td>landed</td>\n",
       "      <td>AAL8553</td>\n",
       "      <td>8553</td>\n",
       "      <td>4</td>\n",
       "      <td>K84</td>\n",
       "      <td>MAD</td>\n",
       "      <td>2019-07-25 11:00:00</td>\n",
       "      <td>36.0</td>\n",
       "      <td>MLN</td>\n",
       "      <td>2019-07-25 12:50:00</td>\n",
       "      <td>24.0</td>\n",
       "    </tr>\n",
       "  </tbody>\n",
       "</table>\n",
       "</div>"
      ],
      "text/plain": [
       "          airln_name airln_code       type   codeshared  status icaonumb  \\\n",
       "0        Air Nostrum         YW  departure          NaN  landed  ANE8594   \n",
       "1  American Airlines         AA  departure  Air Nostrum  landed  AAL8553   \n",
       "\n",
       "  flight depart_terminal depart_gate depart_airpt    schd_depart_time  \\\n",
       "0   8594               4         K96          MAD 2019-07-25 09:10:00   \n",
       "1   8553               4         K84          MAD 2019-07-25 11:00:00   \n",
       "\n",
       "   depart_delay arri_airpt      schd_arri_time  arri_delay  \n",
       "0           1.0        LEI 2019-07-25 10:20:00         NaN  \n",
       "1          36.0        MLN 2019-07-25 12:50:00        24.0  "
      ]
     },
     "execution_count": 30,
     "metadata": {},
     "output_type": "execute_result"
    }
   ],
   "source": [
    "data.head(2)"
   ]
  },
  {
   "cell_type": "markdown",
   "metadata": {},
   "source": [
    "### Dealing with missing values"
   ]
  },
  {
   "cell_type": "code",
   "execution_count": 31,
   "metadata": {},
   "outputs": [],
   "source": [
    "data['depart_delay'] = data['depart_delay'].fillna(0)"
   ]
  },
  {
   "cell_type": "code",
   "execution_count": 32,
   "metadata": {},
   "outputs": [],
   "source": [
    "data['arri_delay'] = data['arri_delay'].fillna(0)"
   ]
  },
  {
   "cell_type": "code",
   "execution_count": null,
   "metadata": {},
   "outputs": [],
   "source": []
  },
  {
   "cell_type": "code",
   "execution_count": null,
   "metadata": {},
   "outputs": [],
   "source": []
  },
  {
   "cell_type": "code",
   "execution_count": null,
   "metadata": {},
   "outputs": [],
   "source": []
  },
  {
   "cell_type": "code",
   "execution_count": null,
   "metadata": {},
   "outputs": [],
   "source": []
  },
  {
   "cell_type": "code",
   "execution_count": null,
   "metadata": {},
   "outputs": [],
   "source": []
  },
  {
   "cell_type": "code",
   "execution_count": null,
   "metadata": {},
   "outputs": [],
   "source": []
  },
  {
   "cell_type": "code",
   "execution_count": null,
   "metadata": {},
   "outputs": [],
   "source": []
  },
  {
   "cell_type": "code",
   "execution_count": null,
   "metadata": {},
   "outputs": [],
   "source": []
  },
  {
   "cell_type": "code",
   "execution_count": null,
   "metadata": {},
   "outputs": [],
   "source": []
  },
  {
   "cell_type": "code",
   "execution_count": null,
   "metadata": {},
   "outputs": [],
   "source": []
  },
  {
   "cell_type": "code",
   "execution_count": null,
   "metadata": {},
   "outputs": [],
   "source": []
  },
  {
   "cell_type": "code",
   "execution_count": 33,
   "metadata": {},
   "outputs": [],
   "source": [
    "data.to_csv('final_data_t.csv')"
   ]
  },
  {
   "cell_type": "code",
   "execution_count": null,
   "metadata": {},
   "outputs": [],
   "source": []
  },
  {
   "cell_type": "code",
   "execution_count": null,
   "metadata": {},
   "outputs": [],
   "source": []
  },
  {
   "cell_type": "code",
   "execution_count": null,
   "metadata": {},
   "outputs": [],
   "source": []
  },
  {
   "cell_type": "code",
   "execution_count": null,
   "metadata": {},
   "outputs": [],
   "source": []
  },
  {
   "cell_type": "code",
   "execution_count": null,
   "metadata": {},
   "outputs": [],
   "source": []
  },
  {
   "cell_type": "code",
   "execution_count": null,
   "metadata": {},
   "outputs": [],
   "source": []
  }
 ],
 "metadata": {
  "kernelspec": {
   "display_name": "ironhack",
   "language": "python",
   "name": "ironhack"
  },
  "language_info": {
   "codemirror_mode": {
    "name": "ipython",
    "version": 3
   },
   "file_extension": ".py",
   "mimetype": "text/x-python",
   "name": "python",
   "nbconvert_exporter": "python",
   "pygments_lexer": "ipython3",
   "version": "3.7.3"
  }
 },
 "nbformat": 4,
 "nbformat_minor": 2
}
