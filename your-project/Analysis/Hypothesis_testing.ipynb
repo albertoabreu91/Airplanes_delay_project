{
 "cells": [
  {
   "cell_type": "markdown",
   "metadata": {},
   "source": [
    "# Hypothesis\n",
    "\n",
    "- **Its is more likely to have delay time in Spain airports than in the rest of europe. (1)**\n",
    "\n",
    "\n",
    "- **The Barcelona airport is the airport with less delays time in average of Spain. (2)**\n",
    "\n",
    "\n",
    "- **Vueling is the air carrier with more delays on average (3)**\n",
    "\n",
    "\n",
    "- **Daytime in terms of morning, afternoon and evening, night has an effect in classifiying the flight as a delayed flight.(4)**\n",
    "\n",
    "\n",
    "- **The average delay time is Spain is longer than in Germany. (5)**\n",
    "\n",
    "\n",
    "- **If the flight is delay before departure it is more likely that the overall delay increases (5)**\n",
    "\n",
    "\n",
    "Legacy carriers flights are less likely to be delay than low cost carriers flights."
   ]
  },
  {
   "cell_type": "code",
   "execution_count": 130,
   "metadata": {},
   "outputs": [],
   "source": [
    "import pandas as pd\n",
    "import numpy as np\n",
    "import os\n",
    "from sqlalchemy import create_engine\n",
    "from scipy import stats\n",
    "import math as m"
   ]
  },
  {
   "cell_type": "code",
   "execution_count": 2,
   "metadata": {},
   "outputs": [],
   "source": [
    "driver = 'mysql+pymysql:'\n",
    "user = 'root'\n",
    "password = '19693903'\n",
    "ip = '127.0.0.1'\n",
    "database = 'project_4'"
   ]
  },
  {
   "cell_type": "code",
   "execution_count": 3,
   "metadata": {},
   "outputs": [],
   "source": [
    "connection_string = f'{driver}//{user}:{password}@{ip}/{database}'\n",
    "engine = create_engine(connection_string)"
   ]
  },
  {
   "cell_type": "code",
   "execution_count": 307,
   "metadata": {},
   "outputs": [],
   "source": [
    "query = \"\"\"\n",
    "SELECT *\n",
    "FROM flights\n",
    "\"\"\"\n",
    "query2 = \"\"\"\n",
    "SELECT * FROM airports\n",
    "\"\"\""
   ]
  },
  {
   "cell_type": "code",
   "execution_count": 308,
   "metadata": {},
   "outputs": [],
   "source": [
    "data= pd.read_sql(query, engine)\n",
    "airports_info = pd.read_sql(query2, engine)\n",
    "data = data.merge(airports_info, left_on = 'depart_airpt', right_on='iata_code')"
   ]
  },
  {
   "cell_type": "code",
   "execution_count": 309,
   "metadata": {},
   "outputs": [],
   "source": [
    "data = data.drop(columns = ('iata_code'), axis = 1).rename(columns = {'country_code':'depart_country'})\n",
    "data = data.astype({'depart_delay': int,'arri_delay':int})\n",
    "data['Total_delay'] = data['depart_delay'] + data['arri_delay']"
   ]
  },
  {
   "cell_type": "code",
   "execution_count": 310,
   "metadata": {},
   "outputs": [
    {
     "data": {
      "text/plain": [
       "149.5"
      ]
     },
     "execution_count": 310,
     "metadata": {},
     "output_type": "execute_result"
    }
   ],
   "source": [
    "q1, q3= np.percentile(data['Total_delay'],[25,75])\n",
    "iqr = q3 - q1\n",
    "upper_bound = q3 +(3.5 * iqr)\n",
    "upper_bound"
   ]
  },
  {
   "cell_type": "code",
   "execution_count": 311,
   "metadata": {},
   "outputs": [],
   "source": [
    "data = data[data['Total_delay'] <= upper_bound]"
   ]
  },
  {
   "cell_type": "markdown",
   "metadata": {},
   "source": [
    "### Checking delay status:\n",
    "By law, if a flight's departure delay time is longer than 15 min, it should be classify as **delayed**"
   ]
  },
  {
   "cell_type": "code",
   "execution_count": 312,
   "metadata": {},
   "outputs": [],
   "source": [
    "data['Delay_status'] = np.where(data.depart_delay >= 15, 1,0)"
   ]
  },
  {
   "cell_type": "markdown",
   "metadata": {},
   "source": [
    "### Classiying datetime into morning, afternoon and night"
   ]
  },
  {
   "cell_type": "code",
   "execution_count": 313,
   "metadata": {},
   "outputs": [],
   "source": [
    "def classify_day(x):\n",
    "    if x.hour <=2.0:\n",
    "        return 0\n",
    "    elif (x.hour > 2.0) and (x.hour <= 18.0):\n",
    "        return 1\n",
    "    else:\n",
    "        return 2"
   ]
  },
  {
   "cell_type": "code",
   "execution_count": 314,
   "metadata": {},
   "outputs": [],
   "source": [
    "def classify_day2(x):\n",
    "    if x.hour <=14.0:\n",
    "        return 0\n",
    "    else:\n",
    "        return 1"
   ]
  },
  {
   "cell_type": "code",
   "execution_count": 315,
   "metadata": {},
   "outputs": [],
   "source": [
    "data['day_range'] = data['schd_depart_time'].apply(classify_day2)"
   ]
  },
  {
   "cell_type": "code",
   "execution_count": 316,
   "metadata": {},
   "outputs": [
    {
     "data": {
      "text/html": [
       "<div>\n",
       "<style scoped>\n",
       "    .dataframe tbody tr th:only-of-type {\n",
       "        vertical-align: middle;\n",
       "    }\n",
       "\n",
       "    .dataframe tbody tr th {\n",
       "        vertical-align: top;\n",
       "    }\n",
       "\n",
       "    .dataframe thead th {\n",
       "        text-align: right;\n",
       "    }\n",
       "</style>\n",
       "<table border=\"1\" class=\"dataframe\">\n",
       "  <thead>\n",
       "    <tr style=\"text-align: right;\">\n",
       "      <th></th>\n",
       "      <th>airln_name</th>\n",
       "      <th>airln_code</th>\n",
       "      <th>type</th>\n",
       "      <th>codeshared</th>\n",
       "      <th>status</th>\n",
       "      <th>icaonumb</th>\n",
       "      <th>flight</th>\n",
       "      <th>depart_terminal</th>\n",
       "      <th>depart_gate</th>\n",
       "      <th>depart_airpt</th>\n",
       "      <th>schd_depart_time</th>\n",
       "      <th>depart_delay</th>\n",
       "      <th>arri_airpt</th>\n",
       "      <th>schd_arri_time</th>\n",
       "      <th>arri_delay</th>\n",
       "      <th>depart_country</th>\n",
       "      <th>name</th>\n",
       "      <th>Total_delay</th>\n",
       "      <th>Delay_status</th>\n",
       "      <th>day_range</th>\n",
       "    </tr>\n",
       "  </thead>\n",
       "  <tbody>\n",
       "    <tr>\n",
       "      <th>0</th>\n",
       "      <td>Binter Canarias</td>\n",
       "      <td>NT</td>\n",
       "      <td>departure</td>\n",
       "      <td>None</td>\n",
       "      <td>landed</td>\n",
       "      <td>IBB503</td>\n",
       "      <td>503</td>\n",
       "      <td>2</td>\n",
       "      <td>3</td>\n",
       "      <td>ACE</td>\n",
       "      <td>2019-07-25 07:00:00</td>\n",
       "      <td>0</td>\n",
       "      <td>LPA</td>\n",
       "      <td>2019-07-25 07:45:00</td>\n",
       "      <td>0</td>\n",
       "      <td>ES</td>\n",
       "      <td>Lanzarote</td>\n",
       "      <td>0</td>\n",
       "      <td>0</td>\n",
       "      <td>0</td>\n",
       "    </tr>\n",
       "    <tr>\n",
       "      <th>1</th>\n",
       "      <td>Ryanair</td>\n",
       "      <td>FR</td>\n",
       "      <td>departure</td>\n",
       "      <td>None</td>\n",
       "      <td>landed</td>\n",
       "      <td>RYR1345</td>\n",
       "      <td>1345</td>\n",
       "      <td>1</td>\n",
       "      <td>2</td>\n",
       "      <td>ACE</td>\n",
       "      <td>2019-07-25 07:45:00</td>\n",
       "      <td>0</td>\n",
       "      <td>SNN</td>\n",
       "      <td>2019-07-25 11:40:00</td>\n",
       "      <td>0</td>\n",
       "      <td>ES</td>\n",
       "      <td>Lanzarote</td>\n",
       "      <td>0</td>\n",
       "      <td>0</td>\n",
       "      <td>0</td>\n",
       "    </tr>\n",
       "    <tr>\n",
       "      <th>2</th>\n",
       "      <td>Binter Canarias</td>\n",
       "      <td>NT</td>\n",
       "      <td>departure</td>\n",
       "      <td>None</td>\n",
       "      <td>landed</td>\n",
       "      <td>IBB501</td>\n",
       "      <td>501</td>\n",
       "      <td>2</td>\n",
       "      <td>4</td>\n",
       "      <td>ACE</td>\n",
       "      <td>2019-07-25 08:15:00</td>\n",
       "      <td>0</td>\n",
       "      <td>LPA</td>\n",
       "      <td>2019-07-25 09:00:00</td>\n",
       "      <td>0</td>\n",
       "      <td>ES</td>\n",
       "      <td>Lanzarote</td>\n",
       "      <td>0</td>\n",
       "      <td>0</td>\n",
       "      <td>0</td>\n",
       "    </tr>\n",
       "    <tr>\n",
       "      <th>3</th>\n",
       "      <td>Ryanair</td>\n",
       "      <td>FR</td>\n",
       "      <td>departure</td>\n",
       "      <td>None</td>\n",
       "      <td>landed</td>\n",
       "      <td>RYR3547</td>\n",
       "      <td>3547</td>\n",
       "      <td>1</td>\n",
       "      <td>4</td>\n",
       "      <td>ACE</td>\n",
       "      <td>2019-07-25 08:20:00</td>\n",
       "      <td>0</td>\n",
       "      <td>MAD</td>\n",
       "      <td>2019-07-25 11:55:00</td>\n",
       "      <td>0</td>\n",
       "      <td>ES</td>\n",
       "      <td>Lanzarote</td>\n",
       "      <td>0</td>\n",
       "      <td>0</td>\n",
       "      <td>0</td>\n",
       "    </tr>\n",
       "    <tr>\n",
       "      <th>4</th>\n",
       "      <td>Binter Canarias</td>\n",
       "      <td>NT</td>\n",
       "      <td>departure</td>\n",
       "      <td>Canarias Airlines</td>\n",
       "      <td>landed</td>\n",
       "      <td>IBB453</td>\n",
       "      <td>453</td>\n",
       "      <td>2</td>\n",
       "      <td>3</td>\n",
       "      <td>ACE</td>\n",
       "      <td>2019-07-25 08:25:00</td>\n",
       "      <td>0</td>\n",
       "      <td>TFN</td>\n",
       "      <td>2019-07-25 09:15:00</td>\n",
       "      <td>0</td>\n",
       "      <td>ES</td>\n",
       "      <td>Lanzarote</td>\n",
       "      <td>0</td>\n",
       "      <td>0</td>\n",
       "      <td>0</td>\n",
       "    </tr>\n",
       "  </tbody>\n",
       "</table>\n",
       "</div>"
      ],
      "text/plain": [
       "        airln_name airln_code       type         codeshared  status icaonumb  \\\n",
       "0  Binter Canarias         NT  departure               None  landed   IBB503   \n",
       "1          Ryanair         FR  departure               None  landed  RYR1345   \n",
       "2  Binter Canarias         NT  departure               None  landed   IBB501   \n",
       "3          Ryanair         FR  departure               None  landed  RYR3547   \n",
       "4  Binter Canarias         NT  departure  Canarias Airlines  landed   IBB453   \n",
       "\n",
       "  flight depart_terminal depart_gate depart_airpt    schd_depart_time  \\\n",
       "0    503               2           3          ACE 2019-07-25 07:00:00   \n",
       "1   1345               1           2          ACE 2019-07-25 07:45:00   \n",
       "2    501               2           4          ACE 2019-07-25 08:15:00   \n",
       "3   3547               1           4          ACE 2019-07-25 08:20:00   \n",
       "4    453               2           3          ACE 2019-07-25 08:25:00   \n",
       "\n",
       "   depart_delay arri_airpt      schd_arri_time  arri_delay depart_country  \\\n",
       "0             0        LPA 2019-07-25 07:45:00           0             ES   \n",
       "1             0        SNN 2019-07-25 11:40:00           0             ES   \n",
       "2             0        LPA 2019-07-25 09:00:00           0             ES   \n",
       "3             0        MAD 2019-07-25 11:55:00           0             ES   \n",
       "4             0        TFN 2019-07-25 09:15:00           0             ES   \n",
       "\n",
       "        name  Total_delay  Delay_status  day_range  \n",
       "0  Lanzarote            0             0          0  \n",
       "1  Lanzarote            0             0          0  \n",
       "2  Lanzarote            0             0          0  \n",
       "3  Lanzarote            0             0          0  \n",
       "4  Lanzarote            0             0          0  "
      ]
     },
     "execution_count": 316,
     "metadata": {},
     "output_type": "execute_result"
    }
   ],
   "source": [
    "data.head()"
   ]
  },
  {
   "cell_type": "markdown",
   "metadata": {},
   "source": [
    "# <font color=blue>Europe summary statistics</font>"
   ]
  },
  {
   "cell_type": "code",
   "execution_count": 317,
   "metadata": {},
   "outputs": [
    {
     "data": {
      "text/html": [
       "<div>\n",
       "<style scoped>\n",
       "    .dataframe tbody tr th:only-of-type {\n",
       "        vertical-align: middle;\n",
       "    }\n",
       "\n",
       "    .dataframe tbody tr th {\n",
       "        vertical-align: top;\n",
       "    }\n",
       "\n",
       "    .dataframe thead th {\n",
       "        text-align: right;\n",
       "    }\n",
       "</style>\n",
       "<table border=\"1\" class=\"dataframe\">\n",
       "  <thead>\n",
       "    <tr style=\"text-align: right;\">\n",
       "      <th></th>\n",
       "      <th>depart_delay</th>\n",
       "      <th>arri_delay</th>\n",
       "      <th>Total_delay</th>\n",
       "    </tr>\n",
       "  </thead>\n",
       "  <tbody>\n",
       "    <tr>\n",
       "      <th>count</th>\n",
       "      <td>41705.000000</td>\n",
       "      <td>41705.000000</td>\n",
       "      <td>41705.000000</td>\n",
       "    </tr>\n",
       "    <tr>\n",
       "      <th>mean</th>\n",
       "      <td>21.292339</td>\n",
       "      <td>18.988419</td>\n",
       "      <td>40.280758</td>\n",
       "    </tr>\n",
       "    <tr>\n",
       "      <th>std</th>\n",
       "      <td>16.298158</td>\n",
       "      <td>16.370961</td>\n",
       "      <td>31.411599</td>\n",
       "    </tr>\n",
       "    <tr>\n",
       "      <th>min</th>\n",
       "      <td>1.000000</td>\n",
       "      <td>1.000000</td>\n",
       "      <td>2.000000</td>\n",
       "    </tr>\n",
       "    <tr>\n",
       "      <th>25%</th>\n",
       "      <td>9.000000</td>\n",
       "      <td>7.000000</td>\n",
       "      <td>17.000000</td>\n",
       "    </tr>\n",
       "    <tr>\n",
       "      <th>50%</th>\n",
       "      <td>17.000000</td>\n",
       "      <td>14.000000</td>\n",
       "      <td>31.000000</td>\n",
       "    </tr>\n",
       "    <tr>\n",
       "      <th>75%</th>\n",
       "      <td>29.000000</td>\n",
       "      <td>26.000000</td>\n",
       "      <td>55.000000</td>\n",
       "    </tr>\n",
       "    <tr>\n",
       "      <th>max</th>\n",
       "      <td>86.000000</td>\n",
       "      <td>133.000000</td>\n",
       "      <td>149.000000</td>\n",
       "    </tr>\n",
       "  </tbody>\n",
       "</table>\n",
       "</div>"
      ],
      "text/plain": [
       "       depart_delay    arri_delay   Total_delay\n",
       "count  41705.000000  41705.000000  41705.000000\n",
       "mean      21.292339     18.988419     40.280758\n",
       "std       16.298158     16.370961     31.411599\n",
       "min        1.000000      1.000000      2.000000\n",
       "25%        9.000000      7.000000     17.000000\n",
       "50%       17.000000     14.000000     31.000000\n",
       "75%       29.000000     26.000000     55.000000\n",
       "max       86.000000    133.000000    149.000000"
      ]
     },
     "execution_count": 317,
     "metadata": {},
     "output_type": "execute_result"
    }
   ],
   "source": [
    "eu_delays = data[['depart_delay', 'arri_delay','Total_delay']]\n",
    "eu_delays =  eu_delays[np.logical_and(eu_delays['depart_delay']>0, eu_delays['arri_delay']>0)]\n",
    "eu_delays.describe()"
   ]
  },
  {
   "cell_type": "code",
   "execution_count": 318,
   "metadata": {},
   "outputs": [],
   "source": [
    "eu_dep_delay_mean = eu_delays.depart_delay.mean()\n",
    "eu_dep_delay_std = eu_delays.depart_delay.std()\n",
    "eu_dep_delay_var = eu_delays.depart_delay.var()\n",
    "eu_t_delay_mean = eu_delays.Total_delay.mean()\n",
    "eu_t_delay_std = eu_delays.Total_delay.std()\n",
    "eu_t_delay_var = eu_delays.Total_delay.var()\n",
    "\n",
    "europe_delay_mean = 12.0\n",
    "#https://www.eurocontrol.int/sites/default/files/2019-07/eurocontrol_top_stats_-_june_2019.pdf"
   ]
  },
  {
   "cell_type": "markdown",
   "metadata": {},
   "source": [
    "### Europe summary statistics without Spain"
   ]
  },
  {
   "cell_type": "code",
   "execution_count": 319,
   "metadata": {},
   "outputs": [],
   "source": [
    "data_eu2 = data[data['depart_country'] != 'ES']"
   ]
  },
  {
   "cell_type": "code",
   "execution_count": 320,
   "metadata": {},
   "outputs": [],
   "source": [
    "eu2_delays =  data_eu2[np.logical_and(data_eu2['depart_delay']>0, data_eu2['arri_delay']>0)]"
   ]
  },
  {
   "cell_type": "code",
   "execution_count": 321,
   "metadata": {},
   "outputs": [
    {
     "data": {
      "text/html": [
       "<div>\n",
       "<style scoped>\n",
       "    .dataframe tbody tr th:only-of-type {\n",
       "        vertical-align: middle;\n",
       "    }\n",
       "\n",
       "    .dataframe tbody tr th {\n",
       "        vertical-align: top;\n",
       "    }\n",
       "\n",
       "    .dataframe thead th {\n",
       "        text-align: right;\n",
       "    }\n",
       "</style>\n",
       "<table border=\"1\" class=\"dataframe\">\n",
       "  <thead>\n",
       "    <tr style=\"text-align: right;\">\n",
       "      <th></th>\n",
       "      <th>depart_delay</th>\n",
       "      <th>arri_delay</th>\n",
       "      <th>Total_delay</th>\n",
       "      <th>Delay_status</th>\n",
       "      <th>day_range</th>\n",
       "    </tr>\n",
       "  </thead>\n",
       "  <tbody>\n",
       "    <tr>\n",
       "      <th>count</th>\n",
       "      <td>32948.000000</td>\n",
       "      <td>32948.000000</td>\n",
       "      <td>32948.000000</td>\n",
       "      <td>32948.000000</td>\n",
       "      <td>32948.000000</td>\n",
       "    </tr>\n",
       "    <tr>\n",
       "      <th>mean</th>\n",
       "      <td>21.384727</td>\n",
       "      <td>19.149751</td>\n",
       "      <td>40.534479</td>\n",
       "      <td>0.581735</td>\n",
       "      <td>0.321962</td>\n",
       "    </tr>\n",
       "    <tr>\n",
       "      <th>std</th>\n",
       "      <td>16.046211</td>\n",
       "      <td>16.342061</td>\n",
       "      <td>31.194892</td>\n",
       "      <td>0.493282</td>\n",
       "      <td>0.467236</td>\n",
       "    </tr>\n",
       "    <tr>\n",
       "      <th>min</th>\n",
       "      <td>1.000000</td>\n",
       "      <td>1.000000</td>\n",
       "      <td>2.000000</td>\n",
       "      <td>0.000000</td>\n",
       "      <td>0.000000</td>\n",
       "    </tr>\n",
       "    <tr>\n",
       "      <th>25%</th>\n",
       "      <td>10.000000</td>\n",
       "      <td>7.000000</td>\n",
       "      <td>17.000000</td>\n",
       "      <td>0.000000</td>\n",
       "      <td>0.000000</td>\n",
       "    </tr>\n",
       "    <tr>\n",
       "      <th>50%</th>\n",
       "      <td>17.000000</td>\n",
       "      <td>14.000000</td>\n",
       "      <td>31.000000</td>\n",
       "      <td>1.000000</td>\n",
       "      <td>0.000000</td>\n",
       "    </tr>\n",
       "    <tr>\n",
       "      <th>75%</th>\n",
       "      <td>29.000000</td>\n",
       "      <td>27.000000</td>\n",
       "      <td>55.000000</td>\n",
       "      <td>1.000000</td>\n",
       "      <td>1.000000</td>\n",
       "    </tr>\n",
       "    <tr>\n",
       "      <th>max</th>\n",
       "      <td>85.000000</td>\n",
       "      <td>133.000000</td>\n",
       "      <td>149.000000</td>\n",
       "      <td>1.000000</td>\n",
       "      <td>1.000000</td>\n",
       "    </tr>\n",
       "  </tbody>\n",
       "</table>\n",
       "</div>"
      ],
      "text/plain": [
       "       depart_delay    arri_delay   Total_delay  Delay_status     day_range\n",
       "count  32948.000000  32948.000000  32948.000000  32948.000000  32948.000000\n",
       "mean      21.384727     19.149751     40.534479      0.581735      0.321962\n",
       "std       16.046211     16.342061     31.194892      0.493282      0.467236\n",
       "min        1.000000      1.000000      2.000000      0.000000      0.000000\n",
       "25%       10.000000      7.000000     17.000000      0.000000      0.000000\n",
       "50%       17.000000     14.000000     31.000000      1.000000      0.000000\n",
       "75%       29.000000     27.000000     55.000000      1.000000      1.000000\n",
       "max       85.000000    133.000000    149.000000      1.000000      1.000000"
      ]
     },
     "execution_count": 321,
     "metadata": {},
     "output_type": "execute_result"
    }
   ],
   "source": [
    "eu2_delays.describe()"
   ]
  },
  {
   "cell_type": "code",
   "execution_count": 322,
   "metadata": {},
   "outputs": [],
   "source": [
    "eu2_dep_delay_mean = eu2_delays.depart_delay.mean()\n",
    "eu2_dep_delay_std = eu2_delays.depart_delay.std()\n",
    "eu2_dep_delay_var = eu2_delays.depart_delay.var()\n",
    "eu2_t_delay_mean = eu2_delays.Total_delay.mean()\n",
    "eu2_t_delay_std = eu2_delays.Total_delay.std()\n",
    "eu2_t_delay_var = eu2_delays.Total_delay.var()"
   ]
  },
  {
   "cell_type": "markdown",
   "metadata": {},
   "source": [
    "# <font color=blue>Spain summary statistics</font>\n"
   ]
  },
  {
   "cell_type": "code",
   "execution_count": 323,
   "metadata": {},
   "outputs": [],
   "source": [
    "data_es = data[data['depart_country'] == 'ES']\n",
    "es_delays =  data_es[np.logical_and(data_es['depart_delay']>0, data_es['arri_delay']>0)]"
   ]
  },
  {
   "cell_type": "code",
   "execution_count": 324,
   "metadata": {},
   "outputs": [
    {
     "data": {
      "text/html": [
       "<div>\n",
       "<style scoped>\n",
       "    .dataframe tbody tr th:only-of-type {\n",
       "        vertical-align: middle;\n",
       "    }\n",
       "\n",
       "    .dataframe tbody tr th {\n",
       "        vertical-align: top;\n",
       "    }\n",
       "\n",
       "    .dataframe thead th {\n",
       "        text-align: right;\n",
       "    }\n",
       "</style>\n",
       "<table border=\"1\" class=\"dataframe\">\n",
       "  <thead>\n",
       "    <tr style=\"text-align: right;\">\n",
       "      <th></th>\n",
       "      <th>depart_delay</th>\n",
       "      <th>arri_delay</th>\n",
       "      <th>Total_delay</th>\n",
       "      <th>Delay_status</th>\n",
       "      <th>day_range</th>\n",
       "    </tr>\n",
       "  </thead>\n",
       "  <tbody>\n",
       "    <tr>\n",
       "      <th>count</th>\n",
       "      <td>8757.000000</td>\n",
       "      <td>8757.000000</td>\n",
       "      <td>8757.000000</td>\n",
       "      <td>8757.000000</td>\n",
       "      <td>8757.000000</td>\n",
       "    </tr>\n",
       "    <tr>\n",
       "      <th>mean</th>\n",
       "      <td>20.944730</td>\n",
       "      <td>18.381409</td>\n",
       "      <td>39.326139</td>\n",
       "      <td>0.544821</td>\n",
       "      <td>0.342355</td>\n",
       "    </tr>\n",
       "    <tr>\n",
       "      <th>std</th>\n",
       "      <td>17.209606</td>\n",
       "      <td>16.466025</td>\n",
       "      <td>32.197800</td>\n",
       "      <td>0.498015</td>\n",
       "      <td>0.474525</td>\n",
       "    </tr>\n",
       "    <tr>\n",
       "      <th>min</th>\n",
       "      <td>1.000000</td>\n",
       "      <td>1.000000</td>\n",
       "      <td>2.000000</td>\n",
       "      <td>0.000000</td>\n",
       "      <td>0.000000</td>\n",
       "    </tr>\n",
       "    <tr>\n",
       "      <th>25%</th>\n",
       "      <td>8.000000</td>\n",
       "      <td>6.000000</td>\n",
       "      <td>15.000000</td>\n",
       "      <td>0.000000</td>\n",
       "      <td>0.000000</td>\n",
       "    </tr>\n",
       "    <tr>\n",
       "      <th>50%</th>\n",
       "      <td>16.000000</td>\n",
       "      <td>13.000000</td>\n",
       "      <td>29.000000</td>\n",
       "      <td>1.000000</td>\n",
       "      <td>0.000000</td>\n",
       "    </tr>\n",
       "    <tr>\n",
       "      <th>75%</th>\n",
       "      <td>29.000000</td>\n",
       "      <td>25.000000</td>\n",
       "      <td>53.000000</td>\n",
       "      <td>1.000000</td>\n",
       "      <td>1.000000</td>\n",
       "    </tr>\n",
       "    <tr>\n",
       "      <th>max</th>\n",
       "      <td>86.000000</td>\n",
       "      <td>90.000000</td>\n",
       "      <td>149.000000</td>\n",
       "      <td>1.000000</td>\n",
       "      <td>1.000000</td>\n",
       "    </tr>\n",
       "  </tbody>\n",
       "</table>\n",
       "</div>"
      ],
      "text/plain": [
       "       depart_delay   arri_delay  Total_delay  Delay_status    day_range\n",
       "count   8757.000000  8757.000000  8757.000000   8757.000000  8757.000000\n",
       "mean      20.944730    18.381409    39.326139      0.544821     0.342355\n",
       "std       17.209606    16.466025    32.197800      0.498015     0.474525\n",
       "min        1.000000     1.000000     2.000000      0.000000     0.000000\n",
       "25%        8.000000     6.000000    15.000000      0.000000     0.000000\n",
       "50%       16.000000    13.000000    29.000000      1.000000     0.000000\n",
       "75%       29.000000    25.000000    53.000000      1.000000     1.000000\n",
       "max       86.000000    90.000000   149.000000      1.000000     1.000000"
      ]
     },
     "execution_count": 324,
     "metadata": {},
     "output_type": "execute_result"
    }
   ],
   "source": [
    "es_delays.describe()"
   ]
  },
  {
   "cell_type": "code",
   "execution_count": 325,
   "metadata": {},
   "outputs": [],
   "source": [
    "es_dep_delay_mean = es_delays.depart_delay.mean()\n",
    "es_dep_delay_std = es_delays.depart_delay.std()\n",
    "es_dep_delay_var = es_delays.depart_delay.var()\n",
    "es_t_delay_mean = es_delays.Total_delay.mean()\n",
    "es_tl_delay_std = es_delays.Total_delay.std()\n",
    "es_t_delay_var = es_delays.Total_delay.var()"
   ]
  },
  {
   "cell_type": "markdown",
   "metadata": {},
   "source": [
    "### Spain summary statistics without Barcelona\n"
   ]
  },
  {
   "cell_type": "code",
   "execution_count": 326,
   "metadata": {},
   "outputs": [],
   "source": [
    "data_es_2 = data_es[data_es['depart_airpt'] != 'BCN']\n",
    "es2_delays =  data_es_2[np.logical_and(data_es_2['depart_delay']>0, data_es_2['arri_delay']>0)]"
   ]
  },
  {
   "cell_type": "code",
   "execution_count": 327,
   "metadata": {},
   "outputs": [
    {
     "data": {
      "text/html": [
       "<div>\n",
       "<style scoped>\n",
       "    .dataframe tbody tr th:only-of-type {\n",
       "        vertical-align: middle;\n",
       "    }\n",
       "\n",
       "    .dataframe tbody tr th {\n",
       "        vertical-align: top;\n",
       "    }\n",
       "\n",
       "    .dataframe thead th {\n",
       "        text-align: right;\n",
       "    }\n",
       "</style>\n",
       "<table border=\"1\" class=\"dataframe\">\n",
       "  <thead>\n",
       "    <tr style=\"text-align: right;\">\n",
       "      <th></th>\n",
       "      <th>depart_delay</th>\n",
       "      <th>arri_delay</th>\n",
       "      <th>Total_delay</th>\n",
       "      <th>Delay_status</th>\n",
       "      <th>day_range</th>\n",
       "    </tr>\n",
       "  </thead>\n",
       "  <tbody>\n",
       "    <tr>\n",
       "      <th>count</th>\n",
       "      <td>6640.000000</td>\n",
       "      <td>6640.000000</td>\n",
       "      <td>6640.000000</td>\n",
       "      <td>6640.000000</td>\n",
       "      <td>6640.000000</td>\n",
       "    </tr>\n",
       "    <tr>\n",
       "      <th>mean</th>\n",
       "      <td>20.403916</td>\n",
       "      <td>18.138253</td>\n",
       "      <td>38.542169</td>\n",
       "      <td>0.527861</td>\n",
       "      <td>0.357229</td>\n",
       "    </tr>\n",
       "    <tr>\n",
       "      <th>std</th>\n",
       "      <td>17.444849</td>\n",
       "      <td>16.828996</td>\n",
       "      <td>32.812889</td>\n",
       "      <td>0.499261</td>\n",
       "      <td>0.479219</td>\n",
       "    </tr>\n",
       "    <tr>\n",
       "      <th>min</th>\n",
       "      <td>1.000000</td>\n",
       "      <td>1.000000</td>\n",
       "      <td>2.000000</td>\n",
       "      <td>0.000000</td>\n",
       "      <td>0.000000</td>\n",
       "    </tr>\n",
       "    <tr>\n",
       "      <th>25%</th>\n",
       "      <td>7.000000</td>\n",
       "      <td>6.000000</td>\n",
       "      <td>15.000000</td>\n",
       "      <td>0.000000</td>\n",
       "      <td>0.000000</td>\n",
       "    </tr>\n",
       "    <tr>\n",
       "      <th>50%</th>\n",
       "      <td>15.000000</td>\n",
       "      <td>13.000000</td>\n",
       "      <td>28.000000</td>\n",
       "      <td>1.000000</td>\n",
       "      <td>0.000000</td>\n",
       "    </tr>\n",
       "    <tr>\n",
       "      <th>75%</th>\n",
       "      <td>28.000000</td>\n",
       "      <td>24.000000</td>\n",
       "      <td>52.000000</td>\n",
       "      <td>1.000000</td>\n",
       "      <td>1.000000</td>\n",
       "    </tr>\n",
       "    <tr>\n",
       "      <th>max</th>\n",
       "      <td>86.000000</td>\n",
       "      <td>90.000000</td>\n",
       "      <td>149.000000</td>\n",
       "      <td>1.000000</td>\n",
       "      <td>1.000000</td>\n",
       "    </tr>\n",
       "  </tbody>\n",
       "</table>\n",
       "</div>"
      ],
      "text/plain": [
       "       depart_delay   arri_delay  Total_delay  Delay_status    day_range\n",
       "count   6640.000000  6640.000000  6640.000000   6640.000000  6640.000000\n",
       "mean      20.403916    18.138253    38.542169      0.527861     0.357229\n",
       "std       17.444849    16.828996    32.812889      0.499261     0.479219\n",
       "min        1.000000     1.000000     2.000000      0.000000     0.000000\n",
       "25%        7.000000     6.000000    15.000000      0.000000     0.000000\n",
       "50%       15.000000    13.000000    28.000000      1.000000     0.000000\n",
       "75%       28.000000    24.000000    52.000000      1.000000     1.000000\n",
       "max       86.000000    90.000000   149.000000      1.000000     1.000000"
      ]
     },
     "execution_count": 327,
     "metadata": {},
     "output_type": "execute_result"
    }
   ],
   "source": [
    "es2_delays.describe()"
   ]
  },
  {
   "cell_type": "code",
   "execution_count": 328,
   "metadata": {},
   "outputs": [],
   "source": [
    "es2_dep_delay_mean = es2_delays.depart_delay.mean()\n",
    "es2_dep_delay_std = es2_delays.depart_delay.std()\n",
    "es2_dep_delay_var = es2_delays.depart_delay.var()\n",
    "es2_t_delay_mean = es2_delays.Total_delay.mean()\n",
    "es2_tl_delay_std = es2_delays.Total_delay.std()\n",
    "es2_t_delay_var = es2_delays.Total_delay.var()"
   ]
  },
  {
   "cell_type": "markdown",
   "metadata": {},
   "source": []
  },
  {
   "cell_type": "markdown",
   "metadata": {},
   "source": [
    "### Spain summary statistics of most important airports (BCN, MAD, MAL, BMI)\n"
   ]
  },
  {
   "cell_type": "code",
   "execution_count": 329,
   "metadata": {},
   "outputs": [],
   "source": [
    "spain_airpts_main = ['BCN', 'MAD', 'PMI', 'LPA']"
   ]
  },
  {
   "cell_type": "code",
   "execution_count": 330,
   "metadata": {},
   "outputs": [],
   "source": [
    "data_es_3 = data_es[data_es['depart_airpt'].isin(spain_airpts_main)]\n",
    "es3_delays =  data_es_3[np.logical_and(data_es_3['depart_delay']>0, data_es_3['arri_delay']>0)]"
   ]
  },
  {
   "cell_type": "code",
   "execution_count": 331,
   "metadata": {},
   "outputs": [
    {
     "data": {
      "text/html": [
       "<div>\n",
       "<style scoped>\n",
       "    .dataframe tbody tr th:only-of-type {\n",
       "        vertical-align: middle;\n",
       "    }\n",
       "\n",
       "    .dataframe tbody tr th {\n",
       "        vertical-align: top;\n",
       "    }\n",
       "\n",
       "    .dataframe thead th {\n",
       "        text-align: right;\n",
       "    }\n",
       "</style>\n",
       "<table border=\"1\" class=\"dataframe\">\n",
       "  <thead>\n",
       "    <tr style=\"text-align: right;\">\n",
       "      <th></th>\n",
       "      <th>depart_delay</th>\n",
       "      <th>arri_delay</th>\n",
       "      <th>Total_delay</th>\n",
       "      <th>Delay_status</th>\n",
       "      <th>day_range</th>\n",
       "    </tr>\n",
       "  </thead>\n",
       "  <tbody>\n",
       "    <tr>\n",
       "      <th>count</th>\n",
       "      <td>5604.000000</td>\n",
       "      <td>5604.000000</td>\n",
       "      <td>5604.000000</td>\n",
       "      <td>5604.000000</td>\n",
       "      <td>5604.000000</td>\n",
       "    </tr>\n",
       "    <tr>\n",
       "      <th>mean</th>\n",
       "      <td>20.841899</td>\n",
       "      <td>18.428444</td>\n",
       "      <td>39.270343</td>\n",
       "      <td>0.538722</td>\n",
       "      <td>0.380799</td>\n",
       "    </tr>\n",
       "    <tr>\n",
       "      <th>std</th>\n",
       "      <td>17.195498</td>\n",
       "      <td>16.194617</td>\n",
       "      <td>31.910529</td>\n",
       "      <td>0.498543</td>\n",
       "      <td>0.485627</td>\n",
       "    </tr>\n",
       "    <tr>\n",
       "      <th>min</th>\n",
       "      <td>1.000000</td>\n",
       "      <td>1.000000</td>\n",
       "      <td>2.000000</td>\n",
       "      <td>0.000000</td>\n",
       "      <td>0.000000</td>\n",
       "    </tr>\n",
       "    <tr>\n",
       "      <th>25%</th>\n",
       "      <td>8.000000</td>\n",
       "      <td>6.000000</td>\n",
       "      <td>16.000000</td>\n",
       "      <td>0.000000</td>\n",
       "      <td>0.000000</td>\n",
       "    </tr>\n",
       "    <tr>\n",
       "      <th>50%</th>\n",
       "      <td>15.000000</td>\n",
       "      <td>14.000000</td>\n",
       "      <td>29.000000</td>\n",
       "      <td>1.000000</td>\n",
       "      <td>0.000000</td>\n",
       "    </tr>\n",
       "    <tr>\n",
       "      <th>75%</th>\n",
       "      <td>30.000000</td>\n",
       "      <td>25.000000</td>\n",
       "      <td>53.000000</td>\n",
       "      <td>1.000000</td>\n",
       "      <td>1.000000</td>\n",
       "    </tr>\n",
       "    <tr>\n",
       "      <th>max</th>\n",
       "      <td>86.000000</td>\n",
       "      <td>90.000000</td>\n",
       "      <td>149.000000</td>\n",
       "      <td>1.000000</td>\n",
       "      <td>1.000000</td>\n",
       "    </tr>\n",
       "  </tbody>\n",
       "</table>\n",
       "</div>"
      ],
      "text/plain": [
       "       depart_delay   arri_delay  Total_delay  Delay_status    day_range\n",
       "count   5604.000000  5604.000000  5604.000000   5604.000000  5604.000000\n",
       "mean      20.841899    18.428444    39.270343      0.538722     0.380799\n",
       "std       17.195498    16.194617    31.910529      0.498543     0.485627\n",
       "min        1.000000     1.000000     2.000000      0.000000     0.000000\n",
       "25%        8.000000     6.000000    16.000000      0.000000     0.000000\n",
       "50%       15.000000    14.000000    29.000000      1.000000     0.000000\n",
       "75%       30.000000    25.000000    53.000000      1.000000     1.000000\n",
       "max       86.000000    90.000000   149.000000      1.000000     1.000000"
      ]
     },
     "execution_count": 331,
     "metadata": {},
     "output_type": "execute_result"
    }
   ],
   "source": [
    "es3_delays.describe()"
   ]
  },
  {
   "cell_type": "code",
   "execution_count": 332,
   "metadata": {},
   "outputs": [],
   "source": [
    "es3_dep_delay_mean = es3_delays.depart_delay.mean()\n",
    "es3_dep_delay_std = es3_delays.depart_delay.std()\n",
    "es3_dep_delay_var = es3_delays.depart_delay.var()\n",
    "es3_t_delay_mean = es3_delays.Total_delay.mean()\n",
    "es3_tl_delay_std = es3_delays.Total_delay.std()\n",
    "es3_t_delay_var = es3_delays.Total_delay.var()"
   ]
  },
  {
   "cell_type": "markdown",
   "metadata": {},
   "source": [
    "## <font color=blue>Barcelona summary statistics</font>\n"
   ]
  },
  {
   "cell_type": "code",
   "execution_count": 333,
   "metadata": {},
   "outputs": [],
   "source": [
    "data_bcn = data[data['depart_airpt'] == 'BCN']\n",
    "bnc_delays =  data_bcn[np.logical_and(data_bcn['depart_delay']>0, data_bcn['arri_delay']>0)]"
   ]
  },
  {
   "cell_type": "code",
   "execution_count": 334,
   "metadata": {
    "scrolled": true
   },
   "outputs": [
    {
     "data": {
      "text/html": [
       "<div>\n",
       "<style scoped>\n",
       "    .dataframe tbody tr th:only-of-type {\n",
       "        vertical-align: middle;\n",
       "    }\n",
       "\n",
       "    .dataframe tbody tr th {\n",
       "        vertical-align: top;\n",
       "    }\n",
       "\n",
       "    .dataframe thead th {\n",
       "        text-align: right;\n",
       "    }\n",
       "</style>\n",
       "<table border=\"1\" class=\"dataframe\">\n",
       "  <thead>\n",
       "    <tr style=\"text-align: right;\">\n",
       "      <th></th>\n",
       "      <th>depart_delay</th>\n",
       "      <th>arri_delay</th>\n",
       "      <th>Total_delay</th>\n",
       "      <th>Delay_status</th>\n",
       "      <th>day_range</th>\n",
       "    </tr>\n",
       "  </thead>\n",
       "  <tbody>\n",
       "    <tr>\n",
       "      <th>count</th>\n",
       "      <td>2117.000000</td>\n",
       "      <td>2117.000000</td>\n",
       "      <td>2117.000000</td>\n",
       "      <td>2117.000000</td>\n",
       "      <td>2117.000000</td>\n",
       "    </tr>\n",
       "    <tr>\n",
       "      <th>mean</th>\n",
       "      <td>22.641001</td>\n",
       "      <td>19.144072</td>\n",
       "      <td>41.785073</td>\n",
       "      <td>0.598016</td>\n",
       "      <td>0.295701</td>\n",
       "    </tr>\n",
       "    <tr>\n",
       "      <th>std</th>\n",
       "      <td>16.338185</td>\n",
       "      <td>15.250353</td>\n",
       "      <td>30.062421</td>\n",
       "      <td>0.490415</td>\n",
       "      <td>0.456465</td>\n",
       "    </tr>\n",
       "    <tr>\n",
       "      <th>min</th>\n",
       "      <td>1.000000</td>\n",
       "      <td>1.000000</td>\n",
       "      <td>3.000000</td>\n",
       "      <td>0.000000</td>\n",
       "      <td>0.000000</td>\n",
       "    </tr>\n",
       "    <tr>\n",
       "      <th>25%</th>\n",
       "      <td>9.000000</td>\n",
       "      <td>7.000000</td>\n",
       "      <td>17.000000</td>\n",
       "      <td>0.000000</td>\n",
       "      <td>0.000000</td>\n",
       "    </tr>\n",
       "    <tr>\n",
       "      <th>50%</th>\n",
       "      <td>19.000000</td>\n",
       "      <td>15.000000</td>\n",
       "      <td>34.000000</td>\n",
       "      <td>1.000000</td>\n",
       "      <td>0.000000</td>\n",
       "    </tr>\n",
       "    <tr>\n",
       "      <th>75%</th>\n",
       "      <td>32.000000</td>\n",
       "      <td>27.000000</td>\n",
       "      <td>59.000000</td>\n",
       "      <td>1.000000</td>\n",
       "      <td>1.000000</td>\n",
       "    </tr>\n",
       "    <tr>\n",
       "      <th>max</th>\n",
       "      <td>86.000000</td>\n",
       "      <td>74.000000</td>\n",
       "      <td>147.000000</td>\n",
       "      <td>1.000000</td>\n",
       "      <td>1.000000</td>\n",
       "    </tr>\n",
       "  </tbody>\n",
       "</table>\n",
       "</div>"
      ],
      "text/plain": [
       "       depart_delay   arri_delay  Total_delay  Delay_status    day_range\n",
       "count   2117.000000  2117.000000  2117.000000   2117.000000  2117.000000\n",
       "mean      22.641001    19.144072    41.785073      0.598016     0.295701\n",
       "std       16.338185    15.250353    30.062421      0.490415     0.456465\n",
       "min        1.000000     1.000000     3.000000      0.000000     0.000000\n",
       "25%        9.000000     7.000000    17.000000      0.000000     0.000000\n",
       "50%       19.000000    15.000000    34.000000      1.000000     0.000000\n",
       "75%       32.000000    27.000000    59.000000      1.000000     1.000000\n",
       "max       86.000000    74.000000   147.000000      1.000000     1.000000"
      ]
     },
     "execution_count": 334,
     "metadata": {},
     "output_type": "execute_result"
    }
   ],
   "source": [
    "bnc_delays.describe()"
   ]
  },
  {
   "cell_type": "code",
   "execution_count": 335,
   "metadata": {},
   "outputs": [],
   "source": [
    "bnc_dep_delay_mean = bnc_delays.depart_delay.mean()\n",
    "bnc_dep_delay_std = bnc_delays.depart_delay.std()\n",
    "bnc_dep_delay_var = bnc_delays.depart_delay.var()\n",
    "bnc_t_delay_mean = bnc_delays.Total_delay.mean()\n",
    "bnc_t_delay_std = bnc_delays.Total_delay.std()\n",
    "bnc_t_delay_var = bnc_delays.Total_delay.var()"
   ]
  },
  {
   "cell_type": "markdown",
   "metadata": {},
   "source": [
    "## <font color=blue>Madrid summary statistics</font>\n"
   ]
  },
  {
   "cell_type": "code",
   "execution_count": 336,
   "metadata": {},
   "outputs": [],
   "source": [
    "data_mad = data[data['depart_airpt'] == 'MAD']\n",
    "mad_delays =  data_mad[np.logical_and(data_mad['depart_delay']>0, data_mad['arri_delay']>0)]"
   ]
  },
  {
   "cell_type": "code",
   "execution_count": 337,
   "metadata": {},
   "outputs": [],
   "source": [
    "mad_dep_delay_mean = mad_delays.depart_delay.mean()\n",
    "mad_dep_delay_std = mad_delays.depart_delay.std()\n",
    "mad_dep_delay_var = mad_delays.depart_delay.var()\n",
    "mad_t_delay_mean = mad_delays.Total_delay.mean()\n",
    "mad_t_delay_std = mad_delays.Total_delay.std()\n",
    "mad_t_delay_var = mad_delays.Total_delay.var()"
   ]
  },
  {
   "cell_type": "code",
   "execution_count": null,
   "metadata": {},
   "outputs": [],
   "source": []
  },
  {
   "cell_type": "markdown",
   "metadata": {},
   "source": [
    "## <font color=blue>Vueling summary statistics</font>\n"
   ]
  },
  {
   "cell_type": "code",
   "execution_count": 338,
   "metadata": {},
   "outputs": [],
   "source": [
    "data_vueling = data[data['airln_name'] == 'Vueling']\n",
    "vueling_delays =  data_vueling[np.logical_and(data_vueling['depart_delay']>0, data_vueling['arri_delay']>0)]"
   ]
  },
  {
   "cell_type": "code",
   "execution_count": 339,
   "metadata": {},
   "outputs": [
    {
     "data": {
      "text/html": [
       "<div>\n",
       "<style scoped>\n",
       "    .dataframe tbody tr th:only-of-type {\n",
       "        vertical-align: middle;\n",
       "    }\n",
       "\n",
       "    .dataframe tbody tr th {\n",
       "        vertical-align: top;\n",
       "    }\n",
       "\n",
       "    .dataframe thead th {\n",
       "        text-align: right;\n",
       "    }\n",
       "</style>\n",
       "<table border=\"1\" class=\"dataframe\">\n",
       "  <thead>\n",
       "    <tr style=\"text-align: right;\">\n",
       "      <th></th>\n",
       "      <th>depart_delay</th>\n",
       "      <th>arri_delay</th>\n",
       "      <th>Total_delay</th>\n",
       "      <th>Delay_status</th>\n",
       "      <th>day_range</th>\n",
       "    </tr>\n",
       "  </thead>\n",
       "  <tbody>\n",
       "    <tr>\n",
       "      <th>count</th>\n",
       "      <td>1021.000000</td>\n",
       "      <td>1021.000000</td>\n",
       "      <td>1021.000000</td>\n",
       "      <td>1021.000000</td>\n",
       "      <td>1021.000000</td>\n",
       "    </tr>\n",
       "    <tr>\n",
       "      <th>mean</th>\n",
       "      <td>23.449559</td>\n",
       "      <td>19.590597</td>\n",
       "      <td>43.040157</td>\n",
       "      <td>0.612145</td>\n",
       "      <td>0.333986</td>\n",
       "    </tr>\n",
       "    <tr>\n",
       "      <th>std</th>\n",
       "      <td>17.633876</td>\n",
       "      <td>17.109018</td>\n",
       "      <td>33.409834</td>\n",
       "      <td>0.487500</td>\n",
       "      <td>0.471866</td>\n",
       "    </tr>\n",
       "    <tr>\n",
       "      <th>min</th>\n",
       "      <td>1.000000</td>\n",
       "      <td>1.000000</td>\n",
       "      <td>2.000000</td>\n",
       "      <td>0.000000</td>\n",
       "      <td>0.000000</td>\n",
       "    </tr>\n",
       "    <tr>\n",
       "      <th>25%</th>\n",
       "      <td>10.000000</td>\n",
       "      <td>6.000000</td>\n",
       "      <td>17.000000</td>\n",
       "      <td>0.000000</td>\n",
       "      <td>0.000000</td>\n",
       "    </tr>\n",
       "    <tr>\n",
       "      <th>50%</th>\n",
       "      <td>19.000000</td>\n",
       "      <td>15.000000</td>\n",
       "      <td>35.000000</td>\n",
       "      <td>1.000000</td>\n",
       "      <td>0.000000</td>\n",
       "    </tr>\n",
       "    <tr>\n",
       "      <th>75%</th>\n",
       "      <td>32.000000</td>\n",
       "      <td>28.000000</td>\n",
       "      <td>58.000000</td>\n",
       "      <td>1.000000</td>\n",
       "      <td>1.000000</td>\n",
       "    </tr>\n",
       "    <tr>\n",
       "      <th>max</th>\n",
       "      <td>86.000000</td>\n",
       "      <td>86.000000</td>\n",
       "      <td>148.000000</td>\n",
       "      <td>1.000000</td>\n",
       "      <td>1.000000</td>\n",
       "    </tr>\n",
       "  </tbody>\n",
       "</table>\n",
       "</div>"
      ],
      "text/plain": [
       "       depart_delay   arri_delay  Total_delay  Delay_status    day_range\n",
       "count   1021.000000  1021.000000  1021.000000   1021.000000  1021.000000\n",
       "mean      23.449559    19.590597    43.040157      0.612145     0.333986\n",
       "std       17.633876    17.109018    33.409834      0.487500     0.471866\n",
       "min        1.000000     1.000000     2.000000      0.000000     0.000000\n",
       "25%       10.000000     6.000000    17.000000      0.000000     0.000000\n",
       "50%       19.000000    15.000000    35.000000      1.000000     0.000000\n",
       "75%       32.000000    28.000000    58.000000      1.000000     1.000000\n",
       "max       86.000000    86.000000   148.000000      1.000000     1.000000"
      ]
     },
     "execution_count": 339,
     "metadata": {},
     "output_type": "execute_result"
    }
   ],
   "source": [
    "vueling_delays.describe()"
   ]
  },
  {
   "cell_type": "code",
   "execution_count": 340,
   "metadata": {},
   "outputs": [],
   "source": [
    "vue_dep_delay_mean = vueling_delays.depart_delay.mean()\n",
    "vue_dep_delay_std = vueling_delays.depart_delay.std()\n",
    "vue_dep_delay_var = vueling_delays.depart_delay.var()\n",
    "vue_t_delay_mean = vueling_delays.Total_delay.mean()\n",
    "vue_t_delay_std = vueling_delays.Total_delay.std()\n",
    "vue_t_delay_var = vueling_delays.Total_delay.var()"
   ]
  },
  {
   "cell_type": "markdown",
   "metadata": {},
   "source": [
    "# <font color=red>Hypothesis testing</font>"
   ]
  },
  {
   "cell_type": "markdown",
   "metadata": {},
   "source": [
    "## 1- Its is more likely to have delay time in Spain airports than in the rest of europe. "
   ]
  },
  {
   "cell_type": "markdown",
   "metadata": {},
   "source": [
    "H0: The mean departure time in minutes in Spain is equal or lower than in the rest of Europe\n",
    "\n",
    "\n",
    "H1: The mean departure time in minutes in Spain is greater than in the rest of Europe"
   ]
  },
  {
   "cell_type": "markdown",
   "metadata": {},
   "source": [
    "#### Testing with the european departure delay mean by Eurocontrol"
   ]
  },
  {
   "cell_type": "code",
   "execution_count": 341,
   "metadata": {},
   "outputs": [
    {
     "name": "stdout",
     "output_type": "stream",
     "text": [
      "Reject null hypothesis, we have evidence for alternative hypothesis\n",
      "\n",
      "Ttest_1sampResult(statistic=48.637806270045715, pvalue=0.0)\n"
     ]
    }
   ],
   "source": [
    "#With a condifence level of 5%, lets test to see if we can reject our null hypotehsis.\n",
    "alpha = 0.05\n",
    "\n",
    "result_ttest = stats.ttest_1samp(es_delays['depart_delay'], europe_delay_mean)\n",
    "\n",
    "if (result_ttest[0] > 0) & (result_ttest[1] < alpha):\n",
    "    print (f\"Reject null hypothesis, we have evidence for alternative hypothesis\\n\")\n",
    "else:\n",
    "    print('We dont have statistical evidence to reject the null hypothesis')\n",
    "\n",
    "print(result_ttest)"
   ]
  },
  {
   "cell_type": "markdown",
   "metadata": {},
   "source": [
    "#### Testing with the european departure delay mean of my sample"
   ]
  },
  {
   "cell_type": "code",
   "execution_count": 342,
   "metadata": {},
   "outputs": [
    {
     "name": "stdout",
     "output_type": "stream",
     "text": [
      "We dont have statistical evidence to reject the null hypothesis\n",
      "\n",
      "Ttest_1sampResult(statistic=-1.8901571157239445, pvalue=0.058769945778815516)\n"
     ]
    }
   ],
   "source": [
    "#With a condifence level of 5%, lets test to see if we can reject our null hypotehsis.\n",
    "alpha = 0.05\n",
    "\n",
    "result_ttest = stats.ttest_1samp(es_delays['depart_delay'], eu_dep_delay_mean)\n",
    "\n",
    "if (result_ttest[0] > 0) & (result_ttest[1] < alpha):\n",
    "    print (f\"Reject null hypothesis, we have evidence for alternative hypothesis\\n\")\n",
    "else:\n",
    "    print('We dont have statistical evidence to reject the null hypothesis\\n')\n",
    "\n",
    "print(result_ttest)"
   ]
  },
  {
   "cell_type": "markdown",
   "metadata": {},
   "source": [
    "#### Testing with the european departure delay mean of my sample without Spain"
   ]
  },
  {
   "cell_type": "code",
   "execution_count": 343,
   "metadata": {},
   "outputs": [
    {
     "name": "stdout",
     "output_type": "stream",
     "text": [
      "We dont have statistical evidence to reject the null hypothesis\n",
      "\n",
      "Ttest_1sampResult(statistic=-2.392527695497963, pvalue=0.016753714609995675)\n"
     ]
    }
   ],
   "source": [
    "#With a condifence level of 5%, lets test to see if we can reject our null hypotehsis.\n",
    "alpha = 0.05\n",
    "\n",
    "result_ttest = stats.ttest_1samp(es_delays['depart_delay'], eu2_dep_delay_mean)\n",
    "\n",
    "if (result_ttest[0] > 0) & (result_ttest[1] < alpha):\n",
    "    print (f\"Reject null hypothesis, we have evidence for alternative hypothesis\\n\")\n",
    "else:\n",
    "    print('We dont have statistical evidence to reject the null hypothesis\\n')\n",
    "\n",
    "print(result_ttest)"
   ]
  },
  {
   "cell_type": "markdown",
   "metadata": {},
   "source": [
    "## 2-The Barcelona airport is the airport with less delays time in average of Spain. "
   ]
  },
  {
   "cell_type": "markdown",
   "metadata": {},
   "source": [
    "H0: The mean departure time in minutes in BCN is equal or greater than in the rest of Spain.\n",
    "\n",
    "\n",
    "H1: The mean departure time in minutes in BCN is lower than in the rest of Spain."
   ]
  },
  {
   "cell_type": "code",
   "execution_count": 344,
   "metadata": {},
   "outputs": [
    {
     "name": "stdout",
     "output_type": "stream",
     "text": [
      "We dont have statistical evidence to reject the null hypothesis\n",
      "\n",
      "Ttest_1sampResult(statistic=4.776964258117938, pvalue=1.9017150101784893e-06)\n"
     ]
    }
   ],
   "source": [
    "#With a condifence level of 5%, lets test to see if we can reject our null hypotehsis.\n",
    "\n",
    "alpha = 0.05\n",
    "\n",
    "result_ttest = stats.ttest_1samp(bnc_delays['depart_delay'], es_dep_delay_mean)\n",
    "\n",
    "if (result_ttest[0] < 0) & (result_ttest[1] < alpha):\n",
    "    print (f\"Reject null hypothesis, we have evidence for alternative hypothesis\\n\")\n",
    "else:\n",
    "    print('We dont have statistical evidence to reject the null hypothesis\\n')\n",
    "\n",
    "print(result_ttest)"
   ]
  },
  {
   "cell_type": "markdown",
   "metadata": {},
   "source": [
    "#### Comparing Barcelona with Spain without Barcelona data"
   ]
  },
  {
   "cell_type": "code",
   "execution_count": 345,
   "metadata": {},
   "outputs": [
    {
     "name": "stdout",
     "output_type": "stream",
     "text": [
      "We dont have statistical evidence to reject the null hypothesis\n",
      "\n",
      "Ttest_1sampResult(statistic=6.299981326557053, pvalue=3.6105759799079355e-10)\n"
     ]
    }
   ],
   "source": [
    "#With a condifence level of 5%, lets test to see if we can reject our null hypotehsis.\n",
    "\n",
    "alpha = 0.05\n",
    "\n",
    "result_ttest = stats.ttest_1samp(bnc_delays['depart_delay'], es2_dep_delay_mean)\n",
    "\n",
    "if (result_ttest[0] < 0) & (result_ttest[1] < alpha):\n",
    "    print (f\"Reject null hypothesis, we have evidence for alternative hypothesis\\n\")\n",
    "else:\n",
    "    print('We dont have statistical evidence to reject the null hypothesis\\n')\n",
    "\n",
    "print(result_ttest)"
   ]
  },
  {
   "cell_type": "code",
   "execution_count": null,
   "metadata": {},
   "outputs": [],
   "source": []
  },
  {
   "cell_type": "markdown",
   "metadata": {},
   "source": [
    "#### Comparing Barcelona with Spain most important airports in size"
   ]
  },
  {
   "cell_type": "code",
   "execution_count": 346,
   "metadata": {},
   "outputs": [
    {
     "name": "stdout",
     "output_type": "stream",
     "text": [
      "We dont have statistical evidence to reject the null hypothesis\n",
      "\n",
      "Ttest_1sampResult(statistic=5.066553150070664, pvalue=4.4021446479022694e-07)\n"
     ]
    }
   ],
   "source": [
    "#With a condifence level of 5%, lets test to see if we can reject our null hypotehsis.\n",
    "\n",
    "alpha = 0.05\n",
    "\n",
    "result_ttest = stats.ttest_1samp(bnc_delays['depart_delay'], es3_dep_delay_mean)\n",
    "\n",
    "if (result_ttest[0] < 0) & (result_ttest[1] < alpha):\n",
    "    print (f\"Reject null hypothesis, we have evidence for alternative hypothesis\\n\")\n",
    "else:\n",
    "    print('We dont have statistical evidence to reject the null hypothesis\\n')\n",
    "\n",
    "print(result_ttest)"
   ]
  },
  {
   "cell_type": "code",
   "execution_count": null,
   "metadata": {},
   "outputs": [],
   "source": []
  },
  {
   "cell_type": "code",
   "execution_count": null,
   "metadata": {},
   "outputs": [],
   "source": []
  },
  {
   "cell_type": "markdown",
   "metadata": {},
   "source": [
    "## 3- Vueling is the air carrier with more delays on average"
   ]
  },
  {
   "cell_type": "markdown",
   "metadata": {},
   "source": [
    "H0: The mean departure time in minutes in Vueling is equal or lower than in the rest of airlines.\n",
    "\n",
    "\n",
    "H1: The mean departure time in minutes in Vueling is greater than in the rest of airlines."
   ]
  },
  {
   "cell_type": "code",
   "execution_count": 347,
   "metadata": {},
   "outputs": [
    {
     "name": "stdout",
     "output_type": "stream",
     "text": [
      "Reject null hypothesis, we have evidence for alternative hypothesis\n",
      "\n",
      "Ttest_1sampResult(statistic=3.908945089885432, pvalue=9.882033179133358e-05)\n"
     ]
    }
   ],
   "source": [
    "#With a condifence level of 5%, lets test to see if we can reject our null hypotehsis.\n",
    "\n",
    "alpha = 0.05\n",
    "\n",
    "result_ttest = stats.ttest_1samp(vueling_delays['depart_delay'], eu_dep_delay_mean)\n",
    "\n",
    "if (result_ttest[0] > 0) & (result_ttest[1] < alpha):\n",
    "    print (f\"Reject null hypothesis, we have evidence for alternative hypothesis\\n\")\n",
    "else:\n",
    "    print('We dont have statistical evidence to reject the null hypothesis\\n')\n",
    "\n",
    "print(result_ttest)"
   ]
  },
  {
   "cell_type": "code",
   "execution_count": null,
   "metadata": {},
   "outputs": [],
   "source": []
  },
  {
   "cell_type": "markdown",
   "metadata": {},
   "source": [
    "## 4- Daytime in terms of morning, afternoon and evening, night has an effect in classifiying the flight as a delayed flight."
   ]
  },
  {
   "cell_type": "code",
   "execution_count": 348,
   "metadata": {},
   "outputs": [],
   "source": [
    "daytime_crosstable = pd.crosstab(index=data.day_range, columns=data.Delay_status)"
   ]
  },
  {
   "cell_type": "code",
   "execution_count": 349,
   "metadata": {},
   "outputs": [
    {
     "data": {
      "text/html": [
       "<div>\n",
       "<style scoped>\n",
       "    .dataframe tbody tr th:only-of-type {\n",
       "        vertical-align: middle;\n",
       "    }\n",
       "\n",
       "    .dataframe tbody tr th {\n",
       "        vertical-align: top;\n",
       "    }\n",
       "\n",
       "    .dataframe thead th {\n",
       "        text-align: right;\n",
       "    }\n",
       "</style>\n",
       "<table border=\"1\" class=\"dataframe\">\n",
       "  <thead>\n",
       "    <tr style=\"text-align: right;\">\n",
       "      <th>Delay_status</th>\n",
       "      <th>0</th>\n",
       "      <th>1</th>\n",
       "    </tr>\n",
       "    <tr>\n",
       "      <th>day_range</th>\n",
       "      <th></th>\n",
       "      <th></th>\n",
       "    </tr>\n",
       "  </thead>\n",
       "  <tbody>\n",
       "    <tr>\n",
       "      <th>0</th>\n",
       "      <td>43755</td>\n",
       "      <td>16230</td>\n",
       "    </tr>\n",
       "    <tr>\n",
       "      <th>1</th>\n",
       "      <td>14455</td>\n",
       "      <td>9024</td>\n",
       "    </tr>\n",
       "  </tbody>\n",
       "</table>\n",
       "</div>"
      ],
      "text/plain": [
       "Delay_status      0      1\n",
       "day_range                 \n",
       "0             43755  16230\n",
       "1             14455   9024"
      ]
     },
     "execution_count": 349,
     "metadata": {},
     "output_type": "execute_result"
    }
   ],
   "source": [
    "daytime_crosstable"
   ]
  },
  {
   "cell_type": "markdown",
   "metadata": {},
   "source": [
    "H0: The null hypothesis is that the daytime has no impact on classiying a flight as delayed.\n",
    "\n",
    "H1: Daytime has an impact on classiying a flight as delayed."
   ]
  },
  {
   "cell_type": "code",
   "execution_count": 350,
   "metadata": {},
   "outputs": [],
   "source": [
    "oddsratio, pvalue = stats.fisher_exact(daytime_crosstable)"
   ]
  },
  {
   "cell_type": "code",
   "execution_count": 351,
   "metadata": {},
   "outputs": [
    {
     "name": "stdout",
     "output_type": "stream",
     "text": [
      "Reject null hypothesis, we have evidence for alternative hypothesis\n",
      "\n"
     ]
    }
   ],
   "source": [
    "alpha = 0.05\n",
    "\n",
    "if pvalue < alpha:\n",
    "    print (f\"Reject null hypothesis, we have evidence for alternative hypothesis\\n\")\n",
    "else:\n",
    "    print('We dont have statistical evidence to reject the null hypothesis\\n')"
   ]
  },
  {
   "cell_type": "code",
   "execution_count": 352,
   "metadata": {},
   "outputs": [],
   "source": [
    "total_rows = list(daytime_crosstable.sum(axis= 1, skipna = True))\n",
    "daytime_crosstable['total'] = total_rows"
   ]
  },
  {
   "cell_type": "code",
   "execution_count": 353,
   "metadata": {},
   "outputs": [],
   "source": [
    "new_index= [0,1,'totals']\n",
    "daytime_crosstable = daytime_crosstable.reindex(new_index)"
   ]
  },
  {
   "cell_type": "code",
   "execution_count": 354,
   "metadata": {},
   "outputs": [],
   "source": [
    "daytime_crosstable.loc['totals'] = daytime_crosstable.select_dtypes(pd.np.number).sum()\n"
   ]
  },
  {
   "cell_type": "code",
   "execution_count": 355,
   "metadata": {},
   "outputs": [
    {
     "data": {
      "text/html": [
       "<div>\n",
       "<style scoped>\n",
       "    .dataframe tbody tr th:only-of-type {\n",
       "        vertical-align: middle;\n",
       "    }\n",
       "\n",
       "    .dataframe tbody tr th {\n",
       "        vertical-align: top;\n",
       "    }\n",
       "\n",
       "    .dataframe thead th {\n",
       "        text-align: right;\n",
       "    }\n",
       "</style>\n",
       "<table border=\"1\" class=\"dataframe\">\n",
       "  <thead>\n",
       "    <tr style=\"text-align: right;\">\n",
       "      <th>Delay_status</th>\n",
       "      <th>0</th>\n",
       "      <th>1</th>\n",
       "      <th>total</th>\n",
       "    </tr>\n",
       "    <tr>\n",
       "      <th>day_range</th>\n",
       "      <th></th>\n",
       "      <th></th>\n",
       "      <th></th>\n",
       "    </tr>\n",
       "  </thead>\n",
       "  <tbody>\n",
       "    <tr>\n",
       "      <th>0</th>\n",
       "      <td>43755.0</td>\n",
       "      <td>16230.0</td>\n",
       "      <td>59985.0</td>\n",
       "    </tr>\n",
       "    <tr>\n",
       "      <th>1</th>\n",
       "      <td>14455.0</td>\n",
       "      <td>9024.0</td>\n",
       "      <td>23479.0</td>\n",
       "    </tr>\n",
       "    <tr>\n",
       "      <th>totals</th>\n",
       "      <td>58210.0</td>\n",
       "      <td>25254.0</td>\n",
       "      <td>83464.0</td>\n",
       "    </tr>\n",
       "  </tbody>\n",
       "</table>\n",
       "</div>"
      ],
      "text/plain": [
       "Delay_status        0        1    total\n",
       "day_range                              \n",
       "0             43755.0  16230.0  59985.0\n",
       "1             14455.0   9024.0  23479.0\n",
       "totals        58210.0  25254.0  83464.0"
      ]
     },
     "execution_count": 355,
     "metadata": {},
     "output_type": "execute_result"
    }
   ],
   "source": [
    "daytime_crosstable"
   ]
  },
  {
   "cell_type": "code",
   "execution_count": 356,
   "metadata": {},
   "outputs": [],
   "source": [
    "#Probability of being delayed given that you take the plan before 2pm. P(delayed|before 2pm)\n",
    "\n",
    "P_delay_before2pm = (daytime_crosstable[1][0] / daytime_crosstable['total']['totals']) / (daytime_crosstable['total'][0]/\n",
    "                                                               daytime_crosstable['total']['totals'])"
   ]
  },
  {
   "cell_type": "code",
   "execution_count": 357,
   "metadata": {},
   "outputs": [],
   "source": [
    "P_delay_after2pm = (daytime_crosstable[1][1] / daytime_crosstable['total']['totals']) / (daytime_crosstable['total'][1]/\n",
    "                                                               daytime_crosstable['total']['totals'])"
   ]
  },
  {
   "cell_type": "code",
   "execution_count": 358,
   "metadata": {},
   "outputs": [],
   "source": [
    "P_no_delay_before2 = 1 - P_delay_before2pm\n",
    "P_no_delay_after2 = 1 - P_delay_after2pm"
   ]
  },
  {
   "cell_type": "code",
   "execution_count": 359,
   "metadata": {},
   "outputs": [
    {
     "name": "stdout",
     "output_type": "stream",
     "text": [
      "0.27056764191047766 0.7294323580895223\n",
      "0.38434345585416757 0.6156565441458324\n"
     ]
    }
   ],
   "source": [
    "print(P_delay_before2pm, P_no_delay_before2)\n",
    "print(P_delay_after2pm, P_no_delay_after2)\n"
   ]
  },
  {
   "cell_type": "code",
   "execution_count": null,
   "metadata": {},
   "outputs": [],
   "source": []
  },
  {
   "cell_type": "code",
   "execution_count": null,
   "metadata": {},
   "outputs": [],
   "source": []
  },
  {
   "cell_type": "code",
   "execution_count": null,
   "metadata": {},
   "outputs": [],
   "source": []
  },
  {
   "cell_type": "code",
   "execution_count": null,
   "metadata": {},
   "outputs": [],
   "source": []
  },
  {
   "cell_type": "code",
   "execution_count": null,
   "metadata": {},
   "outputs": [],
   "source": []
  },
  {
   "cell_type": "code",
   "execution_count": null,
   "metadata": {},
   "outputs": [],
   "source": []
  }
 ],
 "metadata": {
  "kernelspec": {
   "display_name": "ironhack",
   "language": "python",
   "name": "ironhack"
  },
  "language_info": {
   "codemirror_mode": {
    "name": "ipython",
    "version": 3
   },
   "file_extension": ".py",
   "mimetype": "text/x-python",
   "name": "python",
   "nbconvert_exporter": "python",
   "pygments_lexer": "ipython3",
   "version": "3.7.3"
  }
 },
 "nbformat": 4,
 "nbformat_minor": 2
}
