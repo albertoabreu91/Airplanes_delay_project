{
 "cells": [
  {
   "cell_type": "code",
   "execution_count": 130,
   "metadata": {},
   "outputs": [],
   "source": [
    "import pandas as pd\n",
    "import numpy as np\n",
    "import os\n",
    "from sqlalchemy import create_engine\n",
    "from scipy import stats\n",
    "import math as m"
   ]
  },
  {
   "cell_type": "code",
   "execution_count": 2,
   "metadata": {},
   "outputs": [],
   "source": [
    "driver = 'mysql+pymysql:'\n",
    "user = 'root'\n",
    "password = '19693903'\n",
    "ip = '127.0.0.1'\n",
    "database = 'project_4'"
   ]
  },
  {
   "cell_type": "code",
   "execution_count": 3,
   "metadata": {},
   "outputs": [],
   "source": [
    "connection_string = f'{driver}//{user}:{password}@{ip}/{database}'\n",
    "engine = create_engine(connection_string)"
   ]
  },
  {
   "cell_type": "code",
   "execution_count": 143,
   "metadata": {},
   "outputs": [],
   "source": [
    "query = \"\"\"\n",
    "SELECT *\n",
    "FROM flights\n",
    "\"\"\"\n",
    "query2 = \"\"\"\n",
    "SELECT * FROM airports\n",
    "\"\"\""
   ]
  },
  {
   "cell_type": "code",
   "execution_count": 144,
   "metadata": {},
   "outputs": [],
   "source": [
    "data= pd.read_sql(query, engine)\n",
    "airports_info = pd.read_sql(query2, engine)\n",
    "data = data.merge(airports_info, left_on = 'depart_airpt', right_on='iata_code')"
   ]
  },
  {
   "cell_type": "code",
   "execution_count": 145,
   "metadata": {},
   "outputs": [],
   "source": [
    "data = data.drop(columns = ('iata_code'), axis = 1).rename(columns = {'country_code':'depart_country'})\n",
    "data = data.astype({'depart_delay': int,'arri_delay':int})\n",
    "data['Total_delay'] = data['depart_delay'] + data['arri_delay']"
   ]
  },
  {
   "cell_type": "code",
   "execution_count": 146,
   "metadata": {},
   "outputs": [
    {
     "data": {
      "text/plain": [
       "149.5"
      ]
     },
     "execution_count": 146,
     "metadata": {},
     "output_type": "execute_result"
    }
   ],
   "source": [
    "q1, q3= np.percentile(data['Total_delay'],[25,75])\n",
    "iqr = q3 - q1\n",
    "upper_bound = q3 +(3.5 * iqr)\n",
    "upper_bound"
   ]
  },
  {
   "cell_type": "code",
   "execution_count": 147,
   "metadata": {},
   "outputs": [],
   "source": [
    "data = data[data['Total_delay'] <= upper_bound]"
   ]
  },
  {
   "cell_type": "markdown",
   "metadata": {},
   "source": [
    "## Checking delay status:\n",
    "By law, if a flight's departure delay time is longer than 15 min, it should be classify as **delayed**"
   ]
  },
  {
   "cell_type": "code",
   "execution_count": 148,
   "metadata": {},
   "outputs": [],
   "source": [
    "data['Delay_status'] = np.where(data.depart_delay >= 15, 1,0)"
   ]
  },
  {
   "cell_type": "markdown",
   "metadata": {},
   "source": [
    "### Classiying datetime into morning, afternoon and night"
   ]
  },
  {
   "cell_type": "code",
   "execution_count": 149,
   "metadata": {},
   "outputs": [],
   "source": [
    "def classify_day(x):\n",
    "    if x.hour <=12.0:\n",
    "        return 0\n",
    "    elif (x.hour > 12.0) and (x.hour <= 18.0):\n",
    "        return 1\n",
    "    else:\n",
    "        return 2"
   ]
  },
  {
   "cell_type": "code",
   "execution_count": 150,
   "metadata": {},
   "outputs": [],
   "source": [
    "data['day_range'] = data['schd_depart_time'].apply(classify_day)"
   ]
  },
  {
   "cell_type": "markdown",
   "metadata": {},
   "source": [
    "### Europe summary statistics"
   ]
  },
  {
   "cell_type": "code",
   "execution_count": 151,
   "metadata": {},
   "outputs": [
    {
     "data": {
      "text/html": [
       "<div>\n",
       "<style scoped>\n",
       "    .dataframe tbody tr th:only-of-type {\n",
       "        vertical-align: middle;\n",
       "    }\n",
       "\n",
       "    .dataframe tbody tr th {\n",
       "        vertical-align: top;\n",
       "    }\n",
       "\n",
       "    .dataframe thead th {\n",
       "        text-align: right;\n",
       "    }\n",
       "</style>\n",
       "<table border=\"1\" class=\"dataframe\">\n",
       "  <thead>\n",
       "    <tr style=\"text-align: right;\">\n",
       "      <th></th>\n",
       "      <th>depart_delay</th>\n",
       "      <th>arri_delay</th>\n",
       "      <th>Total_delay</th>\n",
       "    </tr>\n",
       "  </thead>\n",
       "  <tbody>\n",
       "    <tr>\n",
       "      <th>count</th>\n",
       "      <td>36235.000000</td>\n",
       "      <td>36235.000000</td>\n",
       "      <td>36235.000000</td>\n",
       "    </tr>\n",
       "    <tr>\n",
       "      <th>mean</th>\n",
       "      <td>21.264164</td>\n",
       "      <td>19.067642</td>\n",
       "      <td>40.331806</td>\n",
       "    </tr>\n",
       "    <tr>\n",
       "      <th>std</th>\n",
       "      <td>16.406271</td>\n",
       "      <td>16.545273</td>\n",
       "      <td>31.711323</td>\n",
       "    </tr>\n",
       "    <tr>\n",
       "      <th>min</th>\n",
       "      <td>1.000000</td>\n",
       "      <td>1.000000</td>\n",
       "      <td>2.000000</td>\n",
       "    </tr>\n",
       "    <tr>\n",
       "      <th>25%</th>\n",
       "      <td>9.000000</td>\n",
       "      <td>7.000000</td>\n",
       "      <td>16.500000</td>\n",
       "    </tr>\n",
       "    <tr>\n",
       "      <th>50%</th>\n",
       "      <td>17.000000</td>\n",
       "      <td>14.000000</td>\n",
       "      <td>31.000000</td>\n",
       "    </tr>\n",
       "    <tr>\n",
       "      <th>75%</th>\n",
       "      <td>29.000000</td>\n",
       "      <td>27.000000</td>\n",
       "      <td>55.000000</td>\n",
       "    </tr>\n",
       "    <tr>\n",
       "      <th>max</th>\n",
       "      <td>86.000000</td>\n",
       "      <td>133.000000</td>\n",
       "      <td>149.000000</td>\n",
       "    </tr>\n",
       "  </tbody>\n",
       "</table>\n",
       "</div>"
      ],
      "text/plain": [
       "       depart_delay    arri_delay   Total_delay\n",
       "count  36235.000000  36235.000000  36235.000000\n",
       "mean      21.264164     19.067642     40.331806\n",
       "std       16.406271     16.545273     31.711323\n",
       "min        1.000000      1.000000      2.000000\n",
       "25%        9.000000      7.000000     16.500000\n",
       "50%       17.000000     14.000000     31.000000\n",
       "75%       29.000000     27.000000     55.000000\n",
       "max       86.000000    133.000000    149.000000"
      ]
     },
     "execution_count": 151,
     "metadata": {},
     "output_type": "execute_result"
    }
   ],
   "source": [
    "eu_delays = data[['depart_delay', 'arri_delay','Total_delay']]\n",
    "eu_delays =  eu_delays[np.logical_and(eu_delays['depart_delay']>0, eu_delays['arri_delay']>0)]\n",
    "eu_delays.describe()"
   ]
  },
  {
   "cell_type": "code",
   "execution_count": 152,
   "metadata": {},
   "outputs": [],
   "source": [
    "eu_dep_delay_mean = eu_delays.depart_delay.mean()\n",
    "eu_dep_delay_std = eu_delays.depart_delay.std()\n",
    "eu_dep_delay_var = eu_delays.depart_delay.var()\n",
    "eu_t_delay_mean = eu_delays.Total_delay.mean()\n",
    "eu_t_delay_std = eu_delays.Total_delay.std()\n",
    "eu_t_delay_var = eu_delays.Total_delay.var()\n",
    "\n",
    "europe_delay_mean = 12.0\n",
    "#https://www.eurocontrol.int/sites/default/files/2019-07/eurocontrol_top_stats_-_june_2019.pdf"
   ]
  },
  {
   "cell_type": "markdown",
   "metadata": {},
   "source": [
    "### Europe summary statistics without Spain"
   ]
  },
  {
   "cell_type": "code",
   "execution_count": 168,
   "metadata": {},
   "outputs": [],
   "source": [
    "data_eu2 = data[data['depart_country'] != 'ES']"
   ]
  },
  {
   "cell_type": "code",
   "execution_count": 169,
   "metadata": {},
   "outputs": [],
   "source": [
    "eu2_delays =  data_eu2[np.logical_and(data_eu2['depart_delay']>0, data_eu2['arri_delay']>0)]"
   ]
  },
  {
   "cell_type": "code",
   "execution_count": 170,
   "metadata": {},
   "outputs": [
    {
     "data": {
      "text/html": [
       "<div>\n",
       "<style scoped>\n",
       "    .dataframe tbody tr th:only-of-type {\n",
       "        vertical-align: middle;\n",
       "    }\n",
       "\n",
       "    .dataframe tbody tr th {\n",
       "        vertical-align: top;\n",
       "    }\n",
       "\n",
       "    .dataframe thead th {\n",
       "        text-align: right;\n",
       "    }\n",
       "</style>\n",
       "<table border=\"1\" class=\"dataframe\">\n",
       "  <thead>\n",
       "    <tr style=\"text-align: right;\">\n",
       "      <th></th>\n",
       "      <th>depart_delay</th>\n",
       "      <th>arri_delay</th>\n",
       "      <th>Total_delay</th>\n",
       "      <th>Delay_status</th>\n",
       "      <th>day_range</th>\n",
       "    </tr>\n",
       "  </thead>\n",
       "  <tbody>\n",
       "    <tr>\n",
       "      <th>count</th>\n",
       "      <td>28788.000000</td>\n",
       "      <td>28788.000000</td>\n",
       "      <td>28788.000000</td>\n",
       "      <td>28788.000000</td>\n",
       "      <td>28788.000000</td>\n",
       "    </tr>\n",
       "    <tr>\n",
       "      <th>mean</th>\n",
       "      <td>21.369251</td>\n",
       "      <td>19.154926</td>\n",
       "      <td>40.524177</td>\n",
       "      <td>0.579234</td>\n",
       "      <td>0.417813</td>\n",
       "    </tr>\n",
       "    <tr>\n",
       "      <th>std</th>\n",
       "      <td>16.082663</td>\n",
       "      <td>16.469234</td>\n",
       "      <td>31.370494</td>\n",
       "      <td>0.493691</td>\n",
       "      <td>0.536523</td>\n",
       "    </tr>\n",
       "    <tr>\n",
       "      <th>min</th>\n",
       "      <td>1.000000</td>\n",
       "      <td>1.000000</td>\n",
       "      <td>2.000000</td>\n",
       "      <td>0.000000</td>\n",
       "      <td>0.000000</td>\n",
       "    </tr>\n",
       "    <tr>\n",
       "      <th>25%</th>\n",
       "      <td>9.000000</td>\n",
       "      <td>7.000000</td>\n",
       "      <td>17.000000</td>\n",
       "      <td>0.000000</td>\n",
       "      <td>0.000000</td>\n",
       "    </tr>\n",
       "    <tr>\n",
       "      <th>50%</th>\n",
       "      <td>17.000000</td>\n",
       "      <td>14.000000</td>\n",
       "      <td>31.000000</td>\n",
       "      <td>1.000000</td>\n",
       "      <td>0.000000</td>\n",
       "    </tr>\n",
       "    <tr>\n",
       "      <th>75%</th>\n",
       "      <td>29.000000</td>\n",
       "      <td>27.000000</td>\n",
       "      <td>55.000000</td>\n",
       "      <td>1.000000</td>\n",
       "      <td>1.000000</td>\n",
       "    </tr>\n",
       "    <tr>\n",
       "      <th>max</th>\n",
       "      <td>85.000000</td>\n",
       "      <td>133.000000</td>\n",
       "      <td>149.000000</td>\n",
       "      <td>1.000000</td>\n",
       "      <td>2.000000</td>\n",
       "    </tr>\n",
       "  </tbody>\n",
       "</table>\n",
       "</div>"
      ],
      "text/plain": [
       "       depart_delay    arri_delay   Total_delay  Delay_status     day_range\n",
       "count  28788.000000  28788.000000  28788.000000  28788.000000  28788.000000\n",
       "mean      21.369251     19.154926     40.524177      0.579234      0.417813\n",
       "std       16.082663     16.469234     31.370494      0.493691      0.536523\n",
       "min        1.000000      1.000000      2.000000      0.000000      0.000000\n",
       "25%        9.000000      7.000000     17.000000      0.000000      0.000000\n",
       "50%       17.000000     14.000000     31.000000      1.000000      0.000000\n",
       "75%       29.000000     27.000000     55.000000      1.000000      1.000000\n",
       "max       85.000000    133.000000    149.000000      1.000000      2.000000"
      ]
     },
     "execution_count": 170,
     "metadata": {},
     "output_type": "execute_result"
    }
   ],
   "source": [
    "eu2_delays.describe()"
   ]
  },
  {
   "cell_type": "code",
   "execution_count": 171,
   "metadata": {},
   "outputs": [],
   "source": [
    "eu2_dep_delay_mean = eu2_delays.depart_delay.mean()\n",
    "eu2_dep_delay_std = eu2_delays.depart_delay.std()\n",
    "eu2_dep_delay_var = eu2_delays.depart_delay.var()\n",
    "eu2_t_delay_mean = eu2_delays.Total_delay.mean()\n",
    "eu2_t_delay_std = eu2_delays.Total_delay.std()\n",
    "eu2_t_delay_var = eu2_delays.Total_delay.var()"
   ]
  },
  {
   "cell_type": "markdown",
   "metadata": {},
   "source": [
    "## Spain summary statistics\n"
   ]
  },
  {
   "cell_type": "code",
   "execution_count": 180,
   "metadata": {},
   "outputs": [],
   "source": [
    "data_es = data[data['depart_country'] == 'ES']\n",
    "es_delays =  data_es[np.logical_and(data_es['depart_delay']>0, data_es['arri_delay']>0)]"
   ]
  },
  {
   "cell_type": "code",
   "execution_count": 154,
   "metadata": {},
   "outputs": [
    {
     "data": {
      "text/html": [
       "<div>\n",
       "<style scoped>\n",
       "    .dataframe tbody tr th:only-of-type {\n",
       "        vertical-align: middle;\n",
       "    }\n",
       "\n",
       "    .dataframe tbody tr th {\n",
       "        vertical-align: top;\n",
       "    }\n",
       "\n",
       "    .dataframe thead th {\n",
       "        text-align: right;\n",
       "    }\n",
       "</style>\n",
       "<table border=\"1\" class=\"dataframe\">\n",
       "  <thead>\n",
       "    <tr style=\"text-align: right;\">\n",
       "      <th></th>\n",
       "      <th>depart_delay</th>\n",
       "      <th>arri_delay</th>\n",
       "      <th>Total_delay</th>\n",
       "      <th>Delay_status</th>\n",
       "      <th>day_range</th>\n",
       "    </tr>\n",
       "  </thead>\n",
       "  <tbody>\n",
       "    <tr>\n",
       "      <th>count</th>\n",
       "      <td>7447.000000</td>\n",
       "      <td>7447.000000</td>\n",
       "      <td>7447.000000</td>\n",
       "      <td>7447.000000</td>\n",
       "      <td>7447.000000</td>\n",
       "    </tr>\n",
       "    <tr>\n",
       "      <th>mean</th>\n",
       "      <td>20.857929</td>\n",
       "      <td>18.730227</td>\n",
       "      <td>39.588156</td>\n",
       "      <td>0.533235</td>\n",
       "      <td>0.450651</td>\n",
       "    </tr>\n",
       "    <tr>\n",
       "      <th>std</th>\n",
       "      <td>17.596622</td>\n",
       "      <td>16.832855</td>\n",
       "      <td>32.987398</td>\n",
       "      <td>0.498928</td>\n",
       "      <td>0.548190</td>\n",
       "    </tr>\n",
       "    <tr>\n",
       "      <th>min</th>\n",
       "      <td>1.000000</td>\n",
       "      <td>1.000000</td>\n",
       "      <td>2.000000</td>\n",
       "      <td>0.000000</td>\n",
       "      <td>0.000000</td>\n",
       "    </tr>\n",
       "    <tr>\n",
       "      <th>25%</th>\n",
       "      <td>8.000000</td>\n",
       "      <td>6.000000</td>\n",
       "      <td>15.000000</td>\n",
       "      <td>0.000000</td>\n",
       "      <td>0.000000</td>\n",
       "    </tr>\n",
       "    <tr>\n",
       "      <th>50%</th>\n",
       "      <td>15.000000</td>\n",
       "      <td>13.000000</td>\n",
       "      <td>29.000000</td>\n",
       "      <td>1.000000</td>\n",
       "      <td>0.000000</td>\n",
       "    </tr>\n",
       "    <tr>\n",
       "      <th>75%</th>\n",
       "      <td>29.000000</td>\n",
       "      <td>25.000000</td>\n",
       "      <td>54.000000</td>\n",
       "      <td>1.000000</td>\n",
       "      <td>1.000000</td>\n",
       "    </tr>\n",
       "    <tr>\n",
       "      <th>max</th>\n",
       "      <td>86.000000</td>\n",
       "      <td>90.000000</td>\n",
       "      <td>149.000000</td>\n",
       "      <td>1.000000</td>\n",
       "      <td>2.000000</td>\n",
       "    </tr>\n",
       "  </tbody>\n",
       "</table>\n",
       "</div>"
      ],
      "text/plain": [
       "       depart_delay   arri_delay  Total_delay  Delay_status    day_range\n",
       "count   7447.000000  7447.000000  7447.000000   7447.000000  7447.000000\n",
       "mean      20.857929    18.730227    39.588156      0.533235     0.450651\n",
       "std       17.596622    16.832855    32.987398      0.498928     0.548190\n",
       "min        1.000000     1.000000     2.000000      0.000000     0.000000\n",
       "25%        8.000000     6.000000    15.000000      0.000000     0.000000\n",
       "50%       15.000000    13.000000    29.000000      1.000000     0.000000\n",
       "75%       29.000000    25.000000    54.000000      1.000000     1.000000\n",
       "max       86.000000    90.000000   149.000000      1.000000     2.000000"
      ]
     },
     "execution_count": 154,
     "metadata": {},
     "output_type": "execute_result"
    }
   ],
   "source": [
    "es_delays.describe()"
   ]
  },
  {
   "cell_type": "code",
   "execution_count": 155,
   "metadata": {},
   "outputs": [],
   "source": [
    "es_dep_delay_mean = es_delays.depart_delay.mean()\n",
    "es_dep_delay_std = es_delays.depart_delay.std()\n",
    "es_dep_delay_var = es_delays.depart_delay.var()\n",
    "es_t_delay_mean = es_delays.Total_delay.mean()\n",
    "es_tl_delay_std = es_delays.Total_delay.std()\n",
    "es_t_delay_var = es_delays.Total_delay.var()"
   ]
  },
  {
   "cell_type": "markdown",
   "metadata": {},
   "source": [
    "### Spain summary statistics without Barcelona\n"
   ]
  },
  {
   "cell_type": "code",
   "execution_count": 184,
   "metadata": {},
   "outputs": [],
   "source": [
    "data_es_2 = data_es[data_es['depart_airpt'] != 'BCN']\n",
    "es2_delays =  data_es_2[np.logical_and(data_es_2['depart_delay']>0, data_es_2['arri_delay']>0)]"
   ]
  },
  {
   "cell_type": "code",
   "execution_count": 185,
   "metadata": {},
   "outputs": [
    {
     "data": {
      "text/html": [
       "<div>\n",
       "<style scoped>\n",
       "    .dataframe tbody tr th:only-of-type {\n",
       "        vertical-align: middle;\n",
       "    }\n",
       "\n",
       "    .dataframe tbody tr th {\n",
       "        vertical-align: top;\n",
       "    }\n",
       "\n",
       "    .dataframe thead th {\n",
       "        text-align: right;\n",
       "    }\n",
       "</style>\n",
       "<table border=\"1\" class=\"dataframe\">\n",
       "  <thead>\n",
       "    <tr style=\"text-align: right;\">\n",
       "      <th></th>\n",
       "      <th>depart_delay</th>\n",
       "      <th>arri_delay</th>\n",
       "      <th>Total_delay</th>\n",
       "      <th>Delay_status</th>\n",
       "      <th>day_range</th>\n",
       "    </tr>\n",
       "  </thead>\n",
       "  <tbody>\n",
       "    <tr>\n",
       "      <th>count</th>\n",
       "      <td>5648.000000</td>\n",
       "      <td>5648.000000</td>\n",
       "      <td>5648.000000</td>\n",
       "      <td>5648.000000</td>\n",
       "      <td>5648.000000</td>\n",
       "    </tr>\n",
       "    <tr>\n",
       "      <th>mean</th>\n",
       "      <td>20.434844</td>\n",
       "      <td>18.504958</td>\n",
       "      <td>38.939802</td>\n",
       "      <td>0.518591</td>\n",
       "      <td>0.470786</td>\n",
       "    </tr>\n",
       "    <tr>\n",
       "      <th>std</th>\n",
       "      <td>17.867525</td>\n",
       "      <td>17.238840</td>\n",
       "      <td>33.700941</td>\n",
       "      <td>0.499699</td>\n",
       "      <td>0.551762</td>\n",
       "    </tr>\n",
       "    <tr>\n",
       "      <th>min</th>\n",
       "      <td>1.000000</td>\n",
       "      <td>1.000000</td>\n",
       "      <td>2.000000</td>\n",
       "      <td>0.000000</td>\n",
       "      <td>0.000000</td>\n",
       "    </tr>\n",
       "    <tr>\n",
       "      <th>25%</th>\n",
       "      <td>7.000000</td>\n",
       "      <td>6.000000</td>\n",
       "      <td>14.000000</td>\n",
       "      <td>0.000000</td>\n",
       "      <td>0.000000</td>\n",
       "    </tr>\n",
       "    <tr>\n",
       "      <th>50%</th>\n",
       "      <td>15.000000</td>\n",
       "      <td>13.000000</td>\n",
       "      <td>28.000000</td>\n",
       "      <td>1.000000</td>\n",
       "      <td>0.000000</td>\n",
       "    </tr>\n",
       "    <tr>\n",
       "      <th>75%</th>\n",
       "      <td>28.000000</td>\n",
       "      <td>25.000000</td>\n",
       "      <td>52.000000</td>\n",
       "      <td>1.000000</td>\n",
       "      <td>1.000000</td>\n",
       "    </tr>\n",
       "    <tr>\n",
       "      <th>max</th>\n",
       "      <td>86.000000</td>\n",
       "      <td>90.000000</td>\n",
       "      <td>149.000000</td>\n",
       "      <td>1.000000</td>\n",
       "      <td>2.000000</td>\n",
       "    </tr>\n",
       "  </tbody>\n",
       "</table>\n",
       "</div>"
      ],
      "text/plain": [
       "       depart_delay   arri_delay  Total_delay  Delay_status    day_range\n",
       "count   5648.000000  5648.000000  5648.000000   5648.000000  5648.000000\n",
       "mean      20.434844    18.504958    38.939802      0.518591     0.470786\n",
       "std       17.867525    17.238840    33.700941      0.499699     0.551762\n",
       "min        1.000000     1.000000     2.000000      0.000000     0.000000\n",
       "25%        7.000000     6.000000    14.000000      0.000000     0.000000\n",
       "50%       15.000000    13.000000    28.000000      1.000000     0.000000\n",
       "75%       28.000000    25.000000    52.000000      1.000000     1.000000\n",
       "max       86.000000    90.000000   149.000000      1.000000     2.000000"
      ]
     },
     "execution_count": 185,
     "metadata": {},
     "output_type": "execute_result"
    }
   ],
   "source": [
    "es2_delays.describe()"
   ]
  },
  {
   "cell_type": "code",
   "execution_count": 186,
   "metadata": {},
   "outputs": [],
   "source": [
    "es2_dep_delay_mean = es2_delays.depart_delay.mean()\n",
    "es2_dep_delay_std = es2_delays.depart_delay.std()\n",
    "es2_dep_delay_var = es2_delays.depart_delay.var()\n",
    "es2_t_delay_mean = es2_delays.Total_delay.mean()\n",
    "es2_tl_delay_std = es2_delays.Total_delay.std()\n",
    "es2_t_delay_var = es2_delays.Total_delay.var()"
   ]
  },
  {
   "cell_type": "markdown",
   "metadata": {},
   "source": []
  },
  {
   "cell_type": "markdown",
   "metadata": {},
   "source": [
    "### Spain summary statistics of most important airports (BCN, MAD, MAL, BMI)\n"
   ]
  },
  {
   "cell_type": "code",
   "execution_count": 193,
   "metadata": {},
   "outputs": [],
   "source": [
    "spain_airpts_main = ['BCN', 'MAD', 'PMI', 'LPA']"
   ]
  },
  {
   "cell_type": "code",
   "execution_count": 197,
   "metadata": {},
   "outputs": [],
   "source": [
    "data_es_3 = data_es[data_es['depart_airpt'].isin(spain_airpts_main)]\n",
    "es3_delays =  data_es_3[np.logical_and(data_es_3['depart_delay']>0, data_es_3['arri_delay']>0)]"
   ]
  },
  {
   "cell_type": "code",
   "execution_count": 198,
   "metadata": {},
   "outputs": [
    {
     "data": {
      "text/html": [
       "<div>\n",
       "<style scoped>\n",
       "    .dataframe tbody tr th:only-of-type {\n",
       "        vertical-align: middle;\n",
       "    }\n",
       "\n",
       "    .dataframe tbody tr th {\n",
       "        vertical-align: top;\n",
       "    }\n",
       "\n",
       "    .dataframe thead th {\n",
       "        text-align: right;\n",
       "    }\n",
       "</style>\n",
       "<table border=\"1\" class=\"dataframe\">\n",
       "  <thead>\n",
       "    <tr style=\"text-align: right;\">\n",
       "      <th></th>\n",
       "      <th>depart_delay</th>\n",
       "      <th>arri_delay</th>\n",
       "      <th>Total_delay</th>\n",
       "      <th>Delay_status</th>\n",
       "      <th>day_range</th>\n",
       "    </tr>\n",
       "  </thead>\n",
       "  <tbody>\n",
       "    <tr>\n",
       "      <th>count</th>\n",
       "      <td>4728.000000</td>\n",
       "      <td>4728.000000</td>\n",
       "      <td>4728.000000</td>\n",
       "      <td>4728.000000</td>\n",
       "      <td>4728.000000</td>\n",
       "    </tr>\n",
       "    <tr>\n",
       "      <th>mean</th>\n",
       "      <td>20.736041</td>\n",
       "      <td>18.976946</td>\n",
       "      <td>39.712986</td>\n",
       "      <td>0.524746</td>\n",
       "      <td>0.478638</td>\n",
       "    </tr>\n",
       "    <tr>\n",
       "      <th>std</th>\n",
       "      <td>17.647925</td>\n",
       "      <td>16.711925</td>\n",
       "      <td>32.877524</td>\n",
       "      <td>0.499440</td>\n",
       "      <td>0.561029</td>\n",
       "    </tr>\n",
       "    <tr>\n",
       "      <th>min</th>\n",
       "      <td>1.000000</td>\n",
       "      <td>1.000000</td>\n",
       "      <td>2.000000</td>\n",
       "      <td>0.000000</td>\n",
       "      <td>0.000000</td>\n",
       "    </tr>\n",
       "    <tr>\n",
       "      <th>25%</th>\n",
       "      <td>8.000000</td>\n",
       "      <td>7.000000</td>\n",
       "      <td>16.000000</td>\n",
       "      <td>0.000000</td>\n",
       "      <td>0.000000</td>\n",
       "    </tr>\n",
       "    <tr>\n",
       "      <th>50%</th>\n",
       "      <td>15.000000</td>\n",
       "      <td>14.000000</td>\n",
       "      <td>28.000000</td>\n",
       "      <td>1.000000</td>\n",
       "      <td>0.000000</td>\n",
       "    </tr>\n",
       "    <tr>\n",
       "      <th>75%</th>\n",
       "      <td>30.000000</td>\n",
       "      <td>25.250000</td>\n",
       "      <td>54.250000</td>\n",
       "      <td>1.000000</td>\n",
       "      <td>1.000000</td>\n",
       "    </tr>\n",
       "    <tr>\n",
       "      <th>max</th>\n",
       "      <td>86.000000</td>\n",
       "      <td>90.000000</td>\n",
       "      <td>149.000000</td>\n",
       "      <td>1.000000</td>\n",
       "      <td>2.000000</td>\n",
       "    </tr>\n",
       "  </tbody>\n",
       "</table>\n",
       "</div>"
      ],
      "text/plain": [
       "       depart_delay   arri_delay  Total_delay  Delay_status    day_range\n",
       "count   4728.000000  4728.000000  4728.000000   4728.000000  4728.000000\n",
       "mean      20.736041    18.976946    39.712986      0.524746     0.478638\n",
       "std       17.647925    16.711925    32.877524      0.499440     0.561029\n",
       "min        1.000000     1.000000     2.000000      0.000000     0.000000\n",
       "25%        8.000000     7.000000    16.000000      0.000000     0.000000\n",
       "50%       15.000000    14.000000    28.000000      1.000000     0.000000\n",
       "75%       30.000000    25.250000    54.250000      1.000000     1.000000\n",
       "max       86.000000    90.000000   149.000000      1.000000     2.000000"
      ]
     },
     "execution_count": 198,
     "metadata": {},
     "output_type": "execute_result"
    }
   ],
   "source": [
    "es3_delays.describe()"
   ]
  },
  {
   "cell_type": "code",
   "execution_count": 199,
   "metadata": {},
   "outputs": [],
   "source": [
    "es3_dep_delay_mean = es3_delays.depart_delay.mean()\n",
    "es3_dep_delay_std = es3_delays.depart_delay.std()\n",
    "es3_dep_delay_var = es3_delays.depart_delay.var()\n",
    "es3_t_delay_mean = es3_delays.Total_delay.mean()\n",
    "es3_tl_delay_std = es3_delays.Total_delay.std()\n",
    "es3_t_delay_var = es3_delays.Total_delay.var()"
   ]
  },
  {
   "cell_type": "markdown",
   "metadata": {},
   "source": [
    "### Barcelona summary statistics\n"
   ]
  },
  {
   "cell_type": "code",
   "execution_count": 156,
   "metadata": {},
   "outputs": [],
   "source": [
    "data_bcn = data[data['depart_airpt'] == 'BCN']\n",
    "bnc_delays =  data_bcn[np.logical_and(data_bcn['depart_delay']>0, data_bcn['arri_delay']>0)]"
   ]
  },
  {
   "cell_type": "code",
   "execution_count": 157,
   "metadata": {
    "scrolled": true
   },
   "outputs": [
    {
     "data": {
      "text/html": [
       "<div>\n",
       "<style scoped>\n",
       "    .dataframe tbody tr th:only-of-type {\n",
       "        vertical-align: middle;\n",
       "    }\n",
       "\n",
       "    .dataframe tbody tr th {\n",
       "        vertical-align: top;\n",
       "    }\n",
       "\n",
       "    .dataframe thead th {\n",
       "        text-align: right;\n",
       "    }\n",
       "</style>\n",
       "<table border=\"1\" class=\"dataframe\">\n",
       "  <thead>\n",
       "    <tr style=\"text-align: right;\">\n",
       "      <th></th>\n",
       "      <th>depart_delay</th>\n",
       "      <th>arri_delay</th>\n",
       "      <th>Total_delay</th>\n",
       "      <th>Delay_status</th>\n",
       "      <th>day_range</th>\n",
       "    </tr>\n",
       "  </thead>\n",
       "  <tbody>\n",
       "    <tr>\n",
       "      <th>count</th>\n",
       "      <td>1799.000000</td>\n",
       "      <td>1799.000000</td>\n",
       "      <td>1799.000000</td>\n",
       "      <td>1799.000000</td>\n",
       "      <td>1799.000000</td>\n",
       "    </tr>\n",
       "    <tr>\n",
       "      <th>mean</th>\n",
       "      <td>22.186215</td>\n",
       "      <td>19.437465</td>\n",
       "      <td>41.623680</td>\n",
       "      <td>0.579211</td>\n",
       "      <td>0.387437</td>\n",
       "    </tr>\n",
       "    <tr>\n",
       "      <th>std</th>\n",
       "      <td>16.652681</td>\n",
       "      <td>15.472512</td>\n",
       "      <td>30.559068</td>\n",
       "      <td>0.493823</td>\n",
       "      <td>0.532041</td>\n",
       "    </tr>\n",
       "    <tr>\n",
       "      <th>min</th>\n",
       "      <td>1.000000</td>\n",
       "      <td>1.000000</td>\n",
       "      <td>3.000000</td>\n",
       "      <td>0.000000</td>\n",
       "      <td>0.000000</td>\n",
       "    </tr>\n",
       "    <tr>\n",
       "      <th>25%</th>\n",
       "      <td>9.000000</td>\n",
       "      <td>7.000000</td>\n",
       "      <td>17.000000</td>\n",
       "      <td>0.000000</td>\n",
       "      <td>0.000000</td>\n",
       "    </tr>\n",
       "    <tr>\n",
       "      <th>50%</th>\n",
       "      <td>18.000000</td>\n",
       "      <td>16.000000</td>\n",
       "      <td>33.000000</td>\n",
       "      <td>1.000000</td>\n",
       "      <td>0.000000</td>\n",
       "    </tr>\n",
       "    <tr>\n",
       "      <th>75%</th>\n",
       "      <td>32.000000</td>\n",
       "      <td>27.000000</td>\n",
       "      <td>58.000000</td>\n",
       "      <td>1.000000</td>\n",
       "      <td>1.000000</td>\n",
       "    </tr>\n",
       "    <tr>\n",
       "      <th>max</th>\n",
       "      <td>86.000000</td>\n",
       "      <td>74.000000</td>\n",
       "      <td>147.000000</td>\n",
       "      <td>1.000000</td>\n",
       "      <td>2.000000</td>\n",
       "    </tr>\n",
       "  </tbody>\n",
       "</table>\n",
       "</div>"
      ],
      "text/plain": [
       "       depart_delay   arri_delay  Total_delay  Delay_status    day_range\n",
       "count   1799.000000  1799.000000  1799.000000   1799.000000  1799.000000\n",
       "mean      22.186215    19.437465    41.623680      0.579211     0.387437\n",
       "std       16.652681    15.472512    30.559068      0.493823     0.532041\n",
       "min        1.000000     1.000000     3.000000      0.000000     0.000000\n",
       "25%        9.000000     7.000000    17.000000      0.000000     0.000000\n",
       "50%       18.000000    16.000000    33.000000      1.000000     0.000000\n",
       "75%       32.000000    27.000000    58.000000      1.000000     1.000000\n",
       "max       86.000000    74.000000   147.000000      1.000000     2.000000"
      ]
     },
     "execution_count": 157,
     "metadata": {},
     "output_type": "execute_result"
    }
   ],
   "source": [
    "bnc_delays.describe()"
   ]
  },
  {
   "cell_type": "code",
   "execution_count": 158,
   "metadata": {},
   "outputs": [],
   "source": [
    "bnc_dep_delay_mean = bnc_delays.depart_delay.mean()\n",
    "bnc_dep_delay_std = bnc_delays.depart_delay.std()\n",
    "bnc_dep_delay_var = bnc_delays.depart_delay.var()\n",
    "bnc_t_delay_mean = bnc_delays.Total_delay.mean()\n",
    "bnc_t_delay_std = bnc_delays.Total_delay.std()\n",
    "bnc_t_delay_var = bnc_delays.Total_delay.var()"
   ]
  },
  {
   "cell_type": "markdown",
   "metadata": {},
   "source": [
    "### Madrid summary statistics\n"
   ]
  },
  {
   "cell_type": "code",
   "execution_count": 159,
   "metadata": {},
   "outputs": [],
   "source": [
    "data_mad = data[data['depart_airpt'] == 'MAD']\n",
    "mad_delays =  data_mad[np.logical_and(data_mad['depart_delay']>0, data_mad['arri_delay']>0)]"
   ]
  },
  {
   "cell_type": "code",
   "execution_count": 160,
   "metadata": {},
   "outputs": [],
   "source": [
    "mad_dep_delay_mean = mad_delays.depart_delay.mean()\n",
    "mad_dep_delay_std = mad_delays.depart_delay.std()\n",
    "mad_dep_delay_var = mad_delays.depart_delay.var()\n",
    "mad_t_delay_mean = mad_delays.Total_delay.mean()\n",
    "mad_t_delay_std = mad_delays.Total_delay.std()\n",
    "mad_t_delay_var = mad_delays.Total_delay.var()"
   ]
  },
  {
   "cell_type": "code",
   "execution_count": null,
   "metadata": {},
   "outputs": [],
   "source": []
  },
  {
   "cell_type": "markdown",
   "metadata": {},
   "source": [
    "### Vueling summary statistics\n"
   ]
  },
  {
   "cell_type": "code",
   "execution_count": 161,
   "metadata": {},
   "outputs": [],
   "source": [
    "data_vueling = data[data['airln_name'] == 'Vueling']\n",
    "vueling_delays =  data_vueling[np.logical_and(data_vueling['depart_delay']>0, data_vueling['arri_delay']>0)]"
   ]
  },
  {
   "cell_type": "code",
   "execution_count": 162,
   "metadata": {},
   "outputs": [
    {
     "data": {
      "text/html": [
       "<div>\n",
       "<style scoped>\n",
       "    .dataframe tbody tr th:only-of-type {\n",
       "        vertical-align: middle;\n",
       "    }\n",
       "\n",
       "    .dataframe tbody tr th {\n",
       "        vertical-align: top;\n",
       "    }\n",
       "\n",
       "    .dataframe thead th {\n",
       "        text-align: right;\n",
       "    }\n",
       "</style>\n",
       "<table border=\"1\" class=\"dataframe\">\n",
       "  <thead>\n",
       "    <tr style=\"text-align: right;\">\n",
       "      <th></th>\n",
       "      <th>depart_delay</th>\n",
       "      <th>arri_delay</th>\n",
       "      <th>Total_delay</th>\n",
       "      <th>Delay_status</th>\n",
       "      <th>day_range</th>\n",
       "    </tr>\n",
       "  </thead>\n",
       "  <tbody>\n",
       "    <tr>\n",
       "      <th>count</th>\n",
       "      <td>857.000000</td>\n",
       "      <td>857.000000</td>\n",
       "      <td>857.000000</td>\n",
       "      <td>857.000000</td>\n",
       "      <td>857.000000</td>\n",
       "    </tr>\n",
       "    <tr>\n",
       "      <th>mean</th>\n",
       "      <td>22.914819</td>\n",
       "      <td>19.554259</td>\n",
       "      <td>42.469078</td>\n",
       "      <td>0.584597</td>\n",
       "      <td>0.436406</td>\n",
       "    </tr>\n",
       "    <tr>\n",
       "      <th>std</th>\n",
       "      <td>17.858373</td>\n",
       "      <td>17.259622</td>\n",
       "      <td>33.842361</td>\n",
       "      <td>0.493079</td>\n",
       "      <td>0.545569</td>\n",
       "    </tr>\n",
       "    <tr>\n",
       "      <th>min</th>\n",
       "      <td>1.000000</td>\n",
       "      <td>1.000000</td>\n",
       "      <td>2.000000</td>\n",
       "      <td>0.000000</td>\n",
       "      <td>0.000000</td>\n",
       "    </tr>\n",
       "    <tr>\n",
       "      <th>25%</th>\n",
       "      <td>9.000000</td>\n",
       "      <td>6.000000</td>\n",
       "      <td>17.000000</td>\n",
       "      <td>0.000000</td>\n",
       "      <td>0.000000</td>\n",
       "    </tr>\n",
       "    <tr>\n",
       "      <th>50%</th>\n",
       "      <td>18.000000</td>\n",
       "      <td>15.000000</td>\n",
       "      <td>33.000000</td>\n",
       "      <td>1.000000</td>\n",
       "      <td>0.000000</td>\n",
       "    </tr>\n",
       "    <tr>\n",
       "      <th>75%</th>\n",
       "      <td>32.000000</td>\n",
       "      <td>28.000000</td>\n",
       "      <td>58.000000</td>\n",
       "      <td>1.000000</td>\n",
       "      <td>1.000000</td>\n",
       "    </tr>\n",
       "    <tr>\n",
       "      <th>max</th>\n",
       "      <td>86.000000</td>\n",
       "      <td>86.000000</td>\n",
       "      <td>148.000000</td>\n",
       "      <td>1.000000</td>\n",
       "      <td>2.000000</td>\n",
       "    </tr>\n",
       "  </tbody>\n",
       "</table>\n",
       "</div>"
      ],
      "text/plain": [
       "       depart_delay  arri_delay  Total_delay  Delay_status   day_range\n",
       "count    857.000000  857.000000   857.000000    857.000000  857.000000\n",
       "mean      22.914819   19.554259    42.469078      0.584597    0.436406\n",
       "std       17.858373   17.259622    33.842361      0.493079    0.545569\n",
       "min        1.000000    1.000000     2.000000      0.000000    0.000000\n",
       "25%        9.000000    6.000000    17.000000      0.000000    0.000000\n",
       "50%       18.000000   15.000000    33.000000      1.000000    0.000000\n",
       "75%       32.000000   28.000000    58.000000      1.000000    1.000000\n",
       "max       86.000000   86.000000   148.000000      1.000000    2.000000"
      ]
     },
     "execution_count": 162,
     "metadata": {},
     "output_type": "execute_result"
    }
   ],
   "source": [
    "vueling_delays.describe()"
   ]
  },
  {
   "cell_type": "code",
   "execution_count": 190,
   "metadata": {},
   "outputs": [],
   "source": [
    "vue_dep_delay_mean = vueling_delays.depart_delay.mean()\n",
    "vue_dep_delay_std = vueling_delays.depart_delay.std()\n",
    "vue_dep_delay_var = vueling_delays.depart_delay.var()\n",
    "vue_t_delay_mean = vueling_delays.Total_delay.mean()\n",
    "vue_t_delay_std = vueling_delays.Total_delay.std()\n",
    "vue_t_delay_var = vueling_delays.Total_delay.var()"
   ]
  },
  {
   "cell_type": "markdown",
   "metadata": {},
   "source": [
    "# Hypothesis testing"
   ]
  },
  {
   "cell_type": "markdown",
   "metadata": {},
   "source": [
    "## 1- Its is more likely to have delay time in Spain airports than in the rest of europe. "
   ]
  },
  {
   "cell_type": "markdown",
   "metadata": {},
   "source": [
    "H0: The mean departure time in minutes in Spain is equal or lower than in the rest of Europe\n",
    "\n",
    "\n",
    "H1: The mean departure time in minutes in Spain is greater than in the rest of Europe"
   ]
  },
  {
   "cell_type": "markdown",
   "metadata": {},
   "source": [
    "#### Testing with the european departure delay mean by Eurocontrol"
   ]
  },
  {
   "cell_type": "code",
   "execution_count": 163,
   "metadata": {},
   "outputs": [
    {
     "name": "stdout",
     "output_type": "stream",
     "text": [
      "Reject null hypothesis, we have evidence for alternative hypothesis\n",
      "\n",
      "Ttest_1sampResult(statistic=43.44037678680821, pvalue=0.0)\n"
     ]
    }
   ],
   "source": [
    "#With a condifence level of 5%, lets test to see if we can reject our null hypotehsis.\n",
    "alpha = 0.05\n",
    "\n",
    "result_ttest = stats.ttest_1samp(es_delays['depart_delay'], europe_delay_mean)\n",
    "\n",
    "if (result_ttest[0] > 0) & (result_ttest[1] < alpha):\n",
    "    print (f\"Reject null hypothesis, we have evidence for alternative hypothesis\\n\")\n",
    "else:\n",
    "    print('We dont have statistical evidence to reject the null hypothesis')\n",
    "\n",
    "print(result_ttest)"
   ]
  },
  {
   "cell_type": "markdown",
   "metadata": {},
   "source": [
    "#### Testing with the european departure delay mean of my sample"
   ]
  },
  {
   "cell_type": "code",
   "execution_count": 164,
   "metadata": {},
   "outputs": [
    {
     "name": "stdout",
     "output_type": "stream",
     "text": [
      "We dont have statistical evidence to reject the null hypothesis\n",
      "\n",
      "Ttest_1sampResult(statistic=-1.9922270429197275, pvalue=0.04638260577133076)\n"
     ]
    }
   ],
   "source": [
    "#With a condifence level of 5%, lets test to see if we can reject our null hypotehsis.\n",
    "alpha = 0.05\n",
    "\n",
    "result_ttest = stats.ttest_1samp(es_delays['depart_delay'], eu_dep_delay_mean)\n",
    "\n",
    "if (result_ttest[0] > 0) & (result_ttest[1] < alpha):\n",
    "    print (f\"Reject null hypothesis, we have evidence for alternative hypothesis\\n\")\n",
    "else:\n",
    "    print('We dont have statistical evidence to reject the null hypothesis\\n')\n",
    "\n",
    "print(result_ttest)"
   ]
  },
  {
   "cell_type": "markdown",
   "metadata": {},
   "source": [
    "#### Testing with the european departure delay mean of my sample without Spain"
   ]
  },
  {
   "cell_type": "code",
   "execution_count": 172,
   "metadata": {},
   "outputs": [
    {
     "name": "stdout",
     "output_type": "stream",
     "text": [
      "We dont have statistical evidence to reject the null hypothesis\n",
      "\n",
      "Ttest_1sampResult(statistic=-2.5075846498609233, pvalue=0.012177058994911234)\n"
     ]
    }
   ],
   "source": [
    "#With a condifence level of 5%, lets test to see if we can reject our null hypotehsis.\n",
    "alpha = 0.05\n",
    "\n",
    "result_ttest = stats.ttest_1samp(es_delays['depart_delay'], eu2_dep_delay_mean)\n",
    "\n",
    "if (result_ttest[0] > 0) & (result_ttest[1] < alpha):\n",
    "    print (f\"Reject null hypothesis, we have evidence for alternative hypothesis\\n\")\n",
    "else:\n",
    "    print('We dont have statistical evidence to reject the null hypothesis\\n')\n",
    "\n",
    "print(result_ttest)"
   ]
  },
  {
   "cell_type": "markdown",
   "metadata": {},
   "source": [
    "## 2-The Barcelona airport is the airport with less delays time in average of Spain. "
   ]
  },
  {
   "cell_type": "markdown",
   "metadata": {},
   "source": [
    "H0: The mean departure time in minutes in BCN is equal or greater than in the rest of Spain.\n",
    "\n",
    "\n",
    "H1: The mean departure time in minutes in BCN is lower than in the rest of Spain."
   ]
  },
  {
   "cell_type": "code",
   "execution_count": 187,
   "metadata": {},
   "outputs": [
    {
     "name": "stdout",
     "output_type": "stream",
     "text": [
      "We dont have statistical evidence to reject the null hypothesis\n",
      "\n",
      "Ttest_1sampResult(statistic=3.3831615661462213, pvalue=0.0007319411064950384)\n"
     ]
    }
   ],
   "source": [
    "#With a condifence level of 5%, lets test to see if we can reject our null hypotehsis.\n",
    "\n",
    "alpha = 0.05\n",
    "\n",
    "result_ttest = stats.ttest_1samp(bnc_delays['depart_delay'], es_dep_delay_mean)\n",
    "\n",
    "if (result_ttest[0] < 0) & (result_ttest[1] < alpha):\n",
    "    print (f\"Reject null hypothesis, we have evidence for alternative hypothesis\\n\")\n",
    "else:\n",
    "    print('We dont have statistical evidence to reject the null hypothesis\\n')\n",
    "\n",
    "print(result_ttest)"
   ]
  },
  {
   "cell_type": "markdown",
   "metadata": {},
   "source": [
    "#### Comparing Barcelona with Spain without Barcelona data"
   ]
  },
  {
   "cell_type": "code",
   "execution_count": 188,
   "metadata": {},
   "outputs": [
    {
     "name": "stdout",
     "output_type": "stream",
     "text": [
      "We dont have statistical evidence to reject the null hypothesis\n",
      "\n",
      "Ttest_1sampResult(statistic=4.460765613153488, pvalue=8.672222381230959e-06)\n"
     ]
    }
   ],
   "source": [
    "#With a condifence level of 5%, lets test to see if we can reject our null hypotehsis.\n",
    "\n",
    "alpha = 0.05\n",
    "\n",
    "result_ttest = stats.ttest_1samp(bnc_delays['depart_delay'], es2_dep_delay_mean)\n",
    "\n",
    "if (result_ttest[0] < 0) & (result_ttest[1] < alpha):\n",
    "    print (f\"Reject null hypothesis, we have evidence for alternative hypothesis\\n\")\n",
    "else:\n",
    "    print('We dont have statistical evidence to reject the null hypothesis\\n')\n",
    "\n",
    "print(result_ttest)"
   ]
  },
  {
   "cell_type": "code",
   "execution_count": null,
   "metadata": {},
   "outputs": [],
   "source": []
  },
  {
   "cell_type": "markdown",
   "metadata": {},
   "source": [
    "#### Comparing Barcelona with Spain most important airports in size"
   ]
  },
  {
   "cell_type": "code",
   "execution_count": 200,
   "metadata": {},
   "outputs": [
    {
     "name": "stdout",
     "output_type": "stream",
     "text": [
      "We dont have statistical evidence to reject the null hypothesis\n",
      "\n",
      "Ttest_1sampResult(statistic=3.6936139930406617, pvalue=0.0002276955826635293)\n"
     ]
    }
   ],
   "source": [
    "#With a condifence level of 5%, lets test to see if we can reject our null hypotehsis.\n",
    "\n",
    "alpha = 0.05\n",
    "\n",
    "result_ttest = stats.ttest_1samp(bnc_delays['depart_delay'], es3_dep_delay_mean)\n",
    "\n",
    "if (result_ttest[0] < 0) & (result_ttest[1] < alpha):\n",
    "    print (f\"Reject null hypothesis, we have evidence for alternative hypothesis\\n\")\n",
    "else:\n",
    "    print('We dont have statistical evidence to reject the null hypothesis\\n')\n",
    "\n",
    "print(result_ttest)"
   ]
  },
  {
   "cell_type": "code",
   "execution_count": null,
   "metadata": {},
   "outputs": [],
   "source": []
  },
  {
   "cell_type": "code",
   "execution_count": null,
   "metadata": {},
   "outputs": [],
   "source": []
  },
  {
   "cell_type": "markdown",
   "metadata": {},
   "source": [
    "## 3- Vueling is the air carrier with more delays on average"
   ]
  },
  {
   "cell_type": "markdown",
   "metadata": {},
   "source": [
    "H0: The mean departure time in minutes in Vueling is equal or lower than in the rest of airlines.\n",
    "\n",
    "\n",
    "H1: The mean departure time in minutes in Vueling is greater than in the rest of airlines."
   ]
  },
  {
   "cell_type": "code",
   "execution_count": 191,
   "metadata": {},
   "outputs": [
    {
     "name": "stdout",
     "output_type": "stream",
     "text": [
      "Reject null hypothesis, we have evidence for alternative hypothesis\n",
      "\n",
      "Ttest_1sampResult(statistic=2.705856435208683, pvalue=0.006948359506429609)\n"
     ]
    }
   ],
   "source": [
    "#With a condifence level of 5%, lets test to see if we can reject our null hypotehsis.\n",
    "\n",
    "alpha = 0.05\n",
    "\n",
    "result_ttest = stats.ttest_1samp(vueling_delays['depart_delay'], eu_dep_delay_mean)\n",
    "\n",
    "if (result_ttest[0] > 0) & (result_ttest[1] < alpha):\n",
    "    print (f\"Reject null hypothesis, we have evidence for alternative hypothesis\\n\")\n",
    "else:\n",
    "    print('We dont have statistical evidence to reject the null hypothesis\\n')\n",
    "\n",
    "print(result_ttest)"
   ]
  },
  {
   "cell_type": "code",
   "execution_count": null,
   "metadata": {},
   "outputs": [],
   "source": []
  },
  {
   "cell_type": "code",
   "execution_count": null,
   "metadata": {},
   "outputs": [],
   "source": []
  },
  {
   "cell_type": "code",
   "execution_count": null,
   "metadata": {},
   "outputs": [],
   "source": []
  },
  {
   "cell_type": "code",
   "execution_count": null,
   "metadata": {},
   "outputs": [],
   "source": []
  },
  {
   "cell_type": "code",
   "execution_count": null,
   "metadata": {},
   "outputs": [],
   "source": []
  },
  {
   "cell_type": "code",
   "execution_count": null,
   "metadata": {},
   "outputs": [],
   "source": []
  },
  {
   "cell_type": "code",
   "execution_count": null,
   "metadata": {},
   "outputs": [],
   "source": []
  }
 ],
 "metadata": {
  "kernelspec": {
   "display_name": "ironhack",
   "language": "python",
   "name": "ironhack"
  },
  "language_info": {
   "codemirror_mode": {
    "name": "ipython",
    "version": 3
   },
   "file_extension": ".py",
   "mimetype": "text/x-python",
   "name": "python",
   "nbconvert_exporter": "python",
   "pygments_lexer": "ipython3",
   "version": "3.7.3"
  }
 },
 "nbformat": 4,
 "nbformat_minor": 2
}
