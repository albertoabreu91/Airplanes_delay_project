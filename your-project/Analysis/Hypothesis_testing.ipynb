{
 "cells": [
  {
   "cell_type": "code",
   "execution_count": 130,
   "metadata": {},
   "outputs": [],
   "source": [
    "import pandas as pd\n",
    "import numpy as np\n",
    "import os\n",
    "from sqlalchemy import create_engine\n",
    "from scipy import stats\n",
    "import math as m"
   ]
  },
  {
   "cell_type": "code",
   "execution_count": 2,
   "metadata": {},
   "outputs": [],
   "source": [
    "driver = 'mysql+pymysql:'\n",
    "user = 'root'\n",
    "password = '19693903'\n",
    "ip = '127.0.0.1'\n",
    "database = 'project_4'"
   ]
  },
  {
   "cell_type": "code",
   "execution_count": 3,
   "metadata": {},
   "outputs": [],
   "source": [
    "connection_string = f'{driver}//{user}:{password}@{ip}/{database}'\n",
    "engine = create_engine(connection_string)"
   ]
  },
  {
   "cell_type": "code",
   "execution_count": 12,
   "metadata": {},
   "outputs": [],
   "source": [
    "query = \"\"\"\n",
    "SELECT *\n",
    "FROM flights\n",
    "\"\"\"\n",
    "query2 = \"\"\"\n",
    "SELECT * FROM airports\n",
    "\"\"\""
   ]
  },
  {
   "cell_type": "code",
   "execution_count": 75,
   "metadata": {},
   "outputs": [],
   "source": [
    "data= pd.read_sql(query, engine)\n",
    "airports_info = pd.read_sql(query2, engine)\n",
    "data = data.merge(airports_info, left_on = 'depart_airpt', right_on='iata_code')"
   ]
  },
  {
   "cell_type": "code",
   "execution_count": 76,
   "metadata": {},
   "outputs": [],
   "source": [
    "data = data.drop(columns = ('iata_code'), axis = 1).rename(columns = {'country_code':'depart_country'})\n",
    "data = data.astype({'depart_delay': int,'arri_delay':int})\n",
    "data['Total_delay'] = data['depart_delay'] + data['arri_delay']"
   ]
  },
  {
   "cell_type": "code",
   "execution_count": 77,
   "metadata": {},
   "outputs": [
    {
     "data": {
      "text/plain": [
       "149.5"
      ]
     },
     "execution_count": 77,
     "metadata": {},
     "output_type": "execute_result"
    }
   ],
   "source": [
    "q1, q3= np.percentile(data['Total_delay'],[25,75])\n",
    "iqr = q3 - q1\n",
    "upper_bound = q3 +(3.5 * iqr)\n",
    "upper_bound"
   ]
  },
  {
   "cell_type": "code",
   "execution_count": 78,
   "metadata": {},
   "outputs": [],
   "source": [
    "data = data[data['Total_delay'] <= upper_bound]"
   ]
  },
  {
   "cell_type": "markdown",
   "metadata": {},
   "source": [
    "## Checking delay status:\n",
    "By law, if a flight's departure delay time is longer than 15 min, it should be classify as **delayed**"
   ]
  },
  {
   "cell_type": "code",
   "execution_count": 79,
   "metadata": {},
   "outputs": [],
   "source": [
    "data['Delay_status'] = np.where(data.depart_delay >= 15, 1,0)"
   ]
  },
  {
   "cell_type": "markdown",
   "metadata": {},
   "source": [
    "### Classiying datetime into morning, afternoon and night"
   ]
  },
  {
   "cell_type": "code",
   "execution_count": 113,
   "metadata": {},
   "outputs": [],
   "source": [
    "def classify_day(x):\n",
    "    if x.hour <=12.0:\n",
    "        return 0\n",
    "    elif (x.hour > 12.0) and (x.hour <= 18.0):\n",
    "        return 1\n",
    "    else:\n",
    "        return 2"
   ]
  },
  {
   "cell_type": "code",
   "execution_count": 115,
   "metadata": {},
   "outputs": [],
   "source": [
    "data['day_range'] = data['schd_depart_time'].apply(classify_day)"
   ]
  },
  {
   "cell_type": "markdown",
   "metadata": {},
   "source": [
    "### Europe summary statistics"
   ]
  },
  {
   "cell_type": "code",
   "execution_count": 119,
   "metadata": {},
   "outputs": [
    {
     "data": {
      "text/html": [
       "<div>\n",
       "<style scoped>\n",
       "    .dataframe tbody tr th:only-of-type {\n",
       "        vertical-align: middle;\n",
       "    }\n",
       "\n",
       "    .dataframe tbody tr th {\n",
       "        vertical-align: top;\n",
       "    }\n",
       "\n",
       "    .dataframe thead th {\n",
       "        text-align: right;\n",
       "    }\n",
       "</style>\n",
       "<table border=\"1\" class=\"dataframe\">\n",
       "  <thead>\n",
       "    <tr style=\"text-align: right;\">\n",
       "      <th></th>\n",
       "      <th>depart_delay</th>\n",
       "      <th>arri_delay</th>\n",
       "      <th>Total_delay</th>\n",
       "    </tr>\n",
       "  </thead>\n",
       "  <tbody>\n",
       "    <tr>\n",
       "      <th>count</th>\n",
       "      <td>33228.000000</td>\n",
       "      <td>33228.000000</td>\n",
       "      <td>33228.000000</td>\n",
       "    </tr>\n",
       "    <tr>\n",
       "      <th>mean</th>\n",
       "      <td>21.507433</td>\n",
       "      <td>19.241062</td>\n",
       "      <td>40.748495</td>\n",
       "    </tr>\n",
       "    <tr>\n",
       "      <th>std</th>\n",
       "      <td>16.579282</td>\n",
       "      <td>16.739118</td>\n",
       "      <td>32.087055</td>\n",
       "    </tr>\n",
       "    <tr>\n",
       "      <th>min</th>\n",
       "      <td>1.000000</td>\n",
       "      <td>1.000000</td>\n",
       "      <td>2.000000</td>\n",
       "    </tr>\n",
       "    <tr>\n",
       "      <th>25%</th>\n",
       "      <td>9.000000</td>\n",
       "      <td>7.000000</td>\n",
       "      <td>17.000000</td>\n",
       "    </tr>\n",
       "    <tr>\n",
       "      <th>50%</th>\n",
       "      <td>17.000000</td>\n",
       "      <td>14.000000</td>\n",
       "      <td>31.000000</td>\n",
       "    </tr>\n",
       "    <tr>\n",
       "      <th>75%</th>\n",
       "      <td>30.000000</td>\n",
       "      <td>27.000000</td>\n",
       "      <td>56.000000</td>\n",
       "    </tr>\n",
       "    <tr>\n",
       "      <th>max</th>\n",
       "      <td>86.000000</td>\n",
       "      <td>133.000000</td>\n",
       "      <td>149.000000</td>\n",
       "    </tr>\n",
       "  </tbody>\n",
       "</table>\n",
       "</div>"
      ],
      "text/plain": [
       "       depart_delay    arri_delay   Total_delay\n",
       "count  33228.000000  33228.000000  33228.000000\n",
       "mean      21.507433     19.241062     40.748495\n",
       "std       16.579282     16.739118     32.087055\n",
       "min        1.000000      1.000000      2.000000\n",
       "25%        9.000000      7.000000     17.000000\n",
       "50%       17.000000     14.000000     31.000000\n",
       "75%       30.000000     27.000000     56.000000\n",
       "max       86.000000    133.000000    149.000000"
      ]
     },
     "execution_count": 119,
     "metadata": {},
     "output_type": "execute_result"
    }
   ],
   "source": [
    "eu_delays = data[['depart_delay', 'arri_delay','Total_delay']]\n",
    "eu_delays =  eu_delays[np.logical_and(eu_delays['depart_delay']>0, eu_delays['arri_delay']>0)]\n",
    "eu_delays.describe()"
   ]
  },
  {
   "cell_type": "code",
   "execution_count": 128,
   "metadata": {},
   "outputs": [],
   "source": [
    "eu_dep_delay_mean = eu_delays.depart_delay.mean()\n",
    "eu_dep_delay_std = eu_delays.depart_delay.std()\n",
    "eu_dep_delay_var = eu_delays.depart_delay.var()\n",
    "eu_t_delay_mean = eu_delays.Total_delay.mean()\n",
    "eu_t_delay_std = eu_delays.Total_delay.std()\n",
    "eu_t_delay_var = eu_delays.Total_delay.var()\n",
    "\n",
    "europe_delay_mean = 12.0\n",
    "#https://www.eurocontrol.int/sites/default/files/2019-07/eurocontrol_top_stats_-_june_2019.pdf"
   ]
  },
  {
   "cell_type": "markdown",
   "metadata": {},
   "source": [
    "### Spain summary statistics\n"
   ]
  },
  {
   "cell_type": "code",
   "execution_count": 121,
   "metadata": {},
   "outputs": [],
   "source": [
    "data_es = data[data['depart_country'] == 'ES']\n",
    "es_delays =  data_es[np.logical_and(data_es['depart_delay']>0, data_es['arri_delay']>0)]"
   ]
  },
  {
   "cell_type": "code",
   "execution_count": 134,
   "metadata": {},
   "outputs": [
    {
     "data": {
      "text/html": [
       "<div>\n",
       "<style scoped>\n",
       "    .dataframe tbody tr th:only-of-type {\n",
       "        vertical-align: middle;\n",
       "    }\n",
       "\n",
       "    .dataframe tbody tr th {\n",
       "        vertical-align: top;\n",
       "    }\n",
       "\n",
       "    .dataframe thead th {\n",
       "        text-align: right;\n",
       "    }\n",
       "</style>\n",
       "<table border=\"1\" class=\"dataframe\">\n",
       "  <thead>\n",
       "    <tr style=\"text-align: right;\">\n",
       "      <th></th>\n",
       "      <th>depart_delay</th>\n",
       "      <th>arri_delay</th>\n",
       "      <th>Total_delay</th>\n",
       "      <th>Delay_status</th>\n",
       "      <th>day_range</th>\n",
       "    </tr>\n",
       "  </thead>\n",
       "  <tbody>\n",
       "    <tr>\n",
       "      <th>count</th>\n",
       "      <td>6861.000000</td>\n",
       "      <td>6861.000000</td>\n",
       "      <td>6861.000000</td>\n",
       "      <td>6861.000000</td>\n",
       "      <td>6861.000000</td>\n",
       "    </tr>\n",
       "    <tr>\n",
       "      <th>mean</th>\n",
       "      <td>20.951902</td>\n",
       "      <td>18.884273</td>\n",
       "      <td>39.836175</td>\n",
       "      <td>0.532138</td>\n",
       "      <td>0.464947</td>\n",
       "    </tr>\n",
       "    <tr>\n",
       "      <th>std</th>\n",
       "      <td>17.761204</td>\n",
       "      <td>17.037834</td>\n",
       "      <td>33.396832</td>\n",
       "      <td>0.499002</td>\n",
       "      <td>0.553391</td>\n",
       "    </tr>\n",
       "    <tr>\n",
       "      <th>min</th>\n",
       "      <td>1.000000</td>\n",
       "      <td>1.000000</td>\n",
       "      <td>2.000000</td>\n",
       "      <td>0.000000</td>\n",
       "      <td>0.000000</td>\n",
       "    </tr>\n",
       "    <tr>\n",
       "      <th>25%</th>\n",
       "      <td>8.000000</td>\n",
       "      <td>6.000000</td>\n",
       "      <td>15.000000</td>\n",
       "      <td>0.000000</td>\n",
       "      <td>0.000000</td>\n",
       "    </tr>\n",
       "    <tr>\n",
       "      <th>50%</th>\n",
       "      <td>15.000000</td>\n",
       "      <td>13.000000</td>\n",
       "      <td>28.000000</td>\n",
       "      <td>1.000000</td>\n",
       "      <td>0.000000</td>\n",
       "    </tr>\n",
       "    <tr>\n",
       "      <th>75%</th>\n",
       "      <td>29.000000</td>\n",
       "      <td>26.000000</td>\n",
       "      <td>55.000000</td>\n",
       "      <td>1.000000</td>\n",
       "      <td>1.000000</td>\n",
       "    </tr>\n",
       "    <tr>\n",
       "      <th>max</th>\n",
       "      <td>86.000000</td>\n",
       "      <td>90.000000</td>\n",
       "      <td>149.000000</td>\n",
       "      <td>1.000000</td>\n",
       "      <td>2.000000</td>\n",
       "    </tr>\n",
       "  </tbody>\n",
       "</table>\n",
       "</div>"
      ],
      "text/plain": [
       "       depart_delay   arri_delay  Total_delay  Delay_status    day_range\n",
       "count   6861.000000  6861.000000  6861.000000   6861.000000  6861.000000\n",
       "mean      20.951902    18.884273    39.836175      0.532138     0.464947\n",
       "std       17.761204    17.037834    33.396832      0.499002     0.553391\n",
       "min        1.000000     1.000000     2.000000      0.000000     0.000000\n",
       "25%        8.000000     6.000000    15.000000      0.000000     0.000000\n",
       "50%       15.000000    13.000000    28.000000      1.000000     0.000000\n",
       "75%       29.000000    26.000000    55.000000      1.000000     1.000000\n",
       "max       86.000000    90.000000   149.000000      1.000000     2.000000"
      ]
     },
     "execution_count": 134,
     "metadata": {},
     "output_type": "execute_result"
    }
   ],
   "source": [
    "es_delays.describe()"
   ]
  },
  {
   "cell_type": "code",
   "execution_count": 122,
   "metadata": {},
   "outputs": [],
   "source": [
    "es_dep_delay_mean = es_delays.depart_delay.mean()\n",
    "es_dep_delay_std = es_delays.depart_delay.std()\n",
    "es_dep_delay_var = es_delays.depart_delay.var()\n",
    "es_t_delay_mean = es_delays.Total_delay.mean()\n",
    "es_tl_delay_std = es_delays.Total_delay.std()\n",
    "es_t_delay_var = es_delays.Total_delay.var()"
   ]
  },
  {
   "cell_type": "markdown",
   "metadata": {},
   "source": [
    "### Barcelona summary statistics\n"
   ]
  },
  {
   "cell_type": "code",
   "execution_count": 123,
   "metadata": {},
   "outputs": [],
   "source": [
    "data_bcn = data[data['depart_airpt'] == 'BCN']\n",
    "bnc_delays =  data_bcn[np.logical_and(data_bcn['depart_delay']>0, data_bcn['arri_delay']>0)]"
   ]
  },
  {
   "cell_type": "code",
   "execution_count": 139,
   "metadata": {},
   "outputs": [
    {
     "data": {
      "text/html": [
       "<div>\n",
       "<style scoped>\n",
       "    .dataframe tbody tr th:only-of-type {\n",
       "        vertical-align: middle;\n",
       "    }\n",
       "\n",
       "    .dataframe tbody tr th {\n",
       "        vertical-align: top;\n",
       "    }\n",
       "\n",
       "    .dataframe thead th {\n",
       "        text-align: right;\n",
       "    }\n",
       "</style>\n",
       "<table border=\"1\" class=\"dataframe\">\n",
       "  <thead>\n",
       "    <tr style=\"text-align: right;\">\n",
       "      <th></th>\n",
       "      <th>depart_delay</th>\n",
       "      <th>arri_delay</th>\n",
       "      <th>Total_delay</th>\n",
       "      <th>Delay_status</th>\n",
       "      <th>day_range</th>\n",
       "    </tr>\n",
       "  </thead>\n",
       "  <tbody>\n",
       "    <tr>\n",
       "      <th>count</th>\n",
       "      <td>1627.000000</td>\n",
       "      <td>1627.000000</td>\n",
       "      <td>1627.000000</td>\n",
       "      <td>1627.000000</td>\n",
       "      <td>1627.000000</td>\n",
       "    </tr>\n",
       "    <tr>\n",
       "      <th>mean</th>\n",
       "      <td>22.258144</td>\n",
       "      <td>19.788568</td>\n",
       "      <td>42.046712</td>\n",
       "      <td>0.578365</td>\n",
       "      <td>0.406269</td>\n",
       "    </tr>\n",
       "    <tr>\n",
       "      <th>std</th>\n",
       "      <td>16.891186</td>\n",
       "      <td>15.854296</td>\n",
       "      <td>31.190941</td>\n",
       "      <td>0.493973</td>\n",
       "      <td>0.540179</td>\n",
       "    </tr>\n",
       "    <tr>\n",
       "      <th>min</th>\n",
       "      <td>1.000000</td>\n",
       "      <td>1.000000</td>\n",
       "      <td>3.000000</td>\n",
       "      <td>0.000000</td>\n",
       "      <td>0.000000</td>\n",
       "    </tr>\n",
       "    <tr>\n",
       "      <th>25%</th>\n",
       "      <td>9.000000</td>\n",
       "      <td>7.000000</td>\n",
       "      <td>17.000000</td>\n",
       "      <td>0.000000</td>\n",
       "      <td>0.000000</td>\n",
       "    </tr>\n",
       "    <tr>\n",
       "      <th>50%</th>\n",
       "      <td>18.000000</td>\n",
       "      <td>16.000000</td>\n",
       "      <td>33.000000</td>\n",
       "      <td>1.000000</td>\n",
       "      <td>0.000000</td>\n",
       "    </tr>\n",
       "    <tr>\n",
       "      <th>75%</th>\n",
       "      <td>32.000000</td>\n",
       "      <td>28.000000</td>\n",
       "      <td>58.000000</td>\n",
       "      <td>1.000000</td>\n",
       "      <td>1.000000</td>\n",
       "    </tr>\n",
       "    <tr>\n",
       "      <th>max</th>\n",
       "      <td>86.000000</td>\n",
       "      <td>74.000000</td>\n",
       "      <td>147.000000</td>\n",
       "      <td>1.000000</td>\n",
       "      <td>2.000000</td>\n",
       "    </tr>\n",
       "  </tbody>\n",
       "</table>\n",
       "</div>"
      ],
      "text/plain": [
       "       depart_delay   arri_delay  Total_delay  Delay_status    day_range\n",
       "count   1627.000000  1627.000000  1627.000000   1627.000000  1627.000000\n",
       "mean      22.258144    19.788568    42.046712      0.578365     0.406269\n",
       "std       16.891186    15.854296    31.190941      0.493973     0.540179\n",
       "min        1.000000     1.000000     3.000000      0.000000     0.000000\n",
       "25%        9.000000     7.000000    17.000000      0.000000     0.000000\n",
       "50%       18.000000    16.000000    33.000000      1.000000     0.000000\n",
       "75%       32.000000    28.000000    58.000000      1.000000     1.000000\n",
       "max       86.000000    74.000000   147.000000      1.000000     2.000000"
      ]
     },
     "execution_count": 139,
     "metadata": {},
     "output_type": "execute_result"
    }
   ],
   "source": [
    "bnc_delays.describe()"
   ]
  },
  {
   "cell_type": "code",
   "execution_count": 124,
   "metadata": {},
   "outputs": [],
   "source": [
    "bnc_dep_delay_mean = bnc_delays.depart_delay.mean()\n",
    "bnc_dep_delay_std = bnc_delays.depart_delay.std()\n",
    "bnc_dep_delay_var = bnc_delays.depart_delay.var()\n",
    "bnc_t_delay_mean = bnc_delays.Total_delay.mean()\n",
    "bnc_t_delay_std = bnc_delays.Total_delay.std()\n",
    "bnc_t_delay_var = bnc_delays.Total_delay.var()"
   ]
  },
  {
   "cell_type": "markdown",
   "metadata": {},
   "source": [
    "### Madrid summary statistics\n"
   ]
  },
  {
   "cell_type": "code",
   "execution_count": 125,
   "metadata": {},
   "outputs": [],
   "source": [
    "data_mad = data[data['depart_airpt'] == 'MAD']\n",
    "mad_delays =  data_mad[np.logical_and(data_mad['depart_delay']>0, data_mad['arri_delay']>0)]"
   ]
  },
  {
   "cell_type": "code",
   "execution_count": 126,
   "metadata": {},
   "outputs": [],
   "source": [
    "mad_dep_delay_mean = mad_delays.depart_delay.mean()\n",
    "mad_dep_delay_std = mad_delays.depart_delay.std()\n",
    "mad_dep_delay_var = mad_delays.depart_delay.var()\n",
    "mad_t_delay_mean = mad_delays.Total_delay.mean()\n",
    "mad_t_delay_std = mad_delays.Total_delay.std()\n",
    "mad_t_delay_var = mad_delays.Total_delay.var()"
   ]
  },
  {
   "cell_type": "code",
   "execution_count": null,
   "metadata": {},
   "outputs": [],
   "source": []
  },
  {
   "cell_type": "markdown",
   "metadata": {},
   "source": [
    "# Hypothesis testing"
   ]
  },
  {
   "cell_type": "markdown",
   "metadata": {},
   "source": [
    "### 1- Its is more likely to have delay time in Spain airports than in the rest of europe. "
   ]
  },
  {
   "cell_type": "markdown",
   "metadata": {},
   "source": [
    "H0: The mean departure time in minutes in Spain is equal or lower than in the rest of Europe\n",
    "\n",
    "\n",
    "H1: The mean departure time in minutes in Spain is greater than in the rest of Europe"
   ]
  },
  {
   "cell_type": "markdown",
   "metadata": {},
   "source": [
    "#### Testing with the european departure delay mean by Eurocontrol"
   ]
  },
  {
   "cell_type": "code",
   "execution_count": 138,
   "metadata": {},
   "outputs": [
    {
     "name": "stdout",
     "output_type": "stream",
     "text": [
      "Reject null hypothesis, we have evidence for alternative hypothesis\n",
      "\n",
      "Ttest_1sampResult(statistic=41.748091665097334, pvalue=0.0)\n"
     ]
    }
   ],
   "source": [
    "#With a condifence level of 5%, lets test to see if we can reject our null hypotehsis.\n",
    "alpha = 0.05\n",
    "\n",
    "result_ttest = stats.ttest_1samp(es_delays['depart_delay'], europe_delay_mean)\n",
    "\n",
    "if (result_ttest[0] > 0) & (result_ttest[1] < alpha):\n",
    "    print (f\"Reject null hypothesis, we have evidence for alternative hypothesis\\n\")\n",
    "else:\n",
    "    print('We dont have statistical evidence to reject the null hypothesis')\n",
    "\n",
    "print(result_ttest)"
   ]
  },
  {
   "cell_type": "markdown",
   "metadata": {},
   "source": [
    "#### Testing with the european departure delay mean of my sample"
   ]
  },
  {
   "cell_type": "code",
   "execution_count": 137,
   "metadata": {},
   "outputs": [
    {
     "name": "stdout",
     "output_type": "stream",
     "text": [
      "We dont have statistical evidence to reject the null hypothesis\n",
      "\n",
      "Ttest_1sampResult(statistic=-2.5907764760355323, pvalue=0.009596235629558636)\n"
     ]
    }
   ],
   "source": [
    "#With a condifence level of 5%, lets test to see if we can reject our null hypotehsis.\n",
    "alpha = 0.05\n",
    "\n",
    "result_ttest = stats.ttest_1samp(es_delays['depart_delay'], eu_dep_delay_mean)\n",
    "\n",
    "if (result_ttest[0] > 0) & (result_ttest[1] < alpha):\n",
    "    print (f\"Reject null hypothesis, we have evidence for alternative hypothesis\\n\")\n",
    "else:\n",
    "    print('We dont have statistical evidence to reject the null hypothesis\\n')\n",
    "\n",
    "print(result_ttest)"
   ]
  },
  {
   "cell_type": "code",
   "execution_count": null,
   "metadata": {},
   "outputs": [],
   "source": []
  },
  {
   "cell_type": "markdown",
   "metadata": {},
   "source": [
    "### 2-The Barcelona airport is the airport with less delays time in average of Spain. "
   ]
  },
  {
   "cell_type": "markdown",
   "metadata": {},
   "source": [
    "H0: The mean departure time in minutes in BCN is equal or greater than in the rest of Spain.\n",
    "\n",
    "\n",
    "H1: The mean departure time in minutes in BCN is lower than in the rest of Spain."
   ]
  },
  {
   "cell_type": "code",
   "execution_count": 140,
   "metadata": {},
   "outputs": [
    {
     "name": "stdout",
     "output_type": "stream",
     "text": [
      "We dont have statistical evidence to reject the null hypothesis\n",
      "\n",
      "Ttest_1sampResult(statistic=0.0, pvalue=1.0)\n"
     ]
    }
   ],
   "source": [
    "#With a condifence level of 5%, lets test to see if we can reject our null hypotehsis.\n",
    "\n",
    "alpha = 0.05\n",
    "\n",
    "result_ttest = stats.ttest_1samp(es_delays['depart_delay'], es_dep_delay_mean)\n",
    "\n",
    "if (result_ttest[0] < 0) & (result_ttest[1] < alpha):\n",
    "    print (f\"Reject null hypothesis, we have evidence for alternative hypothesis\\n\")\n",
    "else:\n",
    "    print('We dont have statistical evidence to reject the null hypothesis\\n')\n",
    "\n",
    "print(result_ttest)"
   ]
  },
  {
   "cell_type": "code",
   "execution_count": null,
   "metadata": {},
   "outputs": [],
   "source": []
  },
  {
   "cell_type": "code",
   "execution_count": null,
   "metadata": {},
   "outputs": [],
   "source": []
  },
  {
   "cell_type": "code",
   "execution_count": null,
   "metadata": {},
   "outputs": [],
   "source": []
  },
  {
   "cell_type": "code",
   "execution_count": null,
   "metadata": {},
   "outputs": [],
   "source": []
  },
  {
   "cell_type": "code",
   "execution_count": null,
   "metadata": {},
   "outputs": [],
   "source": []
  }
 ],
 "metadata": {
  "kernelspec": {
   "display_name": "ironhack",
   "language": "python",
   "name": "ironhack"
  },
  "language_info": {
   "codemirror_mode": {
    "name": "ipython",
    "version": 3
   },
   "file_extension": ".py",
   "mimetype": "text/x-python",
   "name": "python",
   "nbconvert_exporter": "python",
   "pygments_lexer": "ipython3",
   "version": "3.7.3"
  }
 },
 "nbformat": 4,
 "nbformat_minor": 2
}
