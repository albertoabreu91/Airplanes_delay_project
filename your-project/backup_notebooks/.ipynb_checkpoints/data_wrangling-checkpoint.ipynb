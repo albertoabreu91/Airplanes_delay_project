{
 "cells": [
  {
   "cell_type": "code",
   "execution_count": 1,
   "metadata": {},
   "outputs": [],
   "source": [
    "import pandas as pd\n",
    "import numpy as np\n",
    "import os"
   ]
  },
  {
   "cell_type": "code",
   "execution_count": 2,
   "metadata": {},
   "outputs": [],
   "source": [
    "barca = pd.read_csv('BNC_0.csv')"
   ]
  },
  {
   "cell_type": "code",
   "execution_count": 3,
   "metadata": {},
   "outputs": [],
   "source": [
    "madrid = pd.read_csv('MAD_0.csv')"
   ]
  },
  {
   "cell_type": "code",
   "execution_count": 5,
   "metadata": {},
   "outputs": [],
   "source": [
    "data = pd.concat([barca, madrid], ignore_index=True)"
   ]
  },
  {
   "cell_type": "code",
   "execution_count": 11,
   "metadata": {},
   "outputs": [],
   "source": [
    "data = data.drop('Unnamed: 0', axis =1)"
   ]
  },
  {
   "cell_type": "code",
   "execution_count": 13,
   "metadata": {},
   "outputs": [
    {
     "data": {
      "text/html": [
       "<div>\n",
       "<style scoped>\n",
       "    .dataframe tbody tr th:only-of-type {\n",
       "        vertical-align: middle;\n",
       "    }\n",
       "\n",
       "    .dataframe tbody tr th {\n",
       "        vertical-align: top;\n",
       "    }\n",
       "\n",
       "    .dataframe thead th {\n",
       "        text-align: right;\n",
       "    }\n",
       "</style>\n",
       "<table border=\"1\" class=\"dataframe\">\n",
       "  <thead>\n",
       "    <tr style=\"text-align: right;\">\n",
       "      <th></th>\n",
       "      <th>codeshared</th>\n",
       "      <th>flight</th>\n",
       "      <th>status</th>\n",
       "      <th>type</th>\n",
       "      <th>airln_name</th>\n",
       "      <th>airln_code</th>\n",
       "      <th>arri_delay</th>\n",
       "      <th>arri_airpt</th>\n",
       "      <th>schd_arri_time</th>\n",
       "      <th>depart_delay</th>\n",
       "      <th>depart_airpt</th>\n",
       "      <th>schd_depart_time</th>\n",
       "      <th>depart_gate</th>\n",
       "      <th>depart_terminal</th>\n",
       "      <th>icaonumb</th>\n",
       "    </tr>\n",
       "  </thead>\n",
       "  <tbody>\n",
       "    <tr>\n",
       "      <th>0</th>\n",
       "      <td>NaN</td>\n",
       "      <td>2015</td>\n",
       "      <td>landed</td>\n",
       "      <td>departure</td>\n",
       "      <td>Air Algerie</td>\n",
       "      <td>AH</td>\n",
       "      <td>NaN</td>\n",
       "      <td>ALG</td>\n",
       "      <td>2019-07-24T20:25:00.000</td>\n",
       "      <td>NaN</td>\n",
       "      <td>BCN</td>\n",
       "      <td>2019-07-24T20:05:00.000</td>\n",
       "      <td>D16</td>\n",
       "      <td>1</td>\n",
       "      <td>DAH2015</td>\n",
       "    </tr>\n",
       "    <tr>\n",
       "      <th>1</th>\n",
       "      <td>Vueling</td>\n",
       "      <td>5162</td>\n",
       "      <td>landed</td>\n",
       "      <td>departure</td>\n",
       "      <td>Iberia</td>\n",
       "      <td>IB</td>\n",
       "      <td>NaN</td>\n",
       "      <td>PMI</td>\n",
       "      <td>2019-07-24T21:10:00.000</td>\n",
       "      <td>3.0</td>\n",
       "      <td>BCN</td>\n",
       "      <td>2019-07-24T20:15:00.000</td>\n",
       "      <td>B40</td>\n",
       "      <td>1</td>\n",
       "      <td>IBE5162</td>\n",
       "    </tr>\n",
       "    <tr>\n",
       "      <th>2</th>\n",
       "      <td>Vueling</td>\n",
       "      <td>3670</td>\n",
       "      <td>landed</td>\n",
       "      <td>departure</td>\n",
       "      <td>Qatar Airways</td>\n",
       "      <td>QR</td>\n",
       "      <td>NaN</td>\n",
       "      <td>PMI</td>\n",
       "      <td>2019-07-24T21:10:00.000</td>\n",
       "      <td>3.0</td>\n",
       "      <td>BCN</td>\n",
       "      <td>2019-07-24T20:15:00.000</td>\n",
       "      <td>B40</td>\n",
       "      <td>1</td>\n",
       "      <td>QTR3670</td>\n",
       "    </tr>\n",
       "    <tr>\n",
       "      <th>3</th>\n",
       "      <td>NaN</td>\n",
       "      <td>3918</td>\n",
       "      <td>landed</td>\n",
       "      <td>departure</td>\n",
       "      <td>Vueling</td>\n",
       "      <td>VY</td>\n",
       "      <td>NaN</td>\n",
       "      <td>PMI</td>\n",
       "      <td>2019-07-24T21:10:00.000</td>\n",
       "      <td>3.0</td>\n",
       "      <td>BCN</td>\n",
       "      <td>2019-07-24T20:15:00.000</td>\n",
       "      <td>B40</td>\n",
       "      <td>1</td>\n",
       "      <td>VLG3918</td>\n",
       "    </tr>\n",
       "    <tr>\n",
       "      <th>4</th>\n",
       "      <td>Vueling</td>\n",
       "      <td>5063</td>\n",
       "      <td>landed</td>\n",
       "      <td>departure</td>\n",
       "      <td>Iberia</td>\n",
       "      <td>IB</td>\n",
       "      <td>19.0</td>\n",
       "      <td>MAH</td>\n",
       "      <td>2019-07-24T20:55:00.000</td>\n",
       "      <td>22.0</td>\n",
       "      <td>BCN</td>\n",
       "      <td>2019-07-24T20:00:00.000</td>\n",
       "      <td>B68</td>\n",
       "      <td>1</td>\n",
       "      <td>IBE5063</td>\n",
       "    </tr>\n",
       "  </tbody>\n",
       "</table>\n",
       "</div>"
      ],
      "text/plain": [
       "  codeshared  flight  status       type     airln_name airln_code  arri_delay  \\\n",
       "0        NaN    2015  landed  departure    Air Algerie         AH         NaN   \n",
       "1    Vueling    5162  landed  departure         Iberia         IB         NaN   \n",
       "2    Vueling    3670  landed  departure  Qatar Airways         QR         NaN   \n",
       "3        NaN    3918  landed  departure        Vueling         VY         NaN   \n",
       "4    Vueling    5063  landed  departure         Iberia         IB        19.0   \n",
       "\n",
       "  arri_airpt           schd_arri_time  depart_delay depart_airpt  \\\n",
       "0        ALG  2019-07-24T20:25:00.000           NaN          BCN   \n",
       "1        PMI  2019-07-24T21:10:00.000           3.0          BCN   \n",
       "2        PMI  2019-07-24T21:10:00.000           3.0          BCN   \n",
       "3        PMI  2019-07-24T21:10:00.000           3.0          BCN   \n",
       "4        MAH  2019-07-24T20:55:00.000          22.0          BCN   \n",
       "\n",
       "          schd_depart_time depart_gate depart_terminal icaonumb  \n",
       "0  2019-07-24T20:05:00.000         D16               1  DAH2015  \n",
       "1  2019-07-24T20:15:00.000         B40               1  IBE5162  \n",
       "2  2019-07-24T20:15:00.000         B40               1  QTR3670  \n",
       "3  2019-07-24T20:15:00.000         B40               1  VLG3918  \n",
       "4  2019-07-24T20:00:00.000         B68               1  IBE5063  "
      ]
     },
     "execution_count": 13,
     "metadata": {},
     "output_type": "execute_result"
    }
   ],
   "source": [
    "data.head()"
   ]
  },
  {
   "cell_type": "markdown",
   "metadata": {},
   "source": [
    "### Modifiying data types"
   ]
  },
  {
   "cell_type": "code",
   "execution_count": 12,
   "metadata": {},
   "outputs": [
    {
     "name": "stdout",
     "output_type": "stream",
     "text": [
      "<class 'pandas.core.frame.DataFrame'>\n",
      "RangeIndex: 769 entries, 0 to 768\n",
      "Data columns (total 15 columns):\n",
      "codeshared          532 non-null object\n",
      "flight              769 non-null int64\n",
      "status              769 non-null object\n",
      "type                769 non-null object\n",
      "airln_name          769 non-null object\n",
      "airln_code          769 non-null object\n",
      "arri_delay          455 non-null float64\n",
      "arri_airpt          769 non-null object\n",
      "schd_arri_time      769 non-null object\n",
      "depart_delay        600 non-null float64\n",
      "depart_airpt        769 non-null object\n",
      "schd_depart_time    769 non-null object\n",
      "depart_gate         641 non-null object\n",
      "depart_terminal     769 non-null object\n",
      "icaonumb            767 non-null object\n",
      "dtypes: float64(2), int64(1), object(12)\n",
      "memory usage: 90.2+ KB\n"
     ]
    }
   ],
   "source": [
    "data.info()"
   ]
  },
  {
   "cell_type": "code",
   "execution_count": 16,
   "metadata": {},
   "outputs": [],
   "source": [
    "data = data.astype({'schd_arri_time': 'datetime64[ns]','schd_depart_time':'datetime64[ns]'})"
   ]
  },
  {
   "cell_type": "code",
   "execution_count": 17,
   "metadata": {},
   "outputs": [
    {
     "name": "stdout",
     "output_type": "stream",
     "text": [
      "<class 'pandas.core.frame.DataFrame'>\n",
      "RangeIndex: 769 entries, 0 to 768\n",
      "Data columns (total 15 columns):\n",
      "codeshared          532 non-null object\n",
      "flight              769 non-null int64\n",
      "status              769 non-null object\n",
      "type                769 non-null object\n",
      "airln_name          769 non-null object\n",
      "airln_code          769 non-null object\n",
      "arri_delay          455 non-null float64\n",
      "arri_airpt          769 non-null object\n",
      "schd_arri_time      769 non-null datetime64[ns]\n",
      "depart_delay        600 non-null float64\n",
      "depart_airpt        769 non-null object\n",
      "schd_depart_time    769 non-null datetime64[ns]\n",
      "depart_gate         641 non-null object\n",
      "depart_terminal     769 non-null object\n",
      "icaonumb            767 non-null object\n",
      "dtypes: datetime64[ns](2), float64(2), int64(1), object(10)\n",
      "memory usage: 90.2+ KB\n"
     ]
    }
   ],
   "source": [
    "data.info()"
   ]
  },
  {
   "cell_type": "code",
   "execution_count": 21,
   "metadata": {},
   "outputs": [
    {
     "name": "stdout",
     "output_type": "stream",
     "text": [
      "['codeshared', 'flight', 'status', 'type', 'airln_name', 'airln_code', 'arri_delay', 'arri_airpt', 'schd_arri_time', 'depart_delay', 'depart_airpt', 'schd_depart_time', 'depart_gate', 'depart_terminal', 'icaonumb']\n"
     ]
    }
   ],
   "source": [
    "cols = data.columns.tolist()\n",
    "print(cols)"
   ]
  },
  {
   "cell_type": "code",
   "execution_count": 23,
   "metadata": {},
   "outputs": [],
   "source": [
    "## Changing the columns order\n",
    "\n",
    "data = data[['airln_name', 'airln_code','type', 'codeshared', 'status', 'icaonumb', 'flight','depart_terminal',\\\n",
    "      'depart_gate', 'depart_airpt' ,'schd_depart_time','depart_delay','arri_airpt','schd_arri_time',\\\n",
    "      'arri_delay']]\n"
   ]
  },
  {
   "cell_type": "code",
   "execution_count": 25,
   "metadata": {},
   "outputs": [
    {
     "data": {
      "text/html": [
       "<div>\n",
       "<style scoped>\n",
       "    .dataframe tbody tr th:only-of-type {\n",
       "        vertical-align: middle;\n",
       "    }\n",
       "\n",
       "    .dataframe tbody tr th {\n",
       "        vertical-align: top;\n",
       "    }\n",
       "\n",
       "    .dataframe thead th {\n",
       "        text-align: right;\n",
       "    }\n",
       "</style>\n",
       "<table border=\"1\" class=\"dataframe\">\n",
       "  <thead>\n",
       "    <tr style=\"text-align: right;\">\n",
       "      <th></th>\n",
       "      <th>airln_name</th>\n",
       "      <th>airln_code</th>\n",
       "      <th>type</th>\n",
       "      <th>codeshared</th>\n",
       "      <th>status</th>\n",
       "      <th>icaonumb</th>\n",
       "      <th>flight</th>\n",
       "      <th>depart_terminal</th>\n",
       "      <th>depart_gate</th>\n",
       "      <th>depart_airpt</th>\n",
       "      <th>schd_depart_time</th>\n",
       "      <th>depart_delay</th>\n",
       "      <th>arri_airpt</th>\n",
       "      <th>schd_arri_time</th>\n",
       "      <th>arri_delay</th>\n",
       "    </tr>\n",
       "  </thead>\n",
       "  <tbody>\n",
       "    <tr>\n",
       "      <th>0</th>\n",
       "      <td>Air Algerie</td>\n",
       "      <td>AH</td>\n",
       "      <td>departure</td>\n",
       "      <td>NaN</td>\n",
       "      <td>landed</td>\n",
       "      <td>DAH2015</td>\n",
       "      <td>2015</td>\n",
       "      <td>1</td>\n",
       "      <td>D16</td>\n",
       "      <td>BCN</td>\n",
       "      <td>2019-07-24 20:05:00</td>\n",
       "      <td>NaN</td>\n",
       "      <td>ALG</td>\n",
       "      <td>2019-07-24 20:25:00</td>\n",
       "      <td>NaN</td>\n",
       "    </tr>\n",
       "    <tr>\n",
       "      <th>1</th>\n",
       "      <td>Iberia</td>\n",
       "      <td>IB</td>\n",
       "      <td>departure</td>\n",
       "      <td>Vueling</td>\n",
       "      <td>landed</td>\n",
       "      <td>IBE5162</td>\n",
       "      <td>5162</td>\n",
       "      <td>1</td>\n",
       "      <td>B40</td>\n",
       "      <td>BCN</td>\n",
       "      <td>2019-07-24 20:15:00</td>\n",
       "      <td>3.0</td>\n",
       "      <td>PMI</td>\n",
       "      <td>2019-07-24 21:10:00</td>\n",
       "      <td>NaN</td>\n",
       "    </tr>\n",
       "  </tbody>\n",
       "</table>\n",
       "</div>"
      ],
      "text/plain": [
       "    airln_name airln_code       type codeshared  status icaonumb  flight  \\\n",
       "0  Air Algerie         AH  departure        NaN  landed  DAH2015    2015   \n",
       "1       Iberia         IB  departure    Vueling  landed  IBE5162    5162   \n",
       "\n",
       "  depart_terminal depart_gate depart_airpt    schd_depart_time  depart_delay  \\\n",
       "0               1         D16          BCN 2019-07-24 20:05:00           NaN   \n",
       "1               1         B40          BCN 2019-07-24 20:15:00           3.0   \n",
       "\n",
       "  arri_airpt      schd_arri_time  arri_delay  \n",
       "0        ALG 2019-07-24 20:25:00         NaN  \n",
       "1        PMI 2019-07-24 21:10:00         NaN  "
      ]
     },
     "execution_count": 25,
     "metadata": {},
     "output_type": "execute_result"
    }
   ],
   "source": [
    "data.head(2)"
   ]
  },
  {
   "cell_type": "markdown",
   "metadata": {},
   "source": [
    "### Dealing with missing values"
   ]
  },
  {
   "cell_type": "code",
   "execution_count": 27,
   "metadata": {},
   "outputs": [],
   "source": [
    "data['depart_delay'] = data['depart_delay'].fillna(0)"
   ]
  },
  {
   "cell_type": "code",
   "execution_count": 28,
   "metadata": {},
   "outputs": [],
   "source": [
    "data['arri_delay'] = data['arri_delay'].fillna(0)"
   ]
  },
  {
   "cell_type": "code",
   "execution_count": null,
   "metadata": {},
   "outputs": [],
   "source": []
  },
  {
   "cell_type": "code",
   "execution_count": null,
   "metadata": {},
   "outputs": [],
   "source": []
  },
  {
   "cell_type": "code",
   "execution_count": null,
   "metadata": {},
   "outputs": [],
   "source": []
  },
  {
   "cell_type": "code",
   "execution_count": 29,
   "metadata": {},
   "outputs": [],
   "source": [
    "data.to_csv('final_data_t.csv')"
   ]
  },
  {
   "cell_type": "code",
   "execution_count": null,
   "metadata": {},
   "outputs": [],
   "source": []
  },
  {
   "cell_type": "code",
   "execution_count": null,
   "metadata": {},
   "outputs": [],
   "source": []
  },
  {
   "cell_type": "code",
   "execution_count": null,
   "metadata": {},
   "outputs": [],
   "source": []
  },
  {
   "cell_type": "code",
   "execution_count": null,
   "metadata": {},
   "outputs": [],
   "source": []
  },
  {
   "cell_type": "code",
   "execution_count": null,
   "metadata": {},
   "outputs": [],
   "source": []
  },
  {
   "cell_type": "code",
   "execution_count": null,
   "metadata": {},
   "outputs": [],
   "source": []
  }
 ],
 "metadata": {
  "kernelspec": {
   "display_name": "ironhack",
   "language": "python",
   "name": "ironhack"
  },
  "language_info": {
   "codemirror_mode": {
    "name": "ipython",
    "version": 3
   },
   "file_extension": ".py",
   "mimetype": "text/x-python",
   "name": "python",
   "nbconvert_exporter": "python",
   "pygments_lexer": "ipython3",
   "version": "3.7.3"
  }
 },
 "nbformat": 4,
 "nbformat_minor": 2
}
