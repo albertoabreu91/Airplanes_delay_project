{
 "cells": [
  {
   "cell_type": "markdown",
   "metadata": {},
   "source": [
    "Spain is the european country with more delay hours per fly. (1)\n",
    "\n",
    "\n",
    "The Barcelona airport is the airport with less delays hours in Spain. (2)\n",
    "\n",
    "\n",
    "Vueling is the air carriers with more delays (3)\n",
    "\n",
    "\n",
    "The shorter the flight is, the more is likely that it will be delay. (4)\n",
    "\n",
    "\n",
    "The average delay time is Spain is longer than in Germany. (5)\n",
    "\n",
    "\n",
    "Your are more likely to have a delay flight because of the carrier rather than from weather conditions.\n",
    "\n",
    "Legacy carriers flights are less likely to be delay than low cost carriers flights.\n",
    "\n",
    "US airlines are less likely to be delay than the european counterparts."
   ]
  },
  {
   "cell_type": "code",
   "execution_count": 20,
   "metadata": {},
   "outputs": [],
   "source": [
    "# Importing libraries\n",
    "import pandas as pd\n",
    "import numpy as np\n",
    "import os\n",
    "import matplotlib.pyplot as plt\n",
    "import seaborn as sns\n",
    "import pymysql\n",
    "from sqlalchemy import create_engine\n",
    "import re\n",
    "import requests as req\n",
    "import json\n",
    "import datetime"
   ]
  },
  {
   "cell_type": "code",
   "execution_count": 79,
   "metadata": {},
   "outputs": [],
   "source": [
    "KEY = 'b50bc5-5af08a'\n",
    "\n",
    "BCN = 'BCN'\n",
    "\n",
    "status = 'landed'\n",
    "\n",
    "url = f\"http://aviation-edge.com/v2/public/timetable?key={KEY}&iataCode={BCN}&type=departure&status={status}\"\n"
   ]
  },
  {
   "cell_type": "code",
   "execution_count": 80,
   "metadata": {},
   "outputs": [],
   "source": [
    "response = req.get(url)"
   ]
  },
  {
   "cell_type": "code",
   "execution_count": 81,
   "metadata": {},
   "outputs": [
    {
     "data": {
      "text/plain": [
       "<Response [200]>"
      ]
     },
     "execution_count": 81,
     "metadata": {},
     "output_type": "execute_result"
    }
   ],
   "source": [
    "response"
   ]
  },
  {
   "cell_type": "code",
   "execution_count": 114,
   "metadata": {},
   "outputs": [],
   "source": [
    "KEY = 'b50bc5-5af08a'\n",
    "\n",
    "BCN = 'BCN'\n",
    "\n",
    "status = 'landed'\n",
    "\n",
    "url = f\"http://aviation-edge.com/v2/public/timetable?key={KEY}&iataCode={BCN}&type=departure&status={status}\"\n"
   ]
  },
  {
   "cell_type": "code",
   "execution_count": 115,
   "metadata": {},
   "outputs": [],
   "source": [
    "response = req.get(url)"
   ]
  },
  {
   "cell_type": "code",
   "execution_count": 116,
   "metadata": {},
   "outputs": [
    {
     "data": {
      "text/plain": [
       "<Response [200]>"
      ]
     },
     "execution_count": 116,
     "metadata": {},
     "output_type": "execute_result"
    }
   ],
   "source": [
    "response"
   ]
  },
  {
   "cell_type": "code",
   "execution_count": 117,
   "metadata": {},
   "outputs": [],
   "source": [
    "data_test = response.json()"
   ]
  },
  {
   "cell_type": "code",
   "execution_count": 119,
   "metadata": {},
   "outputs": [
    {
     "data": {
      "text/plain": [
       "367"
      ]
     },
     "execution_count": 119,
     "metadata": {},
     "output_type": "execute_result"
    }
   ],
   "source": [
    "len(data_test)"
   ]
  },
  {
   "cell_type": "code",
   "execution_count": null,
   "metadata": {},
   "outputs": [],
   "source": []
  },
  {
   "cell_type": "code",
   "execution_count": 82,
   "metadata": {},
   "outputs": [],
   "source": [
    "data_2 = response.json()"
   ]
  },
  {
   "cell_type": "code",
   "execution_count": 19,
   "metadata": {
    "scrolled": true
   },
   "outputs": [
    {
     "data": {
      "text/plain": [
       "344"
      ]
     },
     "execution_count": 19,
     "metadata": {},
     "output_type": "execute_result"
    }
   ],
   "source": [
    "len(data)"
   ]
  },
  {
   "cell_type": "code",
   "execution_count": 24,
   "metadata": {},
   "outputs": [
    {
     "data": {
      "text/plain": [
       "{'type': 'departure',\n",
       " 'status': 'landed',\n",
       " 'departure': {'iataCode': 'BCN',\n",
       "  'icaoCode': 'LEBL',\n",
       "  'terminal': '1',\n",
       "  'gate': 'B59',\n",
       "  'baggage': None,\n",
       "  'delay': '26',\n",
       "  'scheduledTime': '2019-07-24T11:55:00.000',\n",
       "  'estimatedTime': '2019-07-24T12:21:00.000',\n",
       "  'actualTime': '2019-07-24T12:21:00.000',\n",
       "  'estimatedRunway': '2019-07-24T12:30:00.000',\n",
       "  'actualRunway': '2019-07-24T12:30:00.000'},\n",
       " 'arrival': {'iataCode': 'MLA',\n",
       "  'icaoCode': 'LMML',\n",
       "  'terminal': None,\n",
       "  'gate': None,\n",
       "  'baggage': None,\n",
       "  'delay': '26',\n",
       "  'scheduledTime': '2019-07-24T14:00:00.000',\n",
       "  'estimatedTime': '2019-07-24T14:26:00.000',\n",
       "  'actualTime': '2019-07-24T14:26:00.000',\n",
       "  'estimatedRunway': '2019-07-24T14:21:00.000',\n",
       "  'actualRunway': '2019-07-24T14:21:00.000'},\n",
       " 'airline': {'name': 'Qatar Airways', 'iataCode': 'QR', 'icaoCode': 'QTR'},\n",
       " 'flight': {'number': '3682', 'iataNumber': 'QR3682', 'icaoNumber': 'QTR3682'},\n",
       " 'codeshared': {'airline': {'name': 'Vueling',\n",
       "   'iataCode': 'VY',\n",
       "   'icaoCode': 'VLG'},\n",
       "  'flight': {'number': '8744',\n",
       "   'iataNumber': 'VY8744',\n",
       "   'icaoNumber': 'VLG8744'}}}"
      ]
     },
     "execution_count": 24,
     "metadata": {},
     "output_type": "execute_result"
    }
   ],
   "source": [
    "data[0]"
   ]
  },
  {
   "cell_type": "code",
   "execution_count": 97,
   "metadata": {},
   "outputs": [
    {
     "name": "stdout",
     "output_type": "stream",
     "text": [
      "{\n",
      "    \"airline\": {\n",
      "        \"iataCode\": \"BA\",\n",
      "        \"icaoCode\": \"BAW\",\n",
      "        \"name\": \"British Airways\"\n",
      "    },\n",
      "    \"arrival\": {\n",
      "        \"actualRunway\": \"2019-07-24T13:59:00.000\",\n",
      "        \"actualTime\": \"2019-07-24T14:06:00.000\",\n",
      "        \"baggage\": null,\n",
      "        \"delay\": \"11\",\n",
      "        \"estimatedRunway\": \"2019-07-24T13:59:00.000\",\n",
      "        \"estimatedTime\": \"2019-07-24T14:06:00.000\",\n",
      "        \"gate\": null,\n",
      "        \"iataCode\": \"MXP\",\n",
      "        \"icaoCode\": \"LIMC\",\n",
      "        \"scheduledTime\": \"2019-07-24T13:55:00.000\",\n",
      "        \"terminal\": \"1\"\n",
      "    },\n",
      "    \"codeshared\": {\n",
      "        \"airline\": {\n",
      "            \"iataCode\": \"VY\",\n",
      "            \"icaoCode\": \"VLG\",\n",
      "            \"name\": \"Vueling\"\n",
      "        },\n",
      "        \"flight\": {\n",
      "            \"iataNumber\": \"VY6334\",\n",
      "            \"icaoNumber\": \"VLG6334\",\n",
      "            \"number\": \"6334\"\n",
      "        }\n",
      "    },\n",
      "    \"departure\": {\n",
      "        \"actualRunway\": \"2019-07-24T12:47:00.000\",\n",
      "        \"actualTime\": \"2019-07-24T12:19:00.000\",\n",
      "        \"baggage\": null,\n",
      "        \"delay\": \"4\",\n",
      "        \"estimatedRunway\": \"2019-07-24T12:47:00.000\",\n",
      "        \"estimatedTime\": \"2019-07-24T12:19:00.000\",\n",
      "        \"gate\": \"A4\",\n",
      "        \"iataCode\": \"BCN\",\n",
      "        \"icaoCode\": \"LEBL\",\n",
      "        \"scheduledTime\": \"2019-07-24T12:15:00.000\",\n",
      "        \"terminal\": \"1\"\n",
      "    },\n",
      "    \"flight\": {\n",
      "        \"iataNumber\": \"BA8842\",\n",
      "        \"icaoNumber\": \"BAW8842\",\n",
      "        \"number\": \"8842\"\n",
      "    },\n",
      "    \"status\": \"landed\",\n",
      "    \"type\": \"departure\"\n",
      "}\n"
     ]
    }
   ],
   "source": [
    "print(json.dumps(data_2[0], indent = 4, sort_keys=True))"
   ]
  },
  {
   "cell_type": "code",
   "execution_count": null,
   "metadata": {},
   "outputs": [],
   "source": [
    "data_df = pd.DataFrame(data_2)"
   ]
  },
  {
   "cell_type": "markdown",
   "metadata": {},
   "source": [
    "##### Airline"
   ]
  },
  {
   "cell_type": "code",
   "execution_count": 176,
   "metadata": {},
   "outputs": [],
   "source": [
    "data_df[\"airline_name\"] = data_df[\"airline\"].apply(lambda x: x['name'])"
   ]
  },
  {
   "cell_type": "code",
   "execution_count": 177,
   "metadata": {},
   "outputs": [],
   "source": [
    "data_df[\"airline_code\"] = data_df[\"airline\"].apply(lambda x: x['iataCode'])"
   ]
  },
  {
   "cell_type": "markdown",
   "metadata": {},
   "source": [
    "#### Arrivals"
   ]
  },
  {
   "cell_type": "code",
   "execution_count": 178,
   "metadata": {},
   "outputs": [],
   "source": [
    "data_df['arrival_delay'] = data_df['arrival'].apply(lambda x: x['delay'])"
   ]
  },
  {
   "cell_type": "code",
   "execution_count": 179,
   "metadata": {},
   "outputs": [],
   "source": [
    "data_df['arrival_airport'] = data_df['arrival'].apply(lambda x: x['iataCode'])"
   ]
  },
  {
   "cell_type": "code",
   "execution_count": 180,
   "metadata": {},
   "outputs": [],
   "source": [
    "data_df['schedule_arrival_time'] = data_df['arrival'].apply(lambda x: x['scheduledTime'])"
   ]
  },
  {
   "cell_type": "code",
   "execution_count": null,
   "metadata": {},
   "outputs": [],
   "source": []
  },
  {
   "cell_type": "markdown",
   "metadata": {},
   "source": [
    "#### codeshare"
   ]
  },
  {
   "cell_type": "code",
   "execution_count": 181,
   "metadata": {},
   "outputs": [],
   "source": [
    "data_df['codeshared'] = data_df['codeshared'].apply(lambda x: x['airline']['name'] if x else None)"
   ]
  },
  {
   "cell_type": "code",
   "execution_count": null,
   "metadata": {},
   "outputs": [],
   "source": []
  },
  {
   "cell_type": "markdown",
   "metadata": {},
   "source": [
    "#### Departure"
   ]
  },
  {
   "cell_type": "code",
   "execution_count": 182,
   "metadata": {},
   "outputs": [],
   "source": [
    "data_df['depart_delay'] = data_df['departure'].apply(lambda x: x['delay'])"
   ]
  },
  {
   "cell_type": "code",
   "execution_count": 183,
   "metadata": {},
   "outputs": [],
   "source": [
    "data_df['depart_airport'] = data_df['departure'].apply(lambda x: x['iataCode'])"
   ]
  },
  {
   "cell_type": "code",
   "execution_count": 184,
   "metadata": {},
   "outputs": [],
   "source": [
    "data_df['schedule_depart_time'] = data_df['departure'].apply(lambda x: x['scheduledTime'])"
   ]
  },
  {
   "cell_type": "code",
   "execution_count": 185,
   "metadata": {},
   "outputs": [],
   "source": [
    "data_df['departure_gate'] = data_df['departure'].apply(lambda x: x['gate'])"
   ]
  },
  {
   "cell_type": "code",
   "execution_count": 186,
   "metadata": {},
   "outputs": [],
   "source": [
    "data_df['departure_terminal'] = data_df['departure'].apply(lambda x: x['terminal'])"
   ]
  },
  {
   "cell_type": "code",
   "execution_count": null,
   "metadata": {},
   "outputs": [],
   "source": []
  },
  {
   "cell_type": "markdown",
   "metadata": {},
   "source": [
    "#### Flight"
   ]
  },
  {
   "cell_type": "code",
   "execution_count": 187,
   "metadata": {},
   "outputs": [],
   "source": [
    "data_df['icaoNumber'] = data_df['flight'].apply(lambda x: x['icaoNumber'])"
   ]
  },
  {
   "cell_type": "code",
   "execution_count": 188,
   "metadata": {},
   "outputs": [],
   "source": [
    "data_df['flight'] = data_df['flight'].apply(lambda x: x['number'])"
   ]
  },
  {
   "cell_type": "code",
   "execution_count": 189,
   "metadata": {},
   "outputs": [
    {
     "data": {
      "text/html": [
       "<div>\n",
       "<style scoped>\n",
       "    .dataframe tbody tr th:only-of-type {\n",
       "        vertical-align: middle;\n",
       "    }\n",
       "\n",
       "    .dataframe tbody tr th {\n",
       "        vertical-align: top;\n",
       "    }\n",
       "\n",
       "    .dataframe thead th {\n",
       "        text-align: right;\n",
       "    }\n",
       "</style>\n",
       "<table border=\"1\" class=\"dataframe\">\n",
       "  <thead>\n",
       "    <tr style=\"text-align: right;\">\n",
       "      <th></th>\n",
       "      <th>airline</th>\n",
       "      <th>arrival</th>\n",
       "      <th>codeshared</th>\n",
       "      <th>departure</th>\n",
       "      <th>flight</th>\n",
       "      <th>status</th>\n",
       "      <th>type</th>\n",
       "      <th>airline_name</th>\n",
       "      <th>airline_code</th>\n",
       "      <th>arrival_delay</th>\n",
       "      <th>arrival_airport</th>\n",
       "      <th>schedule_arrival_time</th>\n",
       "      <th>depart_delay</th>\n",
       "      <th>depart_airport</th>\n",
       "      <th>schedule_depart_time</th>\n",
       "      <th>departure_gate</th>\n",
       "      <th>departure_terminal</th>\n",
       "      <th>icaoNumber</th>\n",
       "    </tr>\n",
       "  </thead>\n",
       "  <tbody>\n",
       "    <tr>\n",
       "      <th>0</th>\n",
       "      <td>{'name': 'British Airways', 'iataCode': 'BA', ...</td>\n",
       "      <td>{'iataCode': 'MXP', 'icaoCode': 'LIMC', 'termi...</td>\n",
       "      <td>Vueling</td>\n",
       "      <td>{'iataCode': 'BCN', 'icaoCode': 'LEBL', 'termi...</td>\n",
       "      <td>8842</td>\n",
       "      <td>landed</td>\n",
       "      <td>departure</td>\n",
       "      <td>British Airways</td>\n",
       "      <td>BA</td>\n",
       "      <td>11</td>\n",
       "      <td>MXP</td>\n",
       "      <td>2019-07-24T13:55:00.000</td>\n",
       "      <td>4</td>\n",
       "      <td>BCN</td>\n",
       "      <td>2019-07-24T12:15:00.000</td>\n",
       "      <td>A4</td>\n",
       "      <td>1</td>\n",
       "      <td>BAW8842</td>\n",
       "    </tr>\n",
       "  </tbody>\n",
       "</table>\n",
       "</div>"
      ],
      "text/plain": [
       "                                             airline  \\\n",
       "0  {'name': 'British Airways', 'iataCode': 'BA', ...   \n",
       "\n",
       "                                             arrival codeshared  \\\n",
       "0  {'iataCode': 'MXP', 'icaoCode': 'LIMC', 'termi...    Vueling   \n",
       "\n",
       "                                           departure flight  status  \\\n",
       "0  {'iataCode': 'BCN', 'icaoCode': 'LEBL', 'termi...   8842  landed   \n",
       "\n",
       "        type     airline_name airline_code arrival_delay arrival_airport  \\\n",
       "0  departure  British Airways           BA            11             MXP   \n",
       "\n",
       "     schedule_arrival_time depart_delay depart_airport  \\\n",
       "0  2019-07-24T13:55:00.000            4            BCN   \n",
       "\n",
       "      schedule_depart_time departure_gate departure_terminal icaoNumber  \n",
       "0  2019-07-24T12:15:00.000             A4                  1    BAW8842  "
      ]
     },
     "execution_count": 189,
     "metadata": {},
     "output_type": "execute_result"
    }
   ],
   "source": [
    "data_df.head(1)"
   ]
  },
  {
   "cell_type": "code",
   "execution_count": null,
   "metadata": {},
   "outputs": [],
   "source": []
  },
  {
   "cell_type": "markdown",
   "metadata": {},
   "source": [
    "#### Drop columns"
   ]
  },
  {
   "cell_type": "code",
   "execution_count": 191,
   "metadata": {},
   "outputs": [],
   "source": [
    "data_df = data_df.drop(['airline','arrival','departure'], axis =1)"
   ]
  },
  {
   "cell_type": "code",
   "execution_count": null,
   "metadata": {},
   "outputs": [],
   "source": []
  },
  {
   "cell_type": "code",
   "execution_count": null,
   "metadata": {},
   "outputs": [],
   "source": []
  },
  {
   "cell_type": "code",
   "execution_count": null,
   "metadata": {},
   "outputs": [],
   "source": []
  },
  {
   "cell_type": "code",
   "execution_count": null,
   "metadata": {},
   "outputs": [],
   "source": []
  },
  {
   "cell_type": "code",
   "execution_count": null,
   "metadata": {},
   "outputs": [],
   "source": []
  },
  {
   "cell_type": "code",
   "execution_count": null,
   "metadata": {},
   "outputs": [],
   "source": []
  },
  {
   "cell_type": "code",
   "execution_count": null,
   "metadata": {},
   "outputs": [],
   "source": []
  }
 ],
 "metadata": {
  "kernelspec": {
   "display_name": "ironhack",
   "language": "python",
   "name": "ironhack"
  },
  "language_info": {
   "codemirror_mode": {
    "name": "ipython",
    "version": 3
   },
   "file_extension": ".py",
   "mimetype": "text/x-python",
   "name": "python",
   "nbconvert_exporter": "python",
   "pygments_lexer": "ipython3",
   "version": "3.7.3"
  }
 },
 "nbformat": 4,
 "nbformat_minor": 2
}
