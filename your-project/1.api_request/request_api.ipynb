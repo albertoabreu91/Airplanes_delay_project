{
 "cells": [
  {
   "cell_type": "markdown",
   "metadata": {},
   "source": [
    "### Request API notebook\n",
    "\n",
    "The initial step of the project consists of requesting flight information from [Aviation-Edge API](https://aviation-edge.com).  This website allows you to request data from airplanes with the status of \"landed\" which means that the airplane has take-off and arrived at the destination airport. Since this project aims to analyze flights from Europe only, especially from Barcelona airport, a second request was made to gather information about all the airports in Spain, Italy, Germany, and France. This second step is to obtain the airports IATA codes to use it as a parameter in the request flight information function. "
   ]
  },
  {
   "cell_type": "code",
   "execution_count": 1,
   "metadata": {},
   "outputs": [],
   "source": [
    "# Importing libraries\n",
    "import pandas as pd\n",
    "import numpy as np\n",
    "import os\n",
    "import pymysql\n",
    "from sqlalchemy import create_engine\n",
    "import re\n",
    "import requests as req\n",
    "import json\n",
    "import datetime\n",
    "import time"
   ]
  },
  {
   "cell_type": "code",
   "execution_count": 2,
   "metadata": {},
   "outputs": [],
   "source": [
    "KEY = 'xxxxxxxxxxxx'\n",
    "\n",
    "BCN = 'BCN'\n",
    "\n",
    "status = 'landed'\n",
    "\n",
    "url = f\"http://aviation-edge.com/v2/public/timetable?key={KEY}&iataCode={BCN}&type=departure&status={status}\"\n"
   ]
  },
  {
   "cell_type": "markdown",
   "metadata": {},
   "source": [
    "## Request flight information function.\n",
    "\n",
    "This function request data from the API using a key or token, the IATA code of the airport of interest and the status which in this case is \"landed\" as mentioned before. "
   ]
  },
  {
   "cell_type": "code",
   "execution_count": 3,
   "metadata": {},
   "outputs": [],
   "source": [
    "def get_data(airport,status = 'landed'):\n",
    "    \n",
    "    KEY = 'xxxxxxxxxxxx'\n",
    "    url = f\"http://aviation-edge.com/v2/public/timetable?key={KEY}&iataCode={airport}&type=departure&status={status}\"    \n",
    "    response = req.get(url)\n",
    "    print(response)\n",
    "    print((datetime.datetime.now()))\n",
    "    json_file = response.json()\n",
    "    #Converting the json file info a Pandas data frame. \n",
    "    if type(json_file) == list:\n",
    "        df_f = pd.DataFrame(json_file)\n",
    "\n",
    "        return df_f\n",
    "    \n",
    "    "
   ]
  },
  {
   "cell_type": "markdown",
   "metadata": {},
   "source": [
    "## Cleaning the data frame. \n",
    "\n",
    "When converting the JSON file into a data frame, the names and values of the columns were in in the shape of a dictionary. Based on this, I had to clean them and only get the information of interest. \n",
    "\n",
    "For example, in the key \"airline\" and wanted to get the \"name\" and the \"iataCode\" values. In order to perform this task, a lambda function was applied as shown in the function below. "
   ]
  },
  {
   "cell_type": "code",
   "execution_count": 4,
   "metadata": {},
   "outputs": [],
   "source": [
    "def clean_data(data_df):\n",
    "    data_df[\"airln_name\"] = data_df[\"airline\"].apply(lambda x: x['name'])\n",
    "    data_df[\"airln_code\"] = data_df[\"airline\"].apply(lambda x: x['iataCode'])\n",
    "    data_df['arri_delay'] = data_df['arrival'].apply(lambda x: x['delay'])\n",
    "    data_df['arri_airpt'] = data_df['arrival'].apply(lambda x: x['iataCode'])\n",
    "    data_df['schd_arri_time'] = data_df['arrival'].apply(lambda x: x['scheduledTime'])\n",
    "    data_df['codeshared'] = data_df['codeshared'].apply(lambda x: x['airline']['name'] if x else None)\n",
    "    data_df['depart_delay'] = data_df['departure'].apply(lambda x: x['delay'])\n",
    "    data_df['depart_airpt'] = data_df['departure'].apply(lambda x: x['iataCode'])\n",
    "    data_df['schd_depart_time'] = data_df['departure'].apply(lambda x: x['scheduledTime'])\n",
    "    data_df['depart_gate'] = data_df['departure'].apply(lambda x: x['gate'])\n",
    "    data_df['depart_terminal'] = data_df['departure'].apply(lambda x: x['terminal'])\n",
    "    data_df['icaonumb'] = data_df['flight'].apply(lambda x: x['icaoNumber'])\n",
    "    data_df['flight'] = data_df['flight'].apply(lambda x: x['number'])\n",
    "    data_df = data_df.drop(['airline','arrival','departure'], axis =1)\n",
    "    \n",
    "    return data_df\n",
    "    "
   ]
  },
  {
   "cell_type": "markdown",
   "metadata": {},
   "source": [
    "## Get airports by country\n",
    "\n",
    "The function below request data from the airports on interest. In this case, the returning data frame does not need to be clean. Moreover, as I only needed the name, IATA code and ISO code from the data frame, a second function was developed.\n",
    "\n",
    "As a final step, a new data frame was created and loaded to the database schema in SQL PRO. "
   ]
  },
  {
   "cell_type": "code",
   "execution_count": 6,
   "metadata": {},
   "outputs": [],
   "source": [
    "def get_data_airpts(country):\n",
    "    \n",
    "    KEY = 'b50bc5-5af08a'\n",
    "    url_airpt = f'https://aviation-edge.com/v2/public/airportDatabase?key={KEY}&codeIso2Country={country}'\n",
    "    \n",
    "    response = req.get(url_airpt)\n",
    "    print(response)\n",
    "    print((datetime.datetime.now()))\n",
    "    json_file = response.json()\n",
    "    df = pd.DataFrame(json_file)\n",
    "    return df"
   ]
  },
  {
   "cell_type": "code",
   "execution_count": 7,
   "metadata": {},
   "outputs": [
    {
     "name": "stdout",
     "output_type": "stream",
     "text": [
      "<Response [200]>\n",
      "2019-07-29 09:15:02.353142\n"
     ]
    }
   ],
   "source": [
    "spain_airpts = get_data_airpts('ES')"
   ]
  },
  {
   "cell_type": "code",
   "execution_count": 8,
   "metadata": {},
   "outputs": [
    {
     "data": {
      "text/html": [
       "<div>\n",
       "<style scoped>\n",
       "    .dataframe tbody tr th:only-of-type {\n",
       "        vertical-align: middle;\n",
       "    }\n",
       "\n",
       "    .dataframe tbody tr th {\n",
       "        vertical-align: top;\n",
       "    }\n",
       "\n",
       "    .dataframe thead th {\n",
       "        text-align: right;\n",
       "    }\n",
       "</style>\n",
       "<table border=\"1\" class=\"dataframe\">\n",
       "  <thead>\n",
       "    <tr style=\"text-align: right;\">\n",
       "      <th></th>\n",
       "      <th>GMT</th>\n",
       "      <th>airportId</th>\n",
       "      <th>codeIataAirport</th>\n",
       "      <th>codeIataCity</th>\n",
       "      <th>codeIcaoAirport</th>\n",
       "      <th>codeIso2Country</th>\n",
       "      <th>geonameId</th>\n",
       "      <th>latitudeAirport</th>\n",
       "      <th>longitudeAirport</th>\n",
       "      <th>nameAirport</th>\n",
       "      <th>nameCountry</th>\n",
       "      <th>phone</th>\n",
       "      <th>timezone</th>\n",
       "    </tr>\n",
       "  </thead>\n",
       "  <tbody>\n",
       "    <tr>\n",
       "      <th>0</th>\n",
       "      <td>1</td>\n",
       "      <td>27</td>\n",
       "      <td>ABC</td>\n",
       "      <td>ABC</td>\n",
       "      <td>LEAB</td>\n",
       "      <td>ES</td>\n",
       "      <td>6299323</td>\n",
       "      <td>38.948334</td>\n",
       "      <td>-1.863333</td>\n",
       "      <td>Los Llanos</td>\n",
       "      <td>Spain</td>\n",
       "      <td></td>\n",
       "      <td>Europe/Madrid</td>\n",
       "    </tr>\n",
       "    <tr>\n",
       "      <th>1</th>\n",
       "      <td>0</td>\n",
       "      <td>55</td>\n",
       "      <td>ACE</td>\n",
       "      <td>ACE</td>\n",
       "      <td>GCRR</td>\n",
       "      <td>ES</td>\n",
       "      <td>6297189</td>\n",
       "      <td>28.950668</td>\n",
       "      <td>-13.609059</td>\n",
       "      <td>Lanzarote</td>\n",
       "      <td>Spain</td>\n",
       "      <td>902 404 704</td>\n",
       "      <td>Atlantic/Canary</td>\n",
       "    </tr>\n",
       "  </tbody>\n",
       "</table>\n",
       "</div>"
      ],
      "text/plain": [
       "  GMT airportId codeIataAirport codeIataCity codeIcaoAirport codeIso2Country  \\\n",
       "0   1        27             ABC          ABC            LEAB              ES   \n",
       "1   0        55             ACE          ACE            GCRR              ES   \n",
       "\n",
       "  geonameId latitudeAirport longitudeAirport nameAirport nameCountry  \\\n",
       "0   6299323       38.948334        -1.863333  Los Llanos       Spain   \n",
       "1   6297189       28.950668       -13.609059   Lanzarote       Spain   \n",
       "\n",
       "         phone         timezone  \n",
       "0                 Europe/Madrid  \n",
       "1  902 404 704  Atlantic/Canary  "
      ]
     },
     "execution_count": 8,
     "metadata": {},
     "output_type": "execute_result"
    }
   ],
   "source": [
    "spain_airpts.head(2)"
   ]
  },
  {
   "cell_type": "code",
   "execution_count": null,
   "metadata": {},
   "outputs": [],
   "source": [
    "# A function to get only the IATA codes from the dataframe from above"
   ]
  },
  {
   "cell_type": "code",
   "execution_count": 9,
   "metadata": {},
   "outputs": [],
   "source": [
    "def get_iata_codes(df_airpts):\n",
    "    airpts_lst = df_airpts['codeIataAirport'].to_list()\n",
    "    country_code = df_airpts['codeIso2Country'].to_list()\n",
    "    name = df_airpts['nameAirport'].to_list()\n",
    "    return airpts_lst,country_code, name"
   ]
  },
  {
   "cell_type": "markdown",
   "metadata": {},
   "source": [
    "## Requesting information from the countries of interest."
   ]
  },
  {
   "cell_type": "markdown",
   "metadata": {},
   "source": [
    "### Spain"
   ]
  },
  {
   "cell_type": "code",
   "execution_count": 10,
   "metadata": {},
   "outputs": [],
   "source": [
    "spain_airpts_lst, country_code_sp, name_airport = get_iata_codes(df_airpts=spain_airpts)\n"
   ]
  },
  {
   "cell_type": "code",
   "execution_count": 11,
   "metadata": {},
   "outputs": [
    {
     "name": "stdout",
     "output_type": "stream",
     "text": [
      "['ABC', 'ACE', 'AEI', 'AGP', 'ALC', 'BCN', 'BIO', 'BJZ', 'CDT', 'CDZ', 'EAS', 'EEL', 'EEM', 'EER', 'EEU', 'FES', 'FGR', 'FUE', 'GEN', 'GGA', 'GMZ', 'GRO', 'GRX', 'HEV', 'HSK', 'IBZ', 'ILD', 'JCU', 'LCG', 'LEI', 'LEN', 'LEU', 'LPA', 'MAD', 'MAH', 'MJV', 'MLN', 'NDO', 'ODB', 'OVD', 'OZI', 'OZL', 'OZP', 'OZU', 'PMI', 'PNA', 'PXS', 'QGN', 'QLQ', 'REU', 'RGS', 'RJL', 'RMU', 'ROZ', 'RRA', 'SCQ', 'SDR', 'SLM', 'SPC', 'SPO', 'SVQ', 'TFN', 'TFS', 'TOJ', 'UER', 'UTL', 'VDE', 'VGO', 'VIT', 'VLC', 'VLL', 'XIV', 'XJB', 'XJI', 'XJJ', 'XJN', 'XJO', 'XJR', 'XJU', 'XOC', 'XOJ', 'XOU', 'XQA', 'XRY', 'XTI', 'XTJ', 'XUA', 'XUF', 'XUT', 'XZZ', 'YJB', 'YJC', 'YJD', 'YJE', 'YJG', 'YJH', 'YJI', 'YJL', 'YJM', 'YJR', 'YJV', 'YJW', 'ZAZ', 'ZRC']\n"
     ]
    }
   ],
   "source": [
    "print(spain_airpts_lst)"
   ]
  },
  {
   "cell_type": "code",
   "execution_count": 13,
   "metadata": {},
   "outputs": [],
   "source": [
    "spain_airports = pd.DataFrame({'country_code':country_code_sp,\n",
    "             'iata_code':spain_airpts_lst,\n",
    "                              'name': name_airport})"
   ]
  },
  {
   "cell_type": "code",
   "execution_count": 13,
   "metadata": {},
   "outputs": [],
   "source": [
    "spain_airports.to_sql('airports',engine, if_exists='append', index=False)"
   ]
  },
  {
   "cell_type": "markdown",
   "metadata": {},
   "source": [
    "### France"
   ]
  },
  {
   "cell_type": "code",
   "execution_count": 12,
   "metadata": {},
   "outputs": [
    {
     "name": "stdout",
     "output_type": "stream",
     "text": [
      "<Response [200]>\n",
      "2019-07-29 09:15:24.899679\n"
     ]
    }
   ],
   "source": [
    "france_airpts = get_data_airpts('FR')"
   ]
  },
  {
   "cell_type": "code",
   "execution_count": 13,
   "metadata": {},
   "outputs": [],
   "source": [
    "france_airpts_lst,country_code_fr, name_airport = get_iata_codes(df_airpts=france_airpts)"
   ]
  },
  {
   "cell_type": "code",
   "execution_count": 16,
   "metadata": {},
   "outputs": [],
   "source": [
    "france_airports = pd.DataFrame({'country_code':country_code_fr,\n",
    "             'iata_code':france_airpts_lst,\n",
    "                              'name': name_airport})"
   ]
  },
  {
   "cell_type": "code",
   "execution_count": 17,
   "metadata": {},
   "outputs": [],
   "source": [
    "france_airports.to_sql('airports',engine, if_exists='append', index=False)"
   ]
  },
  {
   "cell_type": "markdown",
   "metadata": {},
   "source": [
    "### Germany (DE)"
   ]
  },
  {
   "cell_type": "code",
   "execution_count": 14,
   "metadata": {},
   "outputs": [
    {
     "name": "stdout",
     "output_type": "stream",
     "text": [
      "<Response [200]>\n",
      "2019-07-29 09:15:33.430408\n"
     ]
    }
   ],
   "source": [
    "germany_airpts = get_data_airpts('DE')"
   ]
  },
  {
   "cell_type": "code",
   "execution_count": 15,
   "metadata": {},
   "outputs": [],
   "source": [
    "germany_airpts_lst,country_code_de, name_airport = get_iata_codes(df_airpts=germany_airpts)"
   ]
  },
  {
   "cell_type": "code",
   "execution_count": 19,
   "metadata": {},
   "outputs": [],
   "source": [
    "germany_airports = pd.DataFrame({'country_code':country_code_de,\n",
    "             'iata_code':germany_airpts_lst,\n",
    "                              'name': name_airport})"
   ]
  },
  {
   "cell_type": "code",
   "execution_count": 21,
   "metadata": {},
   "outputs": [],
   "source": [
    "germany_airports.to_sql('airports',engine, if_exists='append', index=False)"
   ]
  },
  {
   "cell_type": "markdown",
   "metadata": {},
   "source": [
    "### Italy"
   ]
  },
  {
   "cell_type": "code",
   "execution_count": 16,
   "metadata": {},
   "outputs": [
    {
     "name": "stdout",
     "output_type": "stream",
     "text": [
      "<Response [200]>\n",
      "2019-07-29 09:15:37.816071\n"
     ]
    }
   ],
   "source": [
    "italy_airpts = get_data_airpts('IT')"
   ]
  },
  {
   "cell_type": "code",
   "execution_count": 17,
   "metadata": {},
   "outputs": [],
   "source": [
    "italy_airpts_lst, country_code_it, name_airport = get_iata_codes(df_airpts=italy_airpts)"
   ]
  },
  {
   "cell_type": "code",
   "execution_count": 22,
   "metadata": {},
   "outputs": [],
   "source": [
    "italy_airports = pd.DataFrame({'country_code':country_code_it,\n",
    "             'iata_code':italy_airpts_lst,\n",
    "                              'name': name_airport})"
   ]
  },
  {
   "cell_type": "code",
   "execution_count": 25,
   "metadata": {},
   "outputs": [],
   "source": [
    "italy_airports.to_sql('airports',engine, if_exists='append', index=False)"
   ]
  },
  {
   "cell_type": "markdown",
   "metadata": {},
   "source": [
    "## All countries airports iata codes"
   ]
  },
  {
   "cell_type": "code",
   "execution_count": 18,
   "metadata": {},
   "outputs": [],
   "source": [
    "countries_airpts_lst = spain_airpts_lst + france_airpts_lst + germany_airpts_lst + italy_airpts_lst"
   ]
  },
  {
   "cell_type": "code",
   "execution_count": 19,
   "metadata": {},
   "outputs": [],
   "source": [
    "df_countries_airpt = pd.DataFrame(countries_airpts_lst)"
   ]
  },
  {
   "cell_type": "markdown",
   "metadata": {},
   "source": [
    "# Streaming the data from the API\n",
    "\n",
    "This function calls the \"get_data\" and \"clean_data\" functions described at the beginning using the airports IATA codes gathered trough the \"get_iata_codes function\". "
   ]
  },
  {
   "cell_type": "code",
   "execution_count": null,
   "metadata": {},
   "outputs": [],
   "source": [
    "dict_airpt_df = {}\n",
    "\n",
    "for aipt_code in countries_airpts_lst:\n",
    "    \n",
    "    df_airpt = get_data(airport = f\"{aipt_code}\")\n",
    "    \n",
    "    if type(df_airpt) == pd.core.frame.DataFrame:\n",
    "        df_airpt_clean = clean_data(df_airpt)\n",
    "        dict_airpt_df[aipt_code] = df_airpt_clean\n",
    "        time.sleep(2)\n"
   ]
  },
  {
   "cell_type": "markdown",
   "metadata": {},
   "source": [
    "## Saving and cleaning the data to SQL Pro. \n",
    "\n",
    "Finally, a new function was created to clean the data in terms of data types, null values, and dropping duplicate values and uploading the final results to SQL PRO. "
   ]
  },
  {
   "cell_type": "code",
   "execution_count": 40,
   "metadata": {},
   "outputs": [],
   "source": [
    "from sqlalchemy import create_engine\n",
    "\n",
    "\n",
    "driver = 'mysql+pymysql:'\n",
    "user = 'root'\n",
    "password = 'xxxxxxxxxxxx'\n",
    "ip = '127.0.0.1'\n",
    "database = 'project_4'"
   ]
  },
  {
   "cell_type": "code",
   "execution_count": 41,
   "metadata": {},
   "outputs": [],
   "source": [
    "connection_string = f'{driver}//{user}:{password}@{ip}/{database}'\n",
    "engine = create_engine(connection_string)\n"
   ]
  },
  {
   "cell_type": "code",
   "execution_count": 42,
   "metadata": {},
   "outputs": [],
   "source": [
    "def save_to_sql_clean():\n",
    "    for key, value in dict_airpt_df.items():\n",
    "        \n",
    "        value = value.astype({'schd_arri_time': 'datetime64[ns]','schd_depart_time':'datetime64[ns]'})\n",
    "        value = value[['airln_name', 'airln_code','type', 'codeshared', 'status', 'icaonumb', 'flight','depart_terminal',\\\n",
    "      'depart_gate', 'depart_airpt' ,'schd_depart_time','depart_delay','arri_airpt','schd_arri_time',\\\n",
    "      'arri_delay']]\n",
    "        value['depart_delay'] = value['depart_delay'].fillna(0)\n",
    "        value['arri_delay'] = value['arri_delay'].fillna(0)\n",
    "        value = value.astype({'depart_delay': int,'arri_delay':int})\n",
    "        value = value.drop_duplicates(subset = ['flight','depart_terminal','schd_depart_time', 'depart_delay', \\\n",
    "                              'schd_arri_time', 'arri_delay'], keep='first')\n",
    "        \n",
    "        value.to_sql('flights',engine, if_exists='append', index=False)\n",
    "        \n",
    "        \n",
    "        \n",
    "        "
   ]
  },
  {
   "cell_type": "code",
   "execution_count": 43,
   "metadata": {},
   "outputs": [],
   "source": [
    "save_to_sql_clean()"
   ]
  },
  {
   "cell_type": "code",
   "execution_count": null,
   "metadata": {},
   "outputs": [],
   "source": []
  },
  {
   "cell_type": "code",
   "execution_count": null,
   "metadata": {},
   "outputs": [],
   "source": []
  },
  {
   "cell_type": "code",
   "execution_count": null,
   "metadata": {},
   "outputs": [],
   "source": []
  },
  {
   "cell_type": "code",
   "execution_count": null,
   "metadata": {},
   "outputs": [],
   "source": []
  },
  {
   "cell_type": "code",
   "execution_count": null,
   "metadata": {},
   "outputs": [],
   "source": []
  },
  {
   "cell_type": "code",
   "execution_count": null,
   "metadata": {},
   "outputs": [],
   "source": []
  },
  {
   "cell_type": "code",
   "execution_count": null,
   "metadata": {},
   "outputs": [],
   "source": []
  },
  {
   "cell_type": "code",
   "execution_count": null,
   "metadata": {},
   "outputs": [],
   "source": []
  },
  {
   "cell_type": "code",
   "execution_count": null,
   "metadata": {},
   "outputs": [],
   "source": []
  }
 ],
 "metadata": {
  "kernelspec": {
   "display_name": "ironhack",
   "language": "python",
   "name": "ironhack"
  },
  "language_info": {
   "codemirror_mode": {
    "name": "ipython",
    "version": 3
   },
   "file_extension": ".py",
   "mimetype": "text/x-python",
   "name": "python",
   "nbconvert_exporter": "python",
   "pygments_lexer": "ipython3",
   "version": "3.7.3"
  }
 },
 "nbformat": 4,
 "nbformat_minor": 2
}
