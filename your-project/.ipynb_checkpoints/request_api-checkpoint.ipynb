{
 "cells": [
  {
   "cell_type": "code",
   "execution_count": 59,
   "metadata": {},
   "outputs": [],
   "source": [
    "# Importing libraries\n",
    "import pandas as pd\n",
    "import numpy as np\n",
    "import os\n",
    "import matplotlib.pyplot as plt\n",
    "import seaborn as sns\n",
    "import pymysql\n",
    "from sqlalchemy import create_engine\n",
    "import re\n",
    "import requests as req\n",
    "import json\n",
    "import datetime\n",
    "import time"
   ]
  },
  {
   "cell_type": "code",
   "execution_count": null,
   "metadata": {},
   "outputs": [],
   "source": [
    "KEY = 'b50bc5-5af08a'\n",
    "\n",
    "BCN = 'BCN'\n",
    "\n",
    "status = 'landed'\n",
    "\n",
    "url = f\"http://aviation-edge.com/v2/public/timetable?key={KEY}&iataCode={BCN}&type=departure&status={status}\"\n"
   ]
  },
  {
   "cell_type": "markdown",
   "metadata": {},
   "source": [
    "## Get flight information request"
   ]
  },
  {
   "cell_type": "code",
   "execution_count": 74,
   "metadata": {},
   "outputs": [],
   "source": [
    "def get_data(airport,status = 'landed'):\n",
    "    \n",
    "    KEY = 'b50bc5-5af08a'\n",
    "    url = f\"http://aviation-edge.com/v2/public/timetable?key={KEY}&iataCode={airport}&type=departure&status={status}\"    \n",
    "    response = req.get(url)\n",
    "    print(response)\n",
    "    print((datetime.datetime.now()))\n",
    "    json_file = response.json()\n",
    "    df_f = pd.DataFrame(json_file)\n",
    "    return df_f\n",
    "    "
   ]
  },
  {
   "cell_type": "code",
   "execution_count": 70,
   "metadata": {},
   "outputs": [
    {
     "name": "stdout",
     "output_type": "stream",
     "text": [
      "<Response [200]>\n",
      "2019-07-24 22:12:54.427990\n"
     ]
    }
   ],
   "source": [
    "df_barcelona = get_data(airport='BCN')"
   ]
  },
  {
   "cell_type": "code",
   "execution_count": 75,
   "metadata": {},
   "outputs": [
    {
     "name": "stdout",
     "output_type": "stream",
     "text": [
      "<Response [200]>\n",
      "2019-07-24 22:15:30.622847\n"
     ]
    }
   ],
   "source": [
    "df_madrid = get_data(airport='MAD')"
   ]
  },
  {
   "cell_type": "code",
   "execution_count": 50,
   "metadata": {},
   "outputs": [],
   "source": [
    "def clean_data(data_df):\n",
    "    data_df[\"airln_name\"] = data_df[\"airline\"].apply(lambda x: x['name'])\n",
    "    data_df[\"airln_code\"] = data_df[\"airline\"].apply(lambda x: x['iataCode'])\n",
    "    data_df['arri_delay'] = data_df['arrival'].apply(lambda x: x['delay'])\n",
    "    data_df['arri_airpt'] = data_df['arrival'].apply(lambda x: x['iataCode'])\n",
    "    data_df['schd_arri_time'] = data_df['arrival'].apply(lambda x: x['scheduledTime'])\n",
    "    data_df['codeshared'] = data_df['codeshared'].apply(lambda x: x['airline']['name'] if x else None)\n",
    "    data_df['depart_delay'] = data_df['departure'].apply(lambda x: x['delay'])\n",
    "    data_df['depart_airpt'] = data_df['departure'].apply(lambda x: x['iataCode'])\n",
    "    data_df['schd_depart_time'] = data_df['departure'].apply(lambda x: x['scheduledTime'])\n",
    "    data_df['depart_gate'] = data_df['departure'].apply(lambda x: x['gate'])\n",
    "    data_df['depart_terminal'] = data_df['departure'].apply(lambda x: x['terminal'])\n",
    "    data_df['icaonumb'] = data_df['flight'].apply(lambda x: x['icaoNumber'])\n",
    "    data_df['flight'] = data_df['flight'].apply(lambda x: x['number'])\n",
    "    data_df = data_df.drop(['airline','arrival','departure'], axis =1)\n",
    "    \n",
    "    return data_df\n",
    "    "
   ]
  },
  {
   "cell_type": "code",
   "execution_count": 71,
   "metadata": {},
   "outputs": [],
   "source": [
    "BNC_0 = clean_data(data_df=df_barcelona)"
   ]
  },
  {
   "cell_type": "code",
   "execution_count": 72,
   "metadata": {
    "scrolled": true
   },
   "outputs": [
    {
     "data": {
      "text/html": [
       "<div>\n",
       "<style scoped>\n",
       "    .dataframe tbody tr th:only-of-type {\n",
       "        vertical-align: middle;\n",
       "    }\n",
       "\n",
       "    .dataframe tbody tr th {\n",
       "        vertical-align: top;\n",
       "    }\n",
       "\n",
       "    .dataframe thead th {\n",
       "        text-align: right;\n",
       "    }\n",
       "</style>\n",
       "<table border=\"1\" class=\"dataframe\">\n",
       "  <thead>\n",
       "    <tr style=\"text-align: right;\">\n",
       "      <th></th>\n",
       "      <th>codeshared</th>\n",
       "      <th>flight</th>\n",
       "      <th>status</th>\n",
       "      <th>type</th>\n",
       "      <th>airln_name</th>\n",
       "      <th>airln_code</th>\n",
       "      <th>arri_delay</th>\n",
       "      <th>arri_airpt</th>\n",
       "      <th>schd_arri_time</th>\n",
       "      <th>depart_delay</th>\n",
       "      <th>depart_airpt</th>\n",
       "      <th>schd_depart_time</th>\n",
       "      <th>depart_gate</th>\n",
       "      <th>depart_terminal</th>\n",
       "      <th>icaonumb</th>\n",
       "    </tr>\n",
       "  </thead>\n",
       "  <tbody>\n",
       "    <tr>\n",
       "      <th>0</th>\n",
       "      <td>None</td>\n",
       "      <td>2015</td>\n",
       "      <td>landed</td>\n",
       "      <td>departure</td>\n",
       "      <td>Air Algerie</td>\n",
       "      <td>AH</td>\n",
       "      <td>None</td>\n",
       "      <td>ALG</td>\n",
       "      <td>2019-07-24T20:25:00.000</td>\n",
       "      <td>None</td>\n",
       "      <td>BCN</td>\n",
       "      <td>2019-07-24T20:05:00.000</td>\n",
       "      <td>D16</td>\n",
       "      <td>1</td>\n",
       "      <td>DAH2015</td>\n",
       "    </tr>\n",
       "    <tr>\n",
       "      <th>1</th>\n",
       "      <td>Vueling</td>\n",
       "      <td>5162</td>\n",
       "      <td>landed</td>\n",
       "      <td>departure</td>\n",
       "      <td>Iberia</td>\n",
       "      <td>IB</td>\n",
       "      <td>None</td>\n",
       "      <td>PMI</td>\n",
       "      <td>2019-07-24T21:10:00.000</td>\n",
       "      <td>3</td>\n",
       "      <td>BCN</td>\n",
       "      <td>2019-07-24T20:15:00.000</td>\n",
       "      <td>B40</td>\n",
       "      <td>1</td>\n",
       "      <td>IBE5162</td>\n",
       "    </tr>\n",
       "    <tr>\n",
       "      <th>2</th>\n",
       "      <td>Vueling</td>\n",
       "      <td>3670</td>\n",
       "      <td>landed</td>\n",
       "      <td>departure</td>\n",
       "      <td>Qatar Airways</td>\n",
       "      <td>QR</td>\n",
       "      <td>None</td>\n",
       "      <td>PMI</td>\n",
       "      <td>2019-07-24T21:10:00.000</td>\n",
       "      <td>3</td>\n",
       "      <td>BCN</td>\n",
       "      <td>2019-07-24T20:15:00.000</td>\n",
       "      <td>B40</td>\n",
       "      <td>1</td>\n",
       "      <td>QTR3670</td>\n",
       "    </tr>\n",
       "    <tr>\n",
       "      <th>3</th>\n",
       "      <td>None</td>\n",
       "      <td>3918</td>\n",
       "      <td>landed</td>\n",
       "      <td>departure</td>\n",
       "      <td>Vueling</td>\n",
       "      <td>VY</td>\n",
       "      <td>None</td>\n",
       "      <td>PMI</td>\n",
       "      <td>2019-07-24T21:10:00.000</td>\n",
       "      <td>3</td>\n",
       "      <td>BCN</td>\n",
       "      <td>2019-07-24T20:15:00.000</td>\n",
       "      <td>B40</td>\n",
       "      <td>1</td>\n",
       "      <td>VLG3918</td>\n",
       "    </tr>\n",
       "    <tr>\n",
       "      <th>4</th>\n",
       "      <td>Vueling</td>\n",
       "      <td>5063</td>\n",
       "      <td>landed</td>\n",
       "      <td>departure</td>\n",
       "      <td>Iberia</td>\n",
       "      <td>IB</td>\n",
       "      <td>19</td>\n",
       "      <td>MAH</td>\n",
       "      <td>2019-07-24T20:55:00.000</td>\n",
       "      <td>22</td>\n",
       "      <td>BCN</td>\n",
       "      <td>2019-07-24T20:00:00.000</td>\n",
       "      <td>B68</td>\n",
       "      <td>1</td>\n",
       "      <td>IBE5063</td>\n",
       "    </tr>\n",
       "  </tbody>\n",
       "</table>\n",
       "</div>"
      ],
      "text/plain": [
       "  codeshared flight  status       type     airln_name airln_code arri_delay  \\\n",
       "0       None   2015  landed  departure    Air Algerie         AH       None   \n",
       "1    Vueling   5162  landed  departure         Iberia         IB       None   \n",
       "2    Vueling   3670  landed  departure  Qatar Airways         QR       None   \n",
       "3       None   3918  landed  departure        Vueling         VY       None   \n",
       "4    Vueling   5063  landed  departure         Iberia         IB         19   \n",
       "\n",
       "  arri_airpt           schd_arri_time depart_delay depart_airpt  \\\n",
       "0        ALG  2019-07-24T20:25:00.000         None          BCN   \n",
       "1        PMI  2019-07-24T21:10:00.000            3          BCN   \n",
       "2        PMI  2019-07-24T21:10:00.000            3          BCN   \n",
       "3        PMI  2019-07-24T21:10:00.000            3          BCN   \n",
       "4        MAH  2019-07-24T20:55:00.000           22          BCN   \n",
       "\n",
       "          schd_depart_time depart_gate depart_terminal icaonumb  \n",
       "0  2019-07-24T20:05:00.000         D16               1  DAH2015  \n",
       "1  2019-07-24T20:15:00.000         B40               1  IBE5162  \n",
       "2  2019-07-24T20:15:00.000         B40               1  QTR3670  \n",
       "3  2019-07-24T20:15:00.000         B40               1  VLG3918  \n",
       "4  2019-07-24T20:00:00.000         B68               1  IBE5063  "
      ]
     },
     "execution_count": 72,
     "metadata": {},
     "output_type": "execute_result"
    }
   ],
   "source": [
    "BNC_0.head()"
   ]
  },
  {
   "cell_type": "code",
   "execution_count": 78,
   "metadata": {},
   "outputs": [],
   "source": [
    "BNC_0.to_csv('BNC_0.csv')"
   ]
  },
  {
   "cell_type": "code",
   "execution_count": 76,
   "metadata": {},
   "outputs": [],
   "source": [
    "MAD_0 = clean_data(data_df=df_madrid)"
   ]
  },
  {
   "cell_type": "code",
   "execution_count": 77,
   "metadata": {},
   "outputs": [
    {
     "data": {
      "text/html": [
       "<div>\n",
       "<style scoped>\n",
       "    .dataframe tbody tr th:only-of-type {\n",
       "        vertical-align: middle;\n",
       "    }\n",
       "\n",
       "    .dataframe tbody tr th {\n",
       "        vertical-align: top;\n",
       "    }\n",
       "\n",
       "    .dataframe thead th {\n",
       "        text-align: right;\n",
       "    }\n",
       "</style>\n",
       "<table border=\"1\" class=\"dataframe\">\n",
       "  <thead>\n",
       "    <tr style=\"text-align: right;\">\n",
       "      <th></th>\n",
       "      <th>codeshared</th>\n",
       "      <th>flight</th>\n",
       "      <th>status</th>\n",
       "      <th>type</th>\n",
       "      <th>airln_name</th>\n",
       "      <th>airln_code</th>\n",
       "      <th>arri_delay</th>\n",
       "      <th>arri_airpt</th>\n",
       "      <th>schd_arri_time</th>\n",
       "      <th>depart_delay</th>\n",
       "      <th>depart_airpt</th>\n",
       "      <th>schd_depart_time</th>\n",
       "      <th>depart_gate</th>\n",
       "      <th>depart_terminal</th>\n",
       "      <th>icaonumb</th>\n",
       "    </tr>\n",
       "  </thead>\n",
       "  <tbody>\n",
       "    <tr>\n",
       "      <th>0</th>\n",
       "      <td>Vueling</td>\n",
       "      <td>5825</td>\n",
       "      <td>landed</td>\n",
       "      <td>departure</td>\n",
       "      <td>Iberia</td>\n",
       "      <td>IB</td>\n",
       "      <td>None</td>\n",
       "      <td>IBZ</td>\n",
       "      <td>2019-07-24T20:50:00.000</td>\n",
       "      <td>12</td>\n",
       "      <td>MAD</td>\n",
       "      <td>2019-07-24T19:30:00.000</td>\n",
       "      <td>J42</td>\n",
       "      <td>4</td>\n",
       "      <td>IBE5825</td>\n",
       "    </tr>\n",
       "    <tr>\n",
       "      <th>1</th>\n",
       "      <td>None</td>\n",
       "      <td>3425</td>\n",
       "      <td>landed</td>\n",
       "      <td>departure</td>\n",
       "      <td>Vueling</td>\n",
       "      <td>VY</td>\n",
       "      <td>None</td>\n",
       "      <td>IBZ</td>\n",
       "      <td>2019-07-24T20:50:00.000</td>\n",
       "      <td>12</td>\n",
       "      <td>MAD</td>\n",
       "      <td>2019-07-24T19:30:00.000</td>\n",
       "      <td>J42</td>\n",
       "      <td>4</td>\n",
       "      <td>VLG3425</td>\n",
       "    </tr>\n",
       "    <tr>\n",
       "      <th>2</th>\n",
       "      <td>Iberia</td>\n",
       "      <td>6957</td>\n",
       "      <td>landed</td>\n",
       "      <td>departure</td>\n",
       "      <td>JAL</td>\n",
       "      <td>JL</td>\n",
       "      <td>None</td>\n",
       "      <td>LIS</td>\n",
       "      <td>2019-07-24T20:00:00.000</td>\n",
       "      <td>9</td>\n",
       "      <td>MAD</td>\n",
       "      <td>2019-07-24T19:35:00.000</td>\n",
       "      <td>K69</td>\n",
       "      <td>4</td>\n",
       "      <td>JAL6957</td>\n",
       "    </tr>\n",
       "    <tr>\n",
       "      <th>3</th>\n",
       "      <td>Iberia</td>\n",
       "      <td>7149</td>\n",
       "      <td>landed</td>\n",
       "      <td>departure</td>\n",
       "      <td>LATAM Airlines</td>\n",
       "      <td>LA</td>\n",
       "      <td>None</td>\n",
       "      <td>LIS</td>\n",
       "      <td>2019-07-24T20:00:00.000</td>\n",
       "      <td>9</td>\n",
       "      <td>MAD</td>\n",
       "      <td>2019-07-24T19:35:00.000</td>\n",
       "      <td>K69</td>\n",
       "      <td>4</td>\n",
       "      <td>LAN7149</td>\n",
       "    </tr>\n",
       "    <tr>\n",
       "      <th>4</th>\n",
       "      <td>Iberia</td>\n",
       "      <td>6875</td>\n",
       "      <td>landed</td>\n",
       "      <td>departure</td>\n",
       "      <td>Qatar Airways</td>\n",
       "      <td>QR</td>\n",
       "      <td>None</td>\n",
       "      <td>LIS</td>\n",
       "      <td>2019-07-24T20:00:00.000</td>\n",
       "      <td>9</td>\n",
       "      <td>MAD</td>\n",
       "      <td>2019-07-24T19:35:00.000</td>\n",
       "      <td>K69</td>\n",
       "      <td>4</td>\n",
       "      <td>QTR6875</td>\n",
       "    </tr>\n",
       "  </tbody>\n",
       "</table>\n",
       "</div>"
      ],
      "text/plain": [
       "  codeshared flight  status       type      airln_name airln_code arri_delay  \\\n",
       "0    Vueling   5825  landed  departure          Iberia         IB       None   \n",
       "1       None   3425  landed  departure         Vueling         VY       None   \n",
       "2     Iberia   6957  landed  departure             JAL         JL       None   \n",
       "3     Iberia   7149  landed  departure  LATAM Airlines         LA       None   \n",
       "4     Iberia   6875  landed  departure   Qatar Airways         QR       None   \n",
       "\n",
       "  arri_airpt           schd_arri_time depart_delay depart_airpt  \\\n",
       "0        IBZ  2019-07-24T20:50:00.000           12          MAD   \n",
       "1        IBZ  2019-07-24T20:50:00.000           12          MAD   \n",
       "2        LIS  2019-07-24T20:00:00.000            9          MAD   \n",
       "3        LIS  2019-07-24T20:00:00.000            9          MAD   \n",
       "4        LIS  2019-07-24T20:00:00.000            9          MAD   \n",
       "\n",
       "          schd_depart_time depart_gate depart_terminal icaonumb  \n",
       "0  2019-07-24T19:30:00.000         J42               4  IBE5825  \n",
       "1  2019-07-24T19:30:00.000         J42               4  VLG3425  \n",
       "2  2019-07-24T19:35:00.000         K69               4  JAL6957  \n",
       "3  2019-07-24T19:35:00.000         K69               4  LAN7149  \n",
       "4  2019-07-24T19:35:00.000         K69               4  QTR6875  "
      ]
     },
     "execution_count": 77,
     "metadata": {},
     "output_type": "execute_result"
    }
   ],
   "source": [
    "MAD_0.head()"
   ]
  },
  {
   "cell_type": "code",
   "execution_count": 79,
   "metadata": {},
   "outputs": [],
   "source": [
    "MAD_0.to_csv('MAD_0.csv')"
   ]
  },
  {
   "cell_type": "markdown",
   "metadata": {},
   "source": [
    "## Get airports by country"
   ]
  },
  {
   "cell_type": "code",
   "execution_count": 16,
   "metadata": {},
   "outputs": [],
   "source": [
    "def get_data_airpts(country):\n",
    "    \n",
    "    KEY = 'b50bc5-5af08a'\n",
    "    url_airpt = f'https://aviation-edge.com/v2/public/airportDatabase?key={KEY}&codeIso2Country={country}'\n",
    "    \n",
    "    response = req.get(url_airpt)\n",
    "    print(response)\n",
    "    print((datetime.datetime.now()))\n",
    "    json_file = response.json()\n",
    "    df = pd.DataFrame(json_file)\n",
    "    return df"
   ]
  },
  {
   "cell_type": "code",
   "execution_count": 17,
   "metadata": {},
   "outputs": [
    {
     "name": "stdout",
     "output_type": "stream",
     "text": [
      "<Response [200]>\n",
      "2019-07-24 19:58:50.047909\n"
     ]
    }
   ],
   "source": [
    "spain_airpts = get_data_airpts('ES')"
   ]
  },
  {
   "cell_type": "code",
   "execution_count": 19,
   "metadata": {},
   "outputs": [
    {
     "data": {
      "text/html": [
       "<div>\n",
       "<style scoped>\n",
       "    .dataframe tbody tr th:only-of-type {\n",
       "        vertical-align: middle;\n",
       "    }\n",
       "\n",
       "    .dataframe tbody tr th {\n",
       "        vertical-align: top;\n",
       "    }\n",
       "\n",
       "    .dataframe thead th {\n",
       "        text-align: right;\n",
       "    }\n",
       "</style>\n",
       "<table border=\"1\" class=\"dataframe\">\n",
       "  <thead>\n",
       "    <tr style=\"text-align: right;\">\n",
       "      <th></th>\n",
       "      <th>GMT</th>\n",
       "      <th>airportId</th>\n",
       "      <th>codeIataAirport</th>\n",
       "      <th>codeIataCity</th>\n",
       "      <th>codeIcaoAirport</th>\n",
       "      <th>codeIso2Country</th>\n",
       "      <th>geonameId</th>\n",
       "      <th>latitudeAirport</th>\n",
       "      <th>longitudeAirport</th>\n",
       "      <th>nameAirport</th>\n",
       "      <th>nameCountry</th>\n",
       "      <th>phone</th>\n",
       "      <th>timezone</th>\n",
       "    </tr>\n",
       "  </thead>\n",
       "  <tbody>\n",
       "    <tr>\n",
       "      <th>0</th>\n",
       "      <td>1</td>\n",
       "      <td>27</td>\n",
       "      <td>ABC</td>\n",
       "      <td>ABC</td>\n",
       "      <td>LEAB</td>\n",
       "      <td>ES</td>\n",
       "      <td>6299323</td>\n",
       "      <td>38.948334</td>\n",
       "      <td>-1.863333</td>\n",
       "      <td>Los Llanos</td>\n",
       "      <td>Spain</td>\n",
       "      <td></td>\n",
       "      <td>Europe/Madrid</td>\n",
       "    </tr>\n",
       "    <tr>\n",
       "      <th>1</th>\n",
       "      <td>0</td>\n",
       "      <td>55</td>\n",
       "      <td>ACE</td>\n",
       "      <td>ACE</td>\n",
       "      <td>GCRR</td>\n",
       "      <td>ES</td>\n",
       "      <td>6297189</td>\n",
       "      <td>28.950668</td>\n",
       "      <td>-13.609059</td>\n",
       "      <td>Lanzarote</td>\n",
       "      <td>Spain</td>\n",
       "      <td>902 404 704</td>\n",
       "      <td>Atlantic/Canary</td>\n",
       "    </tr>\n",
       "  </tbody>\n",
       "</table>\n",
       "</div>"
      ],
      "text/plain": [
       "  GMT airportId codeIataAirport codeIataCity codeIcaoAirport codeIso2Country  \\\n",
       "0   1        27             ABC          ABC            LEAB              ES   \n",
       "1   0        55             ACE          ACE            GCRR              ES   \n",
       "\n",
       "  geonameId latitudeAirport longitudeAirport nameAirport nameCountry  \\\n",
       "0   6299323       38.948334        -1.863333  Los Llanos       Spain   \n",
       "1   6297189       28.950668       -13.609059   Lanzarote       Spain   \n",
       "\n",
       "         phone         timezone  \n",
       "0                 Europe/Madrid  \n",
       "1  902 404 704  Atlantic/Canary  "
      ]
     },
     "execution_count": 19,
     "metadata": {},
     "output_type": "execute_result"
    }
   ],
   "source": [
    "spain_airpts.head(2)"
   ]
  },
  {
   "cell_type": "code",
   "execution_count": 25,
   "metadata": {},
   "outputs": [],
   "source": [
    "def get_iata_codes(df_airpts):\n",
    "    airpts_lst = df_airpts['codeIataAirport'].to_list()\n",
    "    return airpts_lst"
   ]
  },
  {
   "cell_type": "code",
   "execution_count": 26,
   "metadata": {},
   "outputs": [],
   "source": [
    "spain_airpts_lst = get_iata_codes(df_airpts=spain_airpts)"
   ]
  },
  {
   "cell_type": "code",
   "execution_count": 28,
   "metadata": {},
   "outputs": [
    {
     "name": "stdout",
     "output_type": "stream",
     "text": [
      "['ABC', 'ACE', 'AEI', 'AGP', 'ALC', 'BCN', 'BIO', 'BJZ', 'CDT', 'CDZ', 'EAS', 'EEL', 'EEM', 'EER', 'EEU', 'FES', 'FGR', 'FUE', 'GEN', 'GGA', 'GMZ', 'GRO', 'GRX', 'HEV', 'HSK', 'IBZ', 'ILD', 'JCU', 'LCG', 'LEI', 'LEN', 'LEU', 'LPA', 'MAD', 'MAH', 'MJV', 'MLN', 'NDO', 'ODB', 'OVD', 'OZI', 'OZL', 'OZP', 'OZU', 'PMI', 'PNA', 'PXS', 'QGN', 'QLQ', 'REU', 'RGS', 'RJL', 'RMU', 'ROZ', 'RRA', 'SCQ', 'SDR', 'SLM', 'SPC', 'SPO', 'SVQ', 'TFN', 'TFS', 'TOJ', 'UER', 'UTL', 'VDE', 'VGO', 'VIT', 'VLC', 'VLL', 'XIV', 'XJB', 'XJI', 'XJJ', 'XJN', 'XJO', 'XJR', 'XJU', 'XOC', 'XOJ', 'XOU', 'XQA', 'XRY', 'XTI', 'XTJ', 'XUA', 'XUF', 'XUT', 'XZZ', 'YJB', 'YJC', 'YJD', 'YJE', 'YJG', 'YJH', 'YJI', 'YJL', 'YJM', 'YJR', 'YJV', 'YJW', 'ZAZ', 'ZRC']\n"
     ]
    }
   ],
   "source": [
    "print(spain_airpts_lst)"
   ]
  },
  {
   "cell_type": "code",
   "execution_count": null,
   "metadata": {},
   "outputs": [],
   "source": []
  },
  {
   "cell_type": "code",
   "execution_count": 30,
   "metadata": {},
   "outputs": [
    {
     "name": "stdout",
     "output_type": "stream",
     "text": [
      "<Response [200]>\n",
      "2019-07-24 20:11:16.143197\n"
     ]
    }
   ],
   "source": [
    "france_airpts = get_data_airpts('FR')"
   ]
  },
  {
   "cell_type": "code",
   "execution_count": 31,
   "metadata": {},
   "outputs": [],
   "source": [
    "france_airpts_lst = get_iata_codes(df_airpts=france_airpts)"
   ]
  },
  {
   "cell_type": "code",
   "execution_count": null,
   "metadata": {},
   "outputs": [],
   "source": []
  },
  {
   "cell_type": "code",
   "execution_count": 33,
   "metadata": {},
   "outputs": [
    {
     "name": "stdout",
     "output_type": "stream",
     "text": [
      "<Response [200]>\n",
      "2019-07-24 20:14:16.862687\n"
     ]
    }
   ],
   "source": [
    "germany_airpts = get_data_airpts('DE')"
   ]
  },
  {
   "cell_type": "code",
   "execution_count": 34,
   "metadata": {},
   "outputs": [],
   "source": [
    "germany_airpts_lst = get_iata_codes(df_airpts=germany_airpts)"
   ]
  },
  {
   "cell_type": "code",
   "execution_count": null,
   "metadata": {},
   "outputs": [],
   "source": []
  },
  {
   "cell_type": "code",
   "execution_count": 37,
   "metadata": {},
   "outputs": [
    {
     "name": "stdout",
     "output_type": "stream",
     "text": [
      "<Response [200]>\n",
      "2019-07-24 20:15:25.444477\n"
     ]
    }
   ],
   "source": [
    "italy_airpts = get_data_airpts('IT')"
   ]
  },
  {
   "cell_type": "code",
   "execution_count": 38,
   "metadata": {},
   "outputs": [],
   "source": [
    "italy_airpts_lst = get_iata_codes(df_airpts=italy_airpts)"
   ]
  },
  {
   "cell_type": "code",
   "execution_count": 39,
   "metadata": {},
   "outputs": [
    {
     "name": "stdout",
     "output_type": "stream",
     "text": [
      "['AHO', 'ALL', 'AOI', 'AOT', 'AVB', 'BAU', 'BDS', 'BGY', 'BLQ', 'BLX', 'BRI', 'BRZ', 'BZO', 'BZQ', 'CAG', 'CIA', 'CIY', 'CRV', 'CTA', 'CTJ', 'CUF', 'DCI', 'EBA', 'FCO', 'FLR', 'FNU', 'FOG', 'FOI', 'FRL', 'GBN', 'GOA', 'GRS', 'IBT', 'IMR', 'INP', 'IPR', 'IRR', 'IRT', 'ISH', 'ISR', 'ITT', 'LCC', 'LCV', 'LCZ', 'LIN', 'LMP', 'LTZ', 'MXP', 'NAP', 'NSY', 'OLB', 'PEG', 'PEJ', 'PMF', 'PMO', 'PNL', 'PRJ', 'PSA', 'PSR', 'QSR', 'RAN', 'RCC', 'REG', 'RMI', 'RRO', 'SAY', 'SUF', 'TAR', 'TFC', 'TPS', 'TPY', 'TQR', 'TRN', 'TRS', 'TSF', 'TTB', 'UDN', 'VBS', 'VCE', 'VIC', 'VIF', 'VNZ', 'VRN', 'XIK', 'XIX', 'XNC', 'XRJ', 'XVQ', 'XVY', 'ZAK', 'ZBN', 'ZIE', 'ZIP', 'ZIQ', 'ZJE', 'ZJJ', 'ZJX', 'ZJY', 'ZMF', 'ZMI', 'ZMJ', 'ZMO', 'ZMR', 'ZMS', 'ZRO', 'ZRR', 'ZTC']\n"
     ]
    }
   ],
   "source": [
    "print(italy_airpts_lst)"
   ]
  },
  {
   "cell_type": "code",
   "execution_count": null,
   "metadata": {},
   "outputs": [],
   "source": []
  },
  {
   "cell_type": "code",
   "execution_count": 40,
   "metadata": {},
   "outputs": [],
   "source": [
    "countries_airpts_lst = spain_airpts_lst + france_airpts_lst + germany_airpts_lst + italy_airpts_lst"
   ]
  },
  {
   "cell_type": "code",
   "execution_count": null,
   "metadata": {},
   "outputs": [],
   "source": []
  },
  {
   "cell_type": "markdown",
   "metadata": {},
   "source": [
    "## Wednesday, July 24"
   ]
  },
  {
   "cell_type": "code",
   "execution_count": 82,
   "metadata": {},
   "outputs": [
    {
     "name": "stdout",
     "output_type": "stream",
     "text": [
      "<Response [200]>\n",
      "2019-07-24 22:19:18.932714\n"
     ]
    },
    {
     "ename": "ValueError",
     "evalue": "If using all scalar values, you must pass an index",
     "output_type": "error",
     "traceback": [
      "\u001b[0;31m---------------------------------------------------------------------------\u001b[0m",
      "\u001b[0;31mValueError\u001b[0m                                Traceback (most recent call last)",
      "\u001b[0;32m<ipython-input-82-6e1936edd726>\u001b[0m in \u001b[0;36m<module>\u001b[0;34m\u001b[0m\n\u001b[1;32m      3\u001b[0m \u001b[0;32mfor\u001b[0m \u001b[0maipt_code\u001b[0m \u001b[0;32min\u001b[0m \u001b[0mcountries_airpts_lst\u001b[0m\u001b[0;34m:\u001b[0m\u001b[0;34m\u001b[0m\u001b[0;34m\u001b[0m\u001b[0m\n\u001b[1;32m      4\u001b[0m \u001b[0;34m\u001b[0m\u001b[0m\n\u001b[0;32m----> 5\u001b[0;31m     \u001b[0mdf_airpt\u001b[0m \u001b[0;34m=\u001b[0m \u001b[0mget_data\u001b[0m\u001b[0;34m(\u001b[0m\u001b[0mairport\u001b[0m \u001b[0;34m=\u001b[0m \u001b[0;34mf\"'{aipt_code}'\"\u001b[0m\u001b[0;34m)\u001b[0m\u001b[0;34m\u001b[0m\u001b[0;34m\u001b[0m\u001b[0m\n\u001b[0m\u001b[1;32m      6\u001b[0m     \u001b[0mdf_airpt_clean\u001b[0m \u001b[0;34m=\u001b[0m \u001b[0mclean_data\u001b[0m\u001b[0;34m(\u001b[0m\u001b[0mdf_airpt\u001b[0m\u001b[0;34m)\u001b[0m\u001b[0;34m\u001b[0m\u001b[0;34m\u001b[0m\u001b[0m\n\u001b[1;32m      7\u001b[0m     \u001b[0mdict_airpt_df\u001b[0m\u001b[0;34m[\u001b[0m\u001b[0maipt_code\u001b[0m\u001b[0;34m]\u001b[0m \u001b[0;34m=\u001b[0m \u001b[0mdf_airpt_clean\u001b[0m\u001b[0;34m\u001b[0m\u001b[0;34m\u001b[0m\u001b[0m\n",
      "\u001b[0;32m<ipython-input-74-a8d77d4f290e>\u001b[0m in \u001b[0;36mget_data\u001b[0;34m(airport, status)\u001b[0m\n\u001b[1;32m      7\u001b[0m     \u001b[0mprint\u001b[0m\u001b[0;34m(\u001b[0m\u001b[0;34m(\u001b[0m\u001b[0mdatetime\u001b[0m\u001b[0;34m.\u001b[0m\u001b[0mdatetime\u001b[0m\u001b[0;34m.\u001b[0m\u001b[0mnow\u001b[0m\u001b[0;34m(\u001b[0m\u001b[0;34m)\u001b[0m\u001b[0;34m)\u001b[0m\u001b[0;34m)\u001b[0m\u001b[0;34m\u001b[0m\u001b[0;34m\u001b[0m\u001b[0m\n\u001b[1;32m      8\u001b[0m     \u001b[0mjson_file\u001b[0m \u001b[0;34m=\u001b[0m \u001b[0mresponse\u001b[0m\u001b[0;34m.\u001b[0m\u001b[0mjson\u001b[0m\u001b[0;34m(\u001b[0m\u001b[0;34m)\u001b[0m\u001b[0;34m\u001b[0m\u001b[0;34m\u001b[0m\u001b[0m\n\u001b[0;32m----> 9\u001b[0;31m     \u001b[0mdf_f\u001b[0m \u001b[0;34m=\u001b[0m \u001b[0mpd\u001b[0m\u001b[0;34m.\u001b[0m\u001b[0mDataFrame\u001b[0m\u001b[0;34m(\u001b[0m\u001b[0mjson_file\u001b[0m\u001b[0;34m)\u001b[0m\u001b[0;34m\u001b[0m\u001b[0;34m\u001b[0m\u001b[0m\n\u001b[0m\u001b[1;32m     10\u001b[0m     \u001b[0;32mreturn\u001b[0m \u001b[0mdf_f\u001b[0m\u001b[0;34m\u001b[0m\u001b[0;34m\u001b[0m\u001b[0m\n\u001b[1;32m     11\u001b[0m \u001b[0;34m\u001b[0m\u001b[0m\n",
      "\u001b[0;32m~/anaconda3/envs/ironhack/lib/python3.7/site-packages/pandas/core/frame.py\u001b[0m in \u001b[0;36m__init__\u001b[0;34m(self, data, index, columns, dtype, copy)\u001b[0m\n\u001b[1;32m    390\u001b[0m                                  dtype=dtype, copy=copy)\n\u001b[1;32m    391\u001b[0m         \u001b[0;32melif\u001b[0m \u001b[0misinstance\u001b[0m\u001b[0;34m(\u001b[0m\u001b[0mdata\u001b[0m\u001b[0;34m,\u001b[0m \u001b[0mdict\u001b[0m\u001b[0;34m)\u001b[0m\u001b[0;34m:\u001b[0m\u001b[0;34m\u001b[0m\u001b[0;34m\u001b[0m\u001b[0m\n\u001b[0;32m--> 392\u001b[0;31m             \u001b[0mmgr\u001b[0m \u001b[0;34m=\u001b[0m \u001b[0minit_dict\u001b[0m\u001b[0;34m(\u001b[0m\u001b[0mdata\u001b[0m\u001b[0;34m,\u001b[0m \u001b[0mindex\u001b[0m\u001b[0;34m,\u001b[0m \u001b[0mcolumns\u001b[0m\u001b[0;34m,\u001b[0m \u001b[0mdtype\u001b[0m\u001b[0;34m=\u001b[0m\u001b[0mdtype\u001b[0m\u001b[0;34m)\u001b[0m\u001b[0;34m\u001b[0m\u001b[0;34m\u001b[0m\u001b[0m\n\u001b[0m\u001b[1;32m    393\u001b[0m         \u001b[0;32melif\u001b[0m \u001b[0misinstance\u001b[0m\u001b[0;34m(\u001b[0m\u001b[0mdata\u001b[0m\u001b[0;34m,\u001b[0m \u001b[0mma\u001b[0m\u001b[0;34m.\u001b[0m\u001b[0mMaskedArray\u001b[0m\u001b[0;34m)\u001b[0m\u001b[0;34m:\u001b[0m\u001b[0;34m\u001b[0m\u001b[0;34m\u001b[0m\u001b[0m\n\u001b[1;32m    394\u001b[0m             \u001b[0;32mimport\u001b[0m \u001b[0mnumpy\u001b[0m\u001b[0;34m.\u001b[0m\u001b[0mma\u001b[0m\u001b[0;34m.\u001b[0m\u001b[0mmrecords\u001b[0m \u001b[0;32mas\u001b[0m \u001b[0mmrecords\u001b[0m\u001b[0;34m\u001b[0m\u001b[0;34m\u001b[0m\u001b[0m\n",
      "\u001b[0;32m~/anaconda3/envs/ironhack/lib/python3.7/site-packages/pandas/core/internals/construction.py\u001b[0m in \u001b[0;36minit_dict\u001b[0;34m(data, index, columns, dtype)\u001b[0m\n\u001b[1;32m    210\u001b[0m         \u001b[0marrays\u001b[0m \u001b[0;34m=\u001b[0m \u001b[0;34m[\u001b[0m\u001b[0mdata\u001b[0m\u001b[0;34m[\u001b[0m\u001b[0mk\u001b[0m\u001b[0;34m]\u001b[0m \u001b[0;32mfor\u001b[0m \u001b[0mk\u001b[0m \u001b[0;32min\u001b[0m \u001b[0mkeys\u001b[0m\u001b[0;34m]\u001b[0m\u001b[0;34m\u001b[0m\u001b[0;34m\u001b[0m\u001b[0m\n\u001b[1;32m    211\u001b[0m \u001b[0;34m\u001b[0m\u001b[0m\n\u001b[0;32m--> 212\u001b[0;31m     \u001b[0;32mreturn\u001b[0m \u001b[0marrays_to_mgr\u001b[0m\u001b[0;34m(\u001b[0m\u001b[0marrays\u001b[0m\u001b[0;34m,\u001b[0m \u001b[0mdata_names\u001b[0m\u001b[0;34m,\u001b[0m \u001b[0mindex\u001b[0m\u001b[0;34m,\u001b[0m \u001b[0mcolumns\u001b[0m\u001b[0;34m,\u001b[0m \u001b[0mdtype\u001b[0m\u001b[0;34m=\u001b[0m\u001b[0mdtype\u001b[0m\u001b[0;34m)\u001b[0m\u001b[0;34m\u001b[0m\u001b[0;34m\u001b[0m\u001b[0m\n\u001b[0m\u001b[1;32m    213\u001b[0m \u001b[0;34m\u001b[0m\u001b[0m\n\u001b[1;32m    214\u001b[0m \u001b[0;34m\u001b[0m\u001b[0m\n",
      "\u001b[0;32m~/anaconda3/envs/ironhack/lib/python3.7/site-packages/pandas/core/internals/construction.py\u001b[0m in \u001b[0;36marrays_to_mgr\u001b[0;34m(arrays, arr_names, index, columns, dtype)\u001b[0m\n\u001b[1;32m     49\u001b[0m     \u001b[0;31m# figure out the index, if necessary\u001b[0m\u001b[0;34m\u001b[0m\u001b[0;34m\u001b[0m\u001b[0;34m\u001b[0m\u001b[0m\n\u001b[1;32m     50\u001b[0m     \u001b[0;32mif\u001b[0m \u001b[0mindex\u001b[0m \u001b[0;32mis\u001b[0m \u001b[0;32mNone\u001b[0m\u001b[0;34m:\u001b[0m\u001b[0;34m\u001b[0m\u001b[0;34m\u001b[0m\u001b[0m\n\u001b[0;32m---> 51\u001b[0;31m         \u001b[0mindex\u001b[0m \u001b[0;34m=\u001b[0m \u001b[0mextract_index\u001b[0m\u001b[0;34m(\u001b[0m\u001b[0marrays\u001b[0m\u001b[0;34m)\u001b[0m\u001b[0;34m\u001b[0m\u001b[0;34m\u001b[0m\u001b[0m\n\u001b[0m\u001b[1;32m     52\u001b[0m     \u001b[0;32melse\u001b[0m\u001b[0;34m:\u001b[0m\u001b[0;34m\u001b[0m\u001b[0;34m\u001b[0m\u001b[0m\n\u001b[1;32m     53\u001b[0m         \u001b[0mindex\u001b[0m \u001b[0;34m=\u001b[0m \u001b[0mensure_index\u001b[0m\u001b[0;34m(\u001b[0m\u001b[0mindex\u001b[0m\u001b[0;34m)\u001b[0m\u001b[0;34m\u001b[0m\u001b[0;34m\u001b[0m\u001b[0m\n",
      "\u001b[0;32m~/anaconda3/envs/ironhack/lib/python3.7/site-packages/pandas/core/internals/construction.py\u001b[0m in \u001b[0;36mextract_index\u001b[0;34m(data)\u001b[0m\n\u001b[1;32m    306\u001b[0m \u001b[0;34m\u001b[0m\u001b[0m\n\u001b[1;32m    307\u001b[0m         \u001b[0;32mif\u001b[0m \u001b[0;32mnot\u001b[0m \u001b[0mindexes\u001b[0m \u001b[0;32mand\u001b[0m \u001b[0;32mnot\u001b[0m \u001b[0mraw_lengths\u001b[0m\u001b[0;34m:\u001b[0m\u001b[0;34m\u001b[0m\u001b[0;34m\u001b[0m\u001b[0m\n\u001b[0;32m--> 308\u001b[0;31m             raise ValueError('If using all scalar values, you must pass'\n\u001b[0m\u001b[1;32m    309\u001b[0m                              ' an index')\n\u001b[1;32m    310\u001b[0m \u001b[0;34m\u001b[0m\u001b[0m\n",
      "\u001b[0;31mValueError\u001b[0m: If using all scalar values, you must pass an index"
     ]
    }
   ],
   "source": [
    "dict_airpt_df = {}\n",
    "\n",
    "for aipt_code in countries_airpts_lst:\n",
    "    \n",
    "    df_airpt = get_data(airport = f\"'{aipt_code}'\")\n",
    "    df_airpt_clean = clean_data(df_airpt)\n",
    "    dict_airpt_df[aipt_code] = df_airpt_clean\n",
    "    time.sleep(10)\n"
   ]
  },
  {
   "cell_type": "code",
   "execution_count": null,
   "metadata": {},
   "outputs": [],
   "source": []
  },
  {
   "cell_type": "code",
   "execution_count": null,
   "metadata": {},
   "outputs": [],
   "source": []
  },
  {
   "cell_type": "code",
   "execution_count": null,
   "metadata": {},
   "outputs": [],
   "source": []
  },
  {
   "cell_type": "code",
   "execution_count": null,
   "metadata": {},
   "outputs": [],
   "source": []
  },
  {
   "cell_type": "code",
   "execution_count": null,
   "metadata": {},
   "outputs": [],
   "source": []
  },
  {
   "cell_type": "code",
   "execution_count": null,
   "metadata": {},
   "outputs": [],
   "source": []
  },
  {
   "cell_type": "code",
   "execution_count": null,
   "metadata": {},
   "outputs": [],
   "source": []
  },
  {
   "cell_type": "code",
   "execution_count": null,
   "metadata": {},
   "outputs": [],
   "source": []
  },
  {
   "cell_type": "code",
   "execution_count": null,
   "metadata": {},
   "outputs": [],
   "source": []
  },
  {
   "cell_type": "code",
   "execution_count": null,
   "metadata": {},
   "outputs": [],
   "source": []
  },
  {
   "cell_type": "code",
   "execution_count": null,
   "metadata": {},
   "outputs": [],
   "source": []
  },
  {
   "cell_type": "code",
   "execution_count": null,
   "metadata": {},
   "outputs": [],
   "source": []
  },
  {
   "cell_type": "code",
   "execution_count": null,
   "metadata": {},
   "outputs": [],
   "source": []
  }
 ],
 "metadata": {
  "kernelspec": {
   "display_name": "ironhack",
   "language": "python",
   "name": "ironhack"
  },
  "language_info": {
   "codemirror_mode": {
    "name": "ipython",
    "version": 3
   },
   "file_extension": ".py",
   "mimetype": "text/x-python",
   "name": "python",
   "nbconvert_exporter": "python",
   "pygments_lexer": "ipython3",
   "version": "3.7.3"
  }
 },
 "nbformat": 4,
 "nbformat_minor": 2
}
