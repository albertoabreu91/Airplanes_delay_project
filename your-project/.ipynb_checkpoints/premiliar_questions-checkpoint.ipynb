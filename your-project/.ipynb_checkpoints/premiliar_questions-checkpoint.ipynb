{
 "cells": [
  {
   "cell_type": "markdown",
   "metadata": {},
   "source": [
    "\n",
    "dataset (https://www.kaggle.com/usdot/flight-delays#flights.csv)\n",
    "\n",
    "- The shorter the flight is, the more is likely that it will be delay.\n",
    "\n",
    "- Your are more likely to have a delay flight because of the carrier rather than from weather conditions.\n",
    "\n",
    "- Legacy carriers flights are less likely to be delay than low cost carriers flights. \n",
    "\n",
    "- US airlines are less likely to be delay than the european counterparts. \n",
    "\n",
    "- The average delay time is Spain is longer than in Germany.\n",
    "\n",
    "- Spain is the european country with more delay hours. \n",
    "\n"
   ]
  },
  {
   "cell_type": "code",
   "execution_count": null,
   "metadata": {},
   "outputs": [],
   "source": []
  }
 ],
 "metadata": {
  "kernelspec": {
   "display_name": "ironhack",
   "language": "python",
   "name": "ironhack"
  },
  "language_info": {
   "codemirror_mode": {
    "name": "ipython",
    "version": 3
   },
   "file_extension": ".py",
   "mimetype": "text/x-python",
   "name": "python",
   "nbconvert_exporter": "python",
   "pygments_lexer": "ipython3",
   "version": "3.7.3"
  }
 },
 "nbformat": 4,
 "nbformat_minor": 2
}
