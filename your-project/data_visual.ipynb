{
 "cells": [
  {
   "cell_type": "code",
   "execution_count": 46,
   "metadata": {},
   "outputs": [],
   "source": [
    "%matplotlib inline\n",
    "\n",
    "import matplotlib.pyplot as plt\n",
    "from matplotlib import style\n",
    "import pandas as pd\n",
    "import numpy as np\n",
    "import os\n",
    "\n",
    "import seaborn as sns\n",
    "sns.set()"
   ]
  },
  {
   "cell_type": "code",
   "execution_count": 39,
   "metadata": {},
   "outputs": [],
   "source": []
  },
  {
   "cell_type": "code",
   "execution_count": 45,
   "metadata": {},
   "outputs": [],
   "source": [
    "style.use('seaborn-notebook')"
   ]
  },
  {
   "cell_type": "code",
   "execution_count": 11,
   "metadata": {},
   "outputs": [],
   "source": [
    "data = pd.read_csv('final_data_t.csv').drop('Unnamed: 0', axis =1)"
   ]
  },
  {
   "cell_type": "code",
   "execution_count": 12,
   "metadata": {},
   "outputs": [
    {
     "data": {
      "text/html": [
       "<div>\n",
       "<style scoped>\n",
       "    .dataframe tbody tr th:only-of-type {\n",
       "        vertical-align: middle;\n",
       "    }\n",
       "\n",
       "    .dataframe tbody tr th {\n",
       "        vertical-align: top;\n",
       "    }\n",
       "\n",
       "    .dataframe thead th {\n",
       "        text-align: right;\n",
       "    }\n",
       "</style>\n",
       "<table border=\"1\" class=\"dataframe\">\n",
       "  <thead>\n",
       "    <tr style=\"text-align: right;\">\n",
       "      <th></th>\n",
       "      <th>airln_name</th>\n",
       "      <th>airln_code</th>\n",
       "      <th>type</th>\n",
       "      <th>codeshared</th>\n",
       "      <th>status</th>\n",
       "      <th>icaonumb</th>\n",
       "      <th>flight</th>\n",
       "      <th>depart_terminal</th>\n",
       "      <th>depart_gate</th>\n",
       "      <th>depart_airpt</th>\n",
       "      <th>schd_depart_time</th>\n",
       "      <th>depart_delay</th>\n",
       "      <th>arri_airpt</th>\n",
       "      <th>schd_arri_time</th>\n",
       "      <th>arri_delay</th>\n",
       "    </tr>\n",
       "  </thead>\n",
       "  <tbody>\n",
       "    <tr>\n",
       "      <th>0</th>\n",
       "      <td>Air Algerie</td>\n",
       "      <td>AH</td>\n",
       "      <td>departure</td>\n",
       "      <td>NaN</td>\n",
       "      <td>landed</td>\n",
       "      <td>DAH2015</td>\n",
       "      <td>2015</td>\n",
       "      <td>1</td>\n",
       "      <td>D16</td>\n",
       "      <td>BCN</td>\n",
       "      <td>2019-07-24 20:05:00</td>\n",
       "      <td>0.0</td>\n",
       "      <td>ALG</td>\n",
       "      <td>2019-07-24 20:25:00</td>\n",
       "      <td>0.0</td>\n",
       "    </tr>\n",
       "  </tbody>\n",
       "</table>\n",
       "</div>"
      ],
      "text/plain": [
       "    airln_name airln_code       type codeshared  status icaonumb  flight  \\\n",
       "0  Air Algerie         AH  departure        NaN  landed  DAH2015    2015   \n",
       "\n",
       "  depart_terminal depart_gate depart_airpt     schd_depart_time  depart_delay  \\\n",
       "0               1         D16          BCN  2019-07-24 20:05:00           0.0   \n",
       "\n",
       "  arri_airpt       schd_arri_time  arri_delay  \n",
       "0        ALG  2019-07-24 20:25:00         0.0  "
      ]
     },
     "execution_count": 12,
     "metadata": {},
     "output_type": "execute_result"
    }
   ],
   "source": [
    "data.head(1)"
   ]
  },
  {
   "cell_type": "code",
   "execution_count": null,
   "metadata": {},
   "outputs": [],
   "source": []
  },
  {
   "cell_type": "markdown",
   "metadata": {},
   "source": [
    "### Visualizing the relation between my numerical random variables"
   ]
  },
  {
   "cell_type": "code",
   "execution_count": 124,
   "metadata": {},
   "outputs": [
    {
     "data": {
      "text/plain": [
       "array(['1', '1', '1', '1', '1', '1', '1', '1', '1', '1', '1', '1', '1',\n",
       "       '1', '1', '1', '1', '1', '1', '1', '2', '2', '1', '1', '1', '1',\n",
       "       '1', '1', '1', '1', '1', '1', '1', '2', '1', '1', '1', '1', '1',\n",
       "       '1', '1', '1', '1', '1', '1', '1', '1', '1', '1', '1', '1', '1',\n",
       "       '1', '1', '1', '1', '2', '2', '1', '1', '1', '2', '1', '1', '1',\n",
       "       '1', '1', '1', '1', '1', '1', '1', '1', '2', '2', '1', '1', '1',\n",
       "       '1', '1', '1', '1', '1', '1', '1', '1', '1', '2', '2', '1', '1',\n",
       "       '1', '1', '2', '2', '1', '1', '1', '1', '1', '1', '1', '1', '2',\n",
       "       '1', '1', '1', '1', '1', '1', '1', '1', '1', '1', '1', '1', '1',\n",
       "       '1', '1', '1', '1', '1', '1', '1', '1', '1', '2', '1', '1', '1',\n",
       "       '1', '1', '1', '1', '1', '1', '1', '1', '1', '1', '1', '1', '1',\n",
       "       '1', '1', '1', '1', '1', '1', '2', '1', '1', '1', '1', '1', '1',\n",
       "       '1', '2', '1', '1', '1', '1', '1', '1', '1', '1', '2', '1', '1',\n",
       "       '1', '2', '1', '1', '1', '1', '1', '1', '1', '1', '1', '1', '1',\n",
       "       '1', '1', '1', '1', '1', '1', '2', '1', '2', '1', '1', '1', '1',\n",
       "       '1', '2', '1', '1', '1', '1', '1', '2', '1', '1', '1', '1', '1',\n",
       "       '1', '1', '1', '1', '1', '1', '1', '1', '1', '1', '1', '1', '1',\n",
       "       '1', '1', '1', '1', '1', '1', '1', '1', '1', '1', '1', '2', '1',\n",
       "       '1', '1', '1', '1', '1', '1', '2', '1', '1', '1', '1', '1', '1',\n",
       "       '1', '2', '1', '1', '1', '2', '2', '1', '1', '1', '1', '1', '1',\n",
       "       '1', '1', '1', '4', '4', '4', '4', '4', '4', '4', '4', '4', '4',\n",
       "       '1', '4', '4', '4', '4', '4', '2', '2', '2', '2', '2', '4', '4',\n",
       "       '4', '4', '4', '4', '4', '4', '4', '4', '4', '4', '4', '4', '4',\n",
       "       '4', '4', '4', '4', '4', '4', '4', '4', '4', '4', '4', '4', '4',\n",
       "       '2', '4', '4S', '4S', '4S', '2', '4S', '4', '2', '1', '2', '1',\n",
       "       '2', '2', '4', '2', '2', '4', '4', '2', '4', '4', '2', '4', '4',\n",
       "       '2', '4', '4', '4', '4', '4', '4', '4', '4', '4', '4S', '4', '1',\n",
       "       '4S', '4', '4', '4', '4', '4', '2', '4', '4', '4', '4', '4', '4',\n",
       "       '2', '4', '4', '4', '4', '4', '4', '4', '4', '4', '4', '4', '2',\n",
       "       '4', '4', '4', '4', '4', '4', '4', '4', '4', '4', '4', '4', '4',\n",
       "       '4', '4', '4', '4', '4', '4', '1', '4S', '4', '4', '4S', '1', '4S',\n",
       "       '2', '2', '2', '2', '4', '4', '2', '4', '2', '4S', '2', '4S', '2',\n",
       "       '4S', '2', '4S', '4', '2', '4', '2', '4', '4', '2', '2', '2', '4S',\n",
       "       '2', '2', '4S', '2', '2', '4S', '2', '2', '2', '4S', '2', '4S',\n",
       "       '4S', '4', '4S', '4S', '4S', '4S', '4S', '4', '2', '4', '4', '2',\n",
       "       '4', '2', '1', '2', '2', '2', '2', '2', '4', '2', '2', '4', '2',\n",
       "       '2', '2', '2', '2', '2', '2', '4', '2', '4', '2', '4', '4', '2',\n",
       "       '4', '2', '2', '2', '4', '2', '4', '4', '2', '4S', '4S', '2', '2',\n",
       "       '1', '4', '1', '4', '2', '4', '4', '4', '2', '4S', '2', '2', '4S',\n",
       "       '4S', '4S', '2', '1', '2', '2', '4', '4', '2', '4', '2', '4', '2',\n",
       "       '4', '4', '4', '4', '4', '4', '4', '2', '1', '4', '4', '4', '4',\n",
       "       '4', '4', '4', '4', '2', '4', '4', '2', '2', '4', '1', '2', '1',\n",
       "       '4', '2', '4', '4', '2', '4', '2', '4', '2', '4', '2', '2', '4',\n",
       "       '2', '4', '2', '4', '4', '4', '4', '4', '2', '4', '4', '4', '4',\n",
       "       '4', '4', '4', '2', '2', '2', '2', '2', '2', '2', '4S', '2', '2',\n",
       "       '4', '4', '4', '4', '4', '4', '1', '1', '4', '4', '4', '4', '4',\n",
       "       '2', '4', '4', '4', '4', '4', '2', '4', '4', '2', '2', '4', '4',\n",
       "       '2', '4', '4', '4', '4', '4', '4', '4', '4', '4', '4', '4', '4',\n",
       "       '4', '4', '2', '4', '4', '4', '4', '4', '4', '4', '4', '4', '4',\n",
       "       '4', '4', '4', '4', '4', '4', '4', '4', '2', '4', '2', '4', '4',\n",
       "       '4', '2', '4', '4S', '2', '4S', '4S', '4S', '2', '4S', '4S', '4',\n",
       "       '4', '4', '2', '4', '4', '2', '4', '4', '2', '4', '4', '2', '4',\n",
       "       '4', '4', '2', '4', '4', '4', '2', '4', '4', '4', '4', '2', '4',\n",
       "       '4', '4', '4', '2', '4', '4', '4', '2', '2', '4', '4', '4', '2',\n",
       "       '4', '4', '4', '2', '4', '4', '4', '2', '4', '4', '4', '4', '2',\n",
       "       '4', '2', '4', '4', '4', '4', '2', '4S', '4S', '4', '2', '4', '4',\n",
       "       '4', '4', '2', '4', '4', '4', '2', '4', '4', '4', '4', '2', '4',\n",
       "       '4', '4', '4', '2', '4', '4', '4', '2', '4', '4', '4', '2', '4',\n",
       "       '4', '2', '4', '4', '4', '4', '2', '2', '2', '2', '1', '2', '2',\n",
       "       '2', '2', '2', '2', '2', '4'], dtype=object)"
      ]
     },
     "execution_count": 124,
     "metadata": {},
     "output_type": "execute_result"
    }
   ],
   "source": [
    "data['depart_terminal'].values"
   ]
  },
  {
   "cell_type": "code",
   "execution_count": null,
   "metadata": {},
   "outputs": [],
   "source": []
  },
  {
   "cell_type": "code",
   "execution_count": null,
   "metadata": {},
   "outputs": [],
   "source": []
  },
  {
   "cell_type": "code",
   "execution_count": null,
   "metadata": {},
   "outputs": [],
   "source": []
  },
  {
   "cell_type": "code",
   "execution_count": null,
   "metadata": {},
   "outputs": [],
   "source": []
  },
  {
   "cell_type": "code",
   "execution_count": null,
   "metadata": {},
   "outputs": [],
   "source": []
  },
  {
   "cell_type": "code",
   "execution_count": null,
   "metadata": {},
   "outputs": [],
   "source": []
  },
  {
   "cell_type": "code",
   "execution_count": null,
   "metadata": {},
   "outputs": [],
   "source": []
  },
  {
   "cell_type": "code",
   "execution_count": null,
   "metadata": {},
   "outputs": [],
   "source": []
  },
  {
   "cell_type": "code",
   "execution_count": null,
   "metadata": {},
   "outputs": [],
   "source": []
  },
  {
   "cell_type": "code",
   "execution_count": null,
   "metadata": {},
   "outputs": [],
   "source": []
  },
  {
   "cell_type": "code",
   "execution_count": null,
   "metadata": {},
   "outputs": [],
   "source": []
  },
  {
   "cell_type": "markdown",
   "metadata": {},
   "source": [
    "## Ploting the frequency of the delays in minutes"
   ]
  },
  {
   "cell_type": "code",
   "execution_count": 105,
   "metadata": {},
   "outputs": [],
   "source": [
    "df_delays = data[['depart_delay', 'arri_delay']]"
   ]
  },
  {
   "cell_type": "code",
   "execution_count": 106,
   "metadata": {},
   "outputs": [],
   "source": [
    "df_delays =  df_delays[np.logical_and(df_delays['depart_delay']>0, df_delays['arri_delay']>0)]"
   ]
  },
  {
   "cell_type": "code",
   "execution_count": 108,
   "metadata": {},
   "outputs": [
    {
     "data": {
      "image/png": "[encoded data removed]",
      "text/plain": [
       "<Figure size 1152x576 with 2 Axes>"
      ]
     },
     "metadata": {},
     "output_type": "display_data"
    }
   ],
   "source": [
    "fig, [ax1, ax2] = plt.subplots(1,2, figsize=[16,8])\n",
    "fig.subplots_adjust(hspace=0.5)\n",
    "fig.suptitle('Frequency Distributions of delays', fontweight = 900, fontsize = 20)\n",
    "\n",
    "ax1.hist(df_delays.depart_delay,bins=40)\n",
    "ax1.set_xlabel('Departure_minutes_delay',fontweight = 900, fontsize = 14)\n",
    "ax1.set_ylabel('Frequency',fontweight = 900, fontsize = 14)\n",
    "ax1.grid(linestyle='--', linewidth=0.8)\n",
    "ax1.set_xlim([0, 200])\n",
    "ax1.set_ylim([0, 200])\n",
    "ax1.set_xticks(np.arange(0, 200,15))\n",
    "\n",
    "ax2.hist(df_delays.arri_delay, bins=40)\n",
    "ax2.set_xlabel('Arrival_minutes_delay',fontweight = 900, fontsize = 14)\n",
    "ax2.grid(linestyle='--', linewidth=0.8)\n",
    "ax2.set_xlim([0, 200])\n",
    "ax2.set_ylim([0, 200])\n",
    "ax2.set_xticks(np.arange(0, 200,15))\n",
    "\n",
    "plt.show()"
   ]
  },
  {
   "cell_type": "markdown",
   "metadata": {},
   "source": [
    "### Plotting the summary statistics of the delay variable"
   ]
  },
  {
   "cell_type": "code",
   "execution_count": 121,
   "metadata": {},
   "outputs": [
    {
     "data": {
      "image/png": "[encoded data removed]",
      "text/plain": [
       "<Figure size 504x288 with 2 Axes>"
      ]
     },
     "metadata": {},
     "output_type": "display_data"
    }
   ],
   "source": [
    "fig, [ax1, ax2] = plt.subplots(1,2, figsize=[7,4])\n",
    "fig.subplots_adjust(hspace=0.5)\n",
    "fig.suptitle('Summary statistics of delays', fontweight = 900, fontsize = 20)\n",
    "\n",
    "ax1.boxplot(df_delays.depart_delay, bootstrap=10000, meanline = True,showfliers=False)\n",
    "ax1.set_xlabel('Departure_minutes_delay',fontweight = 900, fontsize = 14)\n",
    "ax1.set_xticks([])\n",
    "\n",
    "ax2.boxplot(df_delays.arri_delay, bootstrap=10000, meanline = True,showfliers=False)\n",
    "ax2.set_xlabel('Arrival_minutes_delay',fontweight = 900, fontsize = 14)\n",
    "ax2.set_xticks([])\n",
    "\n",
    "plt.show()"
   ]
  },
  {
   "cell_type": "code",
   "execution_count": null,
   "metadata": {},
   "outputs": [],
   "source": []
  },
  {
   "cell_type": "code",
   "execution_count": null,
   "metadata": {},
   "outputs": [],
   "source": []
  },
  {
   "cell_type": "code",
   "execution_count": null,
   "metadata": {},
   "outputs": [],
   "source": []
  },
  {
   "cell_type": "code",
   "execution_count": null,
   "metadata": {},
   "outputs": [],
   "source": []
  },
  {
   "cell_type": "code",
   "execution_count": null,
   "metadata": {},
   "outputs": [],
   "source": []
  },
  {
   "cell_type": "code",
   "execution_count": null,
   "metadata": {},
   "outputs": [],
   "source": []
  },
  {
   "cell_type": "code",
   "execution_count": null,
   "metadata": {},
   "outputs": [],
   "source": []
  },
  {
   "cell_type": "code",
   "execution_count": null,
   "metadata": {},
   "outputs": [],
   "source": []
  }
 ],
 "metadata": {
  "kernelspec": {
   "display_name": "ironhack",
   "language": "python",
   "name": "ironhack"
  },
  "language_info": {
   "codemirror_mode": {
    "name": "ipython",
    "version": 3
   },
   "file_extension": ".py",
   "mimetype": "text/x-python",
   "name": "python",
   "nbconvert_exporter": "python",
   "pygments_lexer": "ipython3",
   "version": "3.7.3"
  }
 },
 "nbformat": 4,
 "nbformat_minor": 2
}
