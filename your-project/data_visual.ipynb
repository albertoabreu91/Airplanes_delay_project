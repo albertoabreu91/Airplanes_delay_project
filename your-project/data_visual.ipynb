{
 "cells": [
  {
   "cell_type": "markdown",
   "metadata": {},
   "source": [
    "- Spain is the european country with more delay hours per fly. (1)\n",
    "\n",
    "\n",
    "- The Barcelona airport is the airport with less delays hours in Spain. (2)\n",
    "\n",
    "\n",
    "- Vueling is the air carriers with more delays (3)\n",
    "\n",
    "\n",
    "- The shorter the flight is, the more is likely that it will be delay. (4)\n",
    "\n",
    "\n",
    "- The average delay time is Spain is longer than in Germany. (5)\n",
    "\n",
    "\n",
    "Your are more likely to have a delay flight because of the carrier rather than from weather conditions.\n",
    "\n",
    "Legacy carriers flights are less likely to be delay than low cost carriers flights.\n",
    "\n",
    "US airlines are less likely to be delay than the european counterparts."
   ]
  },
  {
   "cell_type": "code",
   "execution_count": 1,
   "metadata": {},
   "outputs": [],
   "source": [
    "%matplotlib inline\n",
    "\n",
    "import matplotlib.pyplot as plt\n",
    "from matplotlib import style\n",
    "import pandas as pd\n",
    "import numpy as np\n",
    "import os\n",
    "from sqlalchemy import create_engine\n",
    "import seaborn as sns\n",
    "sns.set()"
   ]
  },
  {
   "cell_type": "code",
   "execution_count": 2,
   "metadata": {},
   "outputs": [],
   "source": [
    "driver = 'mysql+pymysql:'\n",
    "user = 'root'\n",
    "password = '19693903'\n",
    "ip = '127.0.0.1'\n",
    "database = 'project_4'"
   ]
  },
  {
   "cell_type": "code",
   "execution_count": 3,
   "metadata": {},
   "outputs": [],
   "source": [
    "connection_string = f'{driver}//{user}:{password}@{ip}/{database}'\n",
    "engine = create_engine(connection_string)"
   ]
  },
  {
   "cell_type": "code",
   "execution_count": 4,
   "metadata": {},
   "outputs": [],
   "source": [
    "query = \"\"\"\n",
    "SELECT *\n",
    "FROM flights\n",
    "\"\"\""
   ]
  },
  {
   "cell_type": "code",
   "execution_count": 49,
   "metadata": {},
   "outputs": [],
   "source": [
    "data = pd.read_sql(query, engine)\n"
   ]
  },
  {
   "cell_type": "code",
   "execution_count": 50,
   "metadata": {
    "scrolled": true
   },
   "outputs": [
    {
     "data": {
      "text/html": [
       "<div>\n",
       "<style scoped>\n",
       "    .dataframe tbody tr th:only-of-type {\n",
       "        vertical-align: middle;\n",
       "    }\n",
       "\n",
       "    .dataframe tbody tr th {\n",
       "        vertical-align: top;\n",
       "    }\n",
       "\n",
       "    .dataframe thead th {\n",
       "        text-align: right;\n",
       "    }\n",
       "</style>\n",
       "<table border=\"1\" class=\"dataframe\">\n",
       "  <thead>\n",
       "    <tr style=\"text-align: right;\">\n",
       "      <th></th>\n",
       "      <th>airln_name</th>\n",
       "      <th>airln_code</th>\n",
       "      <th>type</th>\n",
       "      <th>codeshared</th>\n",
       "      <th>status</th>\n",
       "      <th>icaonumb</th>\n",
       "      <th>flight</th>\n",
       "      <th>depart_terminal</th>\n",
       "      <th>depart_gate</th>\n",
       "      <th>depart_airpt</th>\n",
       "      <th>schd_depart_time</th>\n",
       "      <th>depart_delay</th>\n",
       "      <th>arri_airpt</th>\n",
       "      <th>schd_arri_time</th>\n",
       "      <th>arri_delay</th>\n",
       "    </tr>\n",
       "  </thead>\n",
       "  <tbody>\n",
       "    <tr>\n",
       "      <th>0</th>\n",
       "      <td>Binter Canarias</td>\n",
       "      <td>NT</td>\n",
       "      <td>departure</td>\n",
       "      <td>None</td>\n",
       "      <td>landed</td>\n",
       "      <td>IBB503</td>\n",
       "      <td>503</td>\n",
       "      <td>2</td>\n",
       "      <td>3</td>\n",
       "      <td>ACE</td>\n",
       "      <td>2019-07-25 07:00:00</td>\n",
       "      <td>0</td>\n",
       "      <td>LPA</td>\n",
       "      <td>2019-07-25 07:45:00</td>\n",
       "      <td>0</td>\n",
       "    </tr>\n",
       "    <tr>\n",
       "      <th>1</th>\n",
       "      <td>Ryanair</td>\n",
       "      <td>FR</td>\n",
       "      <td>departure</td>\n",
       "      <td>None</td>\n",
       "      <td>landed</td>\n",
       "      <td>RYR1345</td>\n",
       "      <td>1345</td>\n",
       "      <td>1</td>\n",
       "      <td>2</td>\n",
       "      <td>ACE</td>\n",
       "      <td>2019-07-25 07:45:00</td>\n",
       "      <td>0</td>\n",
       "      <td>SNN</td>\n",
       "      <td>2019-07-25 11:40:00</td>\n",
       "      <td>0</td>\n",
       "    </tr>\n",
       "    <tr>\n",
       "      <th>2</th>\n",
       "      <td>Binter Canarias</td>\n",
       "      <td>NT</td>\n",
       "      <td>departure</td>\n",
       "      <td>None</td>\n",
       "      <td>landed</td>\n",
       "      <td>IBB501</td>\n",
       "      <td>501</td>\n",
       "      <td>2</td>\n",
       "      <td>4</td>\n",
       "      <td>ACE</td>\n",
       "      <td>2019-07-25 08:15:00</td>\n",
       "      <td>0</td>\n",
       "      <td>LPA</td>\n",
       "      <td>2019-07-25 09:00:00</td>\n",
       "      <td>0</td>\n",
       "    </tr>\n",
       "    <tr>\n",
       "      <th>3</th>\n",
       "      <td>Ryanair</td>\n",
       "      <td>FR</td>\n",
       "      <td>departure</td>\n",
       "      <td>None</td>\n",
       "      <td>landed</td>\n",
       "      <td>RYR3547</td>\n",
       "      <td>3547</td>\n",
       "      <td>1</td>\n",
       "      <td>4</td>\n",
       "      <td>ACE</td>\n",
       "      <td>2019-07-25 08:20:00</td>\n",
       "      <td>0</td>\n",
       "      <td>MAD</td>\n",
       "      <td>2019-07-25 11:55:00</td>\n",
       "      <td>0</td>\n",
       "    </tr>\n",
       "    <tr>\n",
       "      <th>4</th>\n",
       "      <td>Binter Canarias</td>\n",
       "      <td>NT</td>\n",
       "      <td>departure</td>\n",
       "      <td>Canarias Airlines</td>\n",
       "      <td>landed</td>\n",
       "      <td>IBB453</td>\n",
       "      <td>453</td>\n",
       "      <td>2</td>\n",
       "      <td>3</td>\n",
       "      <td>ACE</td>\n",
       "      <td>2019-07-25 08:25:00</td>\n",
       "      <td>0</td>\n",
       "      <td>TFN</td>\n",
       "      <td>2019-07-25 09:15:00</td>\n",
       "      <td>0</td>\n",
       "    </tr>\n",
       "  </tbody>\n",
       "</table>\n",
       "</div>"
      ],
      "text/plain": [
       "        airln_name airln_code       type         codeshared  status icaonumb  \\\n",
       "0  Binter Canarias         NT  departure               None  landed   IBB503   \n",
       "1          Ryanair         FR  departure               None  landed  RYR1345   \n",
       "2  Binter Canarias         NT  departure               None  landed   IBB501   \n",
       "3          Ryanair         FR  departure               None  landed  RYR3547   \n",
       "4  Binter Canarias         NT  departure  Canarias Airlines  landed   IBB453   \n",
       "\n",
       "  flight depart_terminal depart_gate depart_airpt    schd_depart_time  \\\n",
       "0    503               2           3          ACE 2019-07-25 07:00:00   \n",
       "1   1345               1           2          ACE 2019-07-25 07:45:00   \n",
       "2    501               2           4          ACE 2019-07-25 08:15:00   \n",
       "3   3547               1           4          ACE 2019-07-25 08:20:00   \n",
       "4    453               2           3          ACE 2019-07-25 08:25:00   \n",
       "\n",
       "   depart_delay arri_airpt      schd_arri_time arri_delay  \n",
       "0             0        LPA 2019-07-25 07:45:00          0  \n",
       "1             0        SNN 2019-07-25 11:40:00          0  \n",
       "2             0        LPA 2019-07-25 09:00:00          0  \n",
       "3             0        MAD 2019-07-25 11:55:00          0  \n",
       "4             0        TFN 2019-07-25 09:15:00          0  "
      ]
     },
     "execution_count": 50,
     "metadata": {},
     "output_type": "execute_result"
    }
   ],
   "source": [
    "data.head()"
   ]
  },
  {
   "cell_type": "code",
   "execution_count": 7,
   "metadata": {},
   "outputs": [],
   "source": [
    "### Deleate duplicates\n",
    "\n",
    "data = data.drop_duplicates(subset = ['flight','depart_terminal','schd_depart_time', 'depart_delay', \\\n",
    "                              'schd_arri_time', 'arri_delay'], keep='first')"
   ]
  },
  {
   "cell_type": "code",
   "execution_count": 51,
   "metadata": {},
   "outputs": [],
   "source": [
    "data = data.astype({'depart_delay': int,'arri_delay':int})"
   ]
  },
  {
   "cell_type": "code",
   "execution_count": 8,
   "metadata": {},
   "outputs": [],
   "source": [
    "style.use('seaborn-notebook')"
   ]
  },
  {
   "cell_type": "code",
   "execution_count": 52,
   "metadata": {},
   "outputs": [
    {
     "name": "stdout",
     "output_type": "stream",
     "text": [
      "<class 'pandas.core.frame.DataFrame'>\n",
      "RangeIndex: 12181 entries, 0 to 12180\n",
      "Data columns (total 15 columns):\n",
      "airln_name          12181 non-null object\n",
      "airln_code          12181 non-null object\n",
      "type                12181 non-null object\n",
      "codeshared          7914 non-null object\n",
      "status              12181 non-null object\n",
      "icaonumb            12121 non-null object\n",
      "flight              12181 non-null object\n",
      "depart_terminal     8844 non-null object\n",
      "depart_gate         9664 non-null object\n",
      "depart_airpt        12181 non-null object\n",
      "schd_depart_time    12180 non-null datetime64[ns]\n",
      "depart_delay        12181 non-null int64\n",
      "arri_airpt          12181 non-null object\n",
      "schd_arri_time      12180 non-null datetime64[ns]\n",
      "arri_delay          12181 non-null int64\n",
      "dtypes: datetime64[ns](2), int64(2), object(11)\n",
      "memory usage: 1.4+ MB\n"
     ]
    }
   ],
   "source": [
    "data.info()"
   ]
  },
  {
   "cell_type": "markdown",
   "metadata": {},
   "source": [
    "### Visualizing the relation between my numerical random variables"
   ]
  },
  {
   "cell_type": "code",
   "execution_count": null,
   "metadata": {},
   "outputs": [],
   "source": []
  },
  {
   "cell_type": "code",
   "execution_count": null,
   "metadata": {},
   "outputs": [],
   "source": []
  },
  {
   "cell_type": "code",
   "execution_count": null,
   "metadata": {},
   "outputs": [],
   "source": []
  },
  {
   "cell_type": "code",
   "execution_count": null,
   "metadata": {},
   "outputs": [],
   "source": []
  },
  {
   "cell_type": "code",
   "execution_count": null,
   "metadata": {},
   "outputs": [],
   "source": []
  },
  {
   "cell_type": "code",
   "execution_count": null,
   "metadata": {},
   "outputs": [],
   "source": []
  },
  {
   "cell_type": "code",
   "execution_count": null,
   "metadata": {},
   "outputs": [],
   "source": []
  },
  {
   "cell_type": "code",
   "execution_count": null,
   "metadata": {},
   "outputs": [],
   "source": []
  },
  {
   "cell_type": "code",
   "execution_count": null,
   "metadata": {},
   "outputs": [],
   "source": []
  },
  {
   "cell_type": "code",
   "execution_count": null,
   "metadata": {},
   "outputs": [],
   "source": []
  },
  {
   "cell_type": "code",
   "execution_count": null,
   "metadata": {},
   "outputs": [],
   "source": []
  },
  {
   "cell_type": "code",
   "execution_count": null,
   "metadata": {},
   "outputs": [],
   "source": []
  },
  {
   "cell_type": "markdown",
   "metadata": {},
   "source": [
    "## Ploting the frequency of the delays in minutes"
   ]
  },
  {
   "cell_type": "code",
   "execution_count": 53,
   "metadata": {},
   "outputs": [],
   "source": [
    "df_delays = data[['depart_delay', 'arri_delay']]"
   ]
  },
  {
   "cell_type": "code",
   "execution_count": 54,
   "metadata": {},
   "outputs": [
    {
     "data": {
      "text/html": [
       "<div>\n",
       "<style scoped>\n",
       "    .dataframe tbody tr th:only-of-type {\n",
       "        vertical-align: middle;\n",
       "    }\n",
       "\n",
       "    .dataframe tbody tr th {\n",
       "        vertical-align: top;\n",
       "    }\n",
       "\n",
       "    .dataframe thead th {\n",
       "        text-align: right;\n",
       "    }\n",
       "</style>\n",
       "<table border=\"1\" class=\"dataframe\">\n",
       "  <thead>\n",
       "    <tr style=\"text-align: right;\">\n",
       "      <th></th>\n",
       "      <th>depart_delay</th>\n",
       "      <th>arri_delay</th>\n",
       "    </tr>\n",
       "  </thead>\n",
       "  <tbody>\n",
       "    <tr>\n",
       "      <th>0</th>\n",
       "      <td>0</td>\n",
       "      <td>0</td>\n",
       "    </tr>\n",
       "    <tr>\n",
       "      <th>1</th>\n",
       "      <td>0</td>\n",
       "      <td>0</td>\n",
       "    </tr>\n",
       "    <tr>\n",
       "      <th>2</th>\n",
       "      <td>0</td>\n",
       "      <td>0</td>\n",
       "    </tr>\n",
       "    <tr>\n",
       "      <th>3</th>\n",
       "      <td>0</td>\n",
       "      <td>0</td>\n",
       "    </tr>\n",
       "    <tr>\n",
       "      <th>4</th>\n",
       "      <td>0</td>\n",
       "      <td>0</td>\n",
       "    </tr>\n",
       "  </tbody>\n",
       "</table>\n",
       "</div>"
      ],
      "text/plain": [
       "   depart_delay  arri_delay\n",
       "0             0           0\n",
       "1             0           0\n",
       "2             0           0\n",
       "3             0           0\n",
       "4             0           0"
      ]
     },
     "execution_count": 54,
     "metadata": {},
     "output_type": "execute_result"
    }
   ],
   "source": [
    "df_delays.head()"
   ]
  },
  {
   "cell_type": "code",
   "execution_count": null,
   "metadata": {},
   "outputs": [],
   "source": []
  },
  {
   "cell_type": "code",
   "execution_count": 55,
   "metadata": {},
   "outputs": [],
   "source": [
    "df_delays =  df_delays[np.logical_and(df_delays['depart_delay']>0, df_delays['arri_delay']>0)]"
   ]
  },
  {
   "cell_type": "code",
   "execution_count": 56,
   "metadata": {},
   "outputs": [
    {
     "data": {
      "image/png": "[encoded data removed]",
      "text/plain": [
       "<Figure size 1152x576 with 2 Axes>"
      ]
     },
     "metadata": {
      "needs_background": "light"
     },
     "output_type": "display_data"
    }
   ],
   "source": [
    "fig, [ax1, ax2] = plt.subplots(1,2, figsize=[16,8])\n",
    "fig.subplots_adjust(hspace=0.5)\n",
    "fig.suptitle('Frequency Distributions of delays', fontweight = 900, fontsize = 20)\n",
    "\n",
    "ax1.hist(df_delays.depart_delay,bins=40)\n",
    "ax1.set_xlabel('Departure_minutes_delay',fontweight = 900, fontsize = 14)\n",
    "ax1.set_ylabel('Frequency',fontweight = 900, fontsize = 14)\n",
    "ax1.grid(linestyle='--', linewidth=0.8)\n",
    "ax1.set_xlim([0, 200])\n",
    "\n",
    "ax1.set_xticks(np.arange(0, 200,15))\n",
    "\n",
    "ax2.hist(df_delays.arri_delay, bins=40)\n",
    "ax2.set_xlabel('Arrival_minutes_delay',fontweight = 900, fontsize = 14)\n",
    "ax2.grid(linestyle='--', linewidth=0.8)\n",
    "ax2.set_xlim([0, 200])\n",
    "\n",
    "ax2.set_xticks(np.arange(0, 200,15))\n",
    "\n",
    "plt.show()"
   ]
  },
  {
   "cell_type": "markdown",
   "metadata": {},
   "source": [
    "### Plotting the summary statistics of the delay variable"
   ]
  },
  {
   "cell_type": "code",
   "execution_count": 57,
   "metadata": {},
   "outputs": [
    {
     "data": {
      "image/png": "[encoded data removed]",
      "text/plain": [
       "<Figure size 504x288 with 2 Axes>"
      ]
     },
     "metadata": {
      "needs_background": "light"
     },
     "output_type": "display_data"
    }
   ],
   "source": [
    "fig, [ax1, ax2] = plt.subplots(1,2, figsize=[7,4])\n",
    "fig.subplots_adjust(hspace=0.5)\n",
    "fig.suptitle('Summary statistics of delays', fontweight = 900, fontsize = 20)\n",
    "\n",
    "ax1.boxplot(df_delays.depart_delay, bootstrap=10000, meanline = True,showfliers=False)\n",
    "ax1.set_xlabel('Departure_minutes_delay',fontweight = 900, fontsize = 14)\n",
    "ax1.set_xticks([])\n",
    "\n",
    "ax2.boxplot(df_delays.arri_delay, bootstrap=10000, meanline = True,showfliers=False)\n",
    "ax2.set_xlabel('Arrival_minutes_delay',fontweight = 900, fontsize = 14)\n",
    "ax2.set_xticks([])\n",
    "\n",
    "plt.show()"
   ]
  },
  {
   "cell_type": "code",
   "execution_count": 58,
   "metadata": {},
   "outputs": [],
   "source": [
    "depart_hours = data['schd_depart_time'].dt.hour\n",
    "arri_hours = data['schd_arri_time'].dt.hour"
   ]
  },
  {
   "cell_type": "code",
   "execution_count": 59,
   "metadata": {},
   "outputs": [
    {
     "name": "stderr",
     "output_type": "stream",
     "text": [
      "/Users/abreualberto91/anaconda3/envs/ironhack/lib/python3.7/site-packages/numpy/lib/histograms.py:824: RuntimeWarning: invalid value encountered in greater_equal\n",
      "  keep = (tmp_a >= first_edge)\n",
      "/Users/abreualberto91/anaconda3/envs/ironhack/lib/python3.7/site-packages/numpy/lib/histograms.py:825: RuntimeWarning: invalid value encountered in less_equal\n",
      "  keep &= (tmp_a <= last_edge)\n"
     ]
    },
    {
     "data": {
      "image/png": "[encoded data removed]",
      "text/plain": [
       "<Figure size 1152x576 with 2 Axes>"
      ]
     },
     "metadata": {
      "needs_background": "light"
     },
     "output_type": "display_data"
    }
   ],
   "source": [
    "fig, [ax1, ax2] = plt.subplots(1,2, figsize=[16,8])\n",
    "fig.subplots_adjust(hspace=0.5)\n",
    "fig.suptitle('Frequency Distributions of hours', fontweight = 900, fontsize = 20)\n",
    "\n",
    "ax1.hist(depart_hours)\n",
    "ax1.set_xlabel('time_depart',fontweight = 900, fontsize = 14)\n",
    "ax1.set_ylabel('Frequency',fontweight = 900, fontsize = 14)\n",
    "ax1.grid(linestyle='--', linewidth=0.8)\n",
    "\n",
    "\n",
    "\n",
    "ax2.hist(arri_hours)\n",
    "ax2.set_xlabel('time_arriv',fontweight = 900, fontsize = 14)\n",
    "ax2.grid(linestyle='--', linewidth=0.8)\n",
    "\n",
    "\n",
    "\n",
    "plt.show()"
   ]
  },
  {
   "cell_type": "code",
   "execution_count": 41,
   "metadata": {},
   "outputs": [
    {
     "data": {
      "text/plain": [
       "0        7.0\n",
       "1        7.0\n",
       "2        8.0\n",
       "3        8.0\n",
       "4        8.0\n",
       "6        8.0\n",
       "7        8.0\n",
       "8        9.0\n",
       "10       9.0\n",
       "11      10.0\n",
       "12      10.0\n",
       "13      11.0\n",
       "14      11.0\n",
       "16      11.0\n",
       "17      12.0\n",
       "18       8.0\n",
       "19       9.0\n",
       "20      12.0\n",
       "21       9.0\n",
       "22       9.0\n",
       "23       9.0\n",
       "25      12.0\n",
       "26       9.0\n",
       "27       9.0\n",
       "28       9.0\n",
       "29       9.0\n",
       "30       9.0\n",
       "31       9.0\n",
       "32       9.0\n",
       "33       9.0\n",
       "        ... \n",
       "6364     9.0\n",
       "6365     9.0\n",
       "6366     9.0\n",
       "6367     9.0\n",
       "6368     9.0\n",
       "6369     9.0\n",
       "6370     9.0\n",
       "6371     9.0\n",
       "6372     9.0\n",
       "6373    10.0\n",
       "6374    10.0\n",
       "6375    10.0\n",
       "6376    10.0\n",
       "6377    10.0\n",
       "6378     9.0\n",
       "6379    10.0\n",
       "6381    10.0\n",
       "6382    10.0\n",
       "6383    10.0\n",
       "6384     9.0\n",
       "6385     9.0\n",
       "6386    10.0\n",
       "6387    10.0\n",
       "6388     9.0\n",
       "6389    10.0\n",
       "6390    10.0\n",
       "6391    10.0\n",
       "6392    11.0\n",
       "6393    11.0\n",
       "6394    11.0\n",
       "Name: schd_depart_time, Length: 5908, dtype: float64"
      ]
     },
     "execution_count": 41,
     "metadata": {},
     "output_type": "execute_result"
    }
   ],
   "source": []
  },
  {
   "cell_type": "code",
   "execution_count": null,
   "metadata": {},
   "outputs": [],
   "source": []
  },
  {
   "cell_type": "code",
   "execution_count": null,
   "metadata": {},
   "outputs": [],
   "source": []
  },
  {
   "cell_type": "code",
   "execution_count": null,
   "metadata": {},
   "outputs": [],
   "source": []
  },
  {
   "cell_type": "code",
   "execution_count": null,
   "metadata": {},
   "outputs": [],
   "source": []
  },
  {
   "cell_type": "code",
   "execution_count": null,
   "metadata": {},
   "outputs": [],
   "source": []
  },
  {
   "cell_type": "code",
   "execution_count": null,
   "metadata": {},
   "outputs": [],
   "source": []
  }
 ],
 "metadata": {
  "kernelspec": {
   "display_name": "ironhack",
   "language": "python",
   "name": "ironhack"
  },
  "language_info": {
   "codemirror_mode": {
    "name": "ipython",
    "version": 3
   },
   "file_extension": ".py",
   "mimetype": "text/x-python",
   "name": "python",
   "nbconvert_exporter": "python",
   "pygments_lexer": "ipython3",
   "version": "3.7.3"
  }
 },
 "nbformat": 4,
 "nbformat_minor": 2
}
